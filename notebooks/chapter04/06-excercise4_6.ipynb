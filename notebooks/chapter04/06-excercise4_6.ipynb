{
 "cells": [
  {
   "cell_type": "markdown",
   "metadata": {},
   "source": [
    "# 4.6 無情報事前分布"
   ]
  },
  {
   "cell_type": "markdown",
   "metadata": {},
   "source": [
    "## インポート・設定"
   ]
  },
  {
   "cell_type": "code",
   "execution_count": 31,
   "metadata": {},
   "outputs": [],
   "source": [
    "import dataclasses\n",
    "import warnings\n",
    "from numbers import Number\n",
    "\n",
    "import arviz as az\n",
    "import matplotlib.pyplot as plt\n",
    "import numpy as np\n",
    "import pandas as pd\n",
    "import pymc as pm\n",
    "import seaborn as sns\n",
    "from IPython.display import Math\n",
    "from scipy import special, stats"
   ]
  },
  {
   "cell_type": "code",
   "execution_count": 32,
   "metadata": {},
   "outputs": [],
   "source": [
    "sns.set_theme()\n",
    "warnings.simplefilter(\"ignore\")\n",
    "RANDM_STATE = np.random.default_rng(seed=0)"
   ]
  },
  {
   "cell_type": "markdown",
   "metadata": {},
   "source": [
    "## 解答"
   ]
  },
  {
   "cell_type": "markdown",
   "metadata": {},
   "source": [
    "### モンテカルロサンプリングで求める"
   ]
  },
  {
   "cell_type": "markdown",
   "metadata": {},
   "source": [
    "モンテカルロサンプリングにより、 $\\theta \\sim \\text{Beta}(1, 1)$ からサンプリングを行い、\n",
    "$\\gamma = \\log \\frac{\\theta}{1 - \\theta} = \\text{logit}(\\theta)$ と変換した $\\gamma$ の分布を観察する。"
   ]
  },
  {
   "cell_type": "code",
   "execution_count": 33,
   "metadata": {
    "tags": [
     "hide-cell"
    ]
   },
   "outputs": [],
   "source": [
    "@dataclasses.dataclass\n",
    "class BetaDist:\n",
    "    \"\"\"ベータ分布のパラメータを格納するクラス\"\"\"\n",
    "\n",
    "    a: Number\n",
    "    b: Number\n",
    "\n",
    "    @property\n",
    "    def rv(self):\n",
    "        return stats.beta(a=self.a, b=self.b)\n",
    "\n",
    "    def sample(self, size) -> np.ndarray:\n",
    "        return self.rv.rvs(size=size, random_state=RANDM_STATE)"
   ]
  },
  {
   "cell_type": "code",
   "execution_count": 34,
   "metadata": {},
   "outputs": [
    {
     "data": {
      "text/html": [
       "<div>\n",
       "<style scoped>\n",
       "    .dataframe tbody tr th:only-of-type {\n",
       "        vertical-align: middle;\n",
       "    }\n",
       "\n",
       "    .dataframe tbody tr th {\n",
       "        vertical-align: top;\n",
       "    }\n",
       "\n",
       "    .dataframe thead th {\n",
       "        text-align: right;\n",
       "    }\n",
       "</style>\n",
       "<table border=\"1\" class=\"dataframe\">\n",
       "  <thead>\n",
       "    <tr style=\"text-align: right;\">\n",
       "      <th></th>\n",
       "      <th>theta</th>\n",
       "      <th>gamma</th>\n",
       "    </tr>\n",
       "  </thead>\n",
       "  <tbody>\n",
       "    <tr>\n",
       "      <th>count</th>\n",
       "      <td>1.000000e+06</td>\n",
       "      <td>1000000.000000</td>\n",
       "    </tr>\n",
       "    <tr>\n",
       "      <th>mean</th>\n",
       "      <td>5.000836e-01</td>\n",
       "      <td>0.000674</td>\n",
       "    </tr>\n",
       "    <tr>\n",
       "      <th>std</th>\n",
       "      <td>2.886385e-01</td>\n",
       "      <td>1.812318</td>\n",
       "    </tr>\n",
       "    <tr>\n",
       "      <th>min</th>\n",
       "      <td>7.116599e-07</td>\n",
       "      <td>-14.155665</td>\n",
       "    </tr>\n",
       "    <tr>\n",
       "      <th>25%</th>\n",
       "      <td>2.500168e-01</td>\n",
       "      <td>-1.098522</td>\n",
       "    </tr>\n",
       "    <tr>\n",
       "      <th>50%</th>\n",
       "      <td>5.003146e-01</td>\n",
       "      <td>0.001258</td>\n",
       "    </tr>\n",
       "    <tr>\n",
       "      <th>75%</th>\n",
       "      <td>7.500412e-01</td>\n",
       "      <td>1.098832</td>\n",
       "    </tr>\n",
       "    <tr>\n",
       "      <th>max</th>\n",
       "      <td>9.999990e-01</td>\n",
       "      <td>13.856179</td>\n",
       "    </tr>\n",
       "  </tbody>\n",
       "</table>\n",
       "</div>"
      ],
      "text/plain": [
       "              theta           gamma\n",
       "count  1.000000e+06  1000000.000000\n",
       "mean   5.000836e-01        0.000674\n",
       "std    2.886385e-01        1.812318\n",
       "min    7.116599e-07      -14.155665\n",
       "25%    2.500168e-01       -1.098522\n",
       "50%    5.003146e-01        0.001258\n",
       "75%    7.500412e-01        1.098832\n",
       "max    9.999990e-01       13.856179"
      ]
     },
     "execution_count": 34,
     "metadata": {},
     "output_type": "execute_result"
    }
   ],
   "source": [
    "n_draws = 1_000_000\n",
    "\n",
    "\n",
    "def sample_theta_gamma(n_draws: int):\n",
    "    theta = BetaDist(a=1, b=1).sample(n_draws)\n",
    "    gamma = special.logit(theta)\n",
    "\n",
    "    return pd.DataFrame({\"theta\": theta, \"gamma\": gamma})\n",
    "\n",
    "\n",
    "df_sample = sample_theta_gamma(n_draws)\n",
    "df_sample.describe()"
   ]
  },
  {
   "cell_type": "markdown",
   "metadata": {},
   "source": [
    "歪度と尖度を見てみる。\n",
    "歪度はどちらともゼロに近い値であり、左右対称の分布になっていることが分かる。\n",
    "尖度は、$\\theta$ については $-\\frac{6}{5} = - 1.2$ に近い値となっており、\n",
    "[連続一様分布](https://ja.wikipedia.org/wiki/%E9%80%A3%E7%B6%9A%E4%B8%80%E6%A7%98%E5%88%86%E5%B8%83)\n",
    "の理論値と一致している。\n",
    "$\\gamma$ については、およそ $1.2$ であり、正規分布より大きい尖度を持っていることがわかる。"
   ]
  },
  {
   "cell_type": "code",
   "execution_count": 35,
   "metadata": {},
   "outputs": [
    {
     "data": {
      "text/html": [
       "<div>\n",
       "<style scoped>\n",
       "    .dataframe tbody tr th:only-of-type {\n",
       "        vertical-align: middle;\n",
       "    }\n",
       "\n",
       "    .dataframe tbody tr th {\n",
       "        vertical-align: top;\n",
       "    }\n",
       "\n",
       "    .dataframe thead th {\n",
       "        text-align: right;\n",
       "    }\n",
       "</style>\n",
       "<table border=\"1\" class=\"dataframe\">\n",
       "  <thead>\n",
       "    <tr style=\"text-align: right;\">\n",
       "      <th></th>\n",
       "      <th>theta</th>\n",
       "      <th>gamma</th>\n",
       "    </tr>\n",
       "  </thead>\n",
       "  <tbody>\n",
       "    <tr>\n",
       "      <th>skew</th>\n",
       "      <td>-0.001292</td>\n",
       "      <td>0.004230</td>\n",
       "    </tr>\n",
       "    <tr>\n",
       "      <th>kurt</th>\n",
       "      <td>-1.200908</td>\n",
       "      <td>1.197523</td>\n",
       "    </tr>\n",
       "  </tbody>\n",
       "</table>\n",
       "</div>"
      ],
      "text/plain": [
       "         theta     gamma\n",
       "skew -0.001292  0.004230\n",
       "kurt -1.200908  1.197523"
      ]
     },
     "execution_count": 35,
     "metadata": {},
     "output_type": "execute_result"
    }
   ],
   "source": [
    "df_sample.agg([\"skew\", \"kurt\"])"
   ]
  },
  {
   "cell_type": "markdown",
   "metadata": {},
   "source": [
    "ヒストグラムを描画する。\n",
    "$\\gamma$ は0付近に局在する分布であることがわかる。\n",
    "$\\gamma = \\text{logit}(\\theta)$ は $(-\\infty, \\infty)$ の範囲の値をとりうるので、この $\\gamma$ の分布は無情報分布であるとは言えない。"
   ]
  },
  {
   "cell_type": "code",
   "execution_count": 36,
   "metadata": {},
   "outputs": [
    {
     "data": {
      "image/png": "[encoded data removed]",
      "text/plain": [
       "<Figure size 1200x500 with 2 Axes>"
      ]
     },
     "metadata": {},
     "output_type": "display_data"
    }
   ],
   "source": [
    "def plot_histgram(df_sample):\n",
    "    fig, axes = plt.subplot_mosaic(\"AB\", figsize=(12, 5))\n",
    "    sns.histplot(df_sample, x=\"theta\", ax=axes[\"A\"])\n",
    "    sns.histplot(df_sample, x=\"gamma\", ax=axes[\"B\"])\n",
    "\n",
    "\n",
    "plot_histgram(df_sample)"
   ]
  },
  {
   "cell_type": "markdown",
   "metadata": {},
   "source": [
    "### 解析的に求める"
   ]
  },
  {
   "cell_type": "markdown",
   "metadata": {},
   "source": [
    "$\\theta \\sim \\text{Beta}(1, 1)$ の密度関数:\n",
    "\n",
    "$$\n",
    "p(\\theta) = 1 \\quad (0 \\leq \\theta \\leq 1)\n",
    "$$"
   ]
  },
  {
   "cell_type": "markdown",
   "metadata": {},
   "source": [
    "変数変換 $\\gamma = \\log \\frac{\\theta}{1 - \\theta}$ のヤコビアン:\n",
    "\n",
    "$$\n",
    "\\begin{aligned}\n",
    "\\frac{d \\theta}{d \\gamma}\n",
    "&=\n",
    "\\frac{d}{d \\gamma} \\left \\{ \\frac{e^{\\gamma}}{1 + e^{\\gamma}} \\right\\}\n",
    "\\\\\n",
    "&=\n",
    " \\frac{e^{\\gamma}}{(1 + e^{\\gamma})^2} \n",
    "\\end{aligned}\n",
    "$$"
   ]
  },
  {
   "cell_type": "markdown",
   "metadata": {},
   "source": [
    "$\\gamma$ の密度関数:\n",
    "\n",
    "$$\n",
    "\\begin{aligned}\n",
    "p(\\gamma)\n",
    "&=\n",
    "p(\\theta) \\times \\left | \\frac{d \\theta}{d \\gamma} \\right|\n",
    "\\\\\n",
    "&=\n",
    "1 \\times \\frac{e^{\\gamma}}{(1 + e^{\\gamma})^2} \n",
    "\\\\\n",
    "&=\n",
    "\\frac{e^{\\gamma}}{(1 + e^{\\gamma})^2} \n",
    "\\end{aligned}\n",
    "$$"
   ]
  },
  {
   "cell_type": "markdown",
   "metadata": {},
   "source": [
    "これは [ロジスティック分布](https://en.wikipedia.org/wiki/Logistic_distribution) の密度関数である。"
   ]
  },
  {
   "cell_type": "markdown",
   "metadata": {},
   "source": [
    "ロジスティック分布の分布関数と $\\gamma$ のヒストグラムを比べてみる。\n",
    "きれいに一致することがわかる。"
   ]
  },
  {
   "cell_type": "code",
   "execution_count": 37,
   "metadata": {},
   "outputs": [
    {
     "data": {
      "image/png": "[encoded data removed]",
      "text/plain": [
       "<Figure size 640x480 with 1 Axes>"
      ]
     },
     "metadata": {},
     "output_type": "display_data"
    }
   ],
   "source": [
    "def plot_logistic(df_sample):\n",
    "    ax = sns.histplot(df_sample, x=\"gamma\", stat=\"density\", label=\"histgram\")\n",
    "\n",
    "    x = np.linspace(-15, 15, 300)\n",
    "    pdf = stats.logistic.pdf(x=x)\n",
    "\n",
    "    sns.lineplot(x=x, y=pdf, ax=ax, label=\"logistic pdf\", color=\"tab:orange\")\n",
    "\n",
    "\n",
    "plot_logistic(df_sample)"
   ]
  }
 ],
 "metadata": {
  "kernelspec": {
   "display_name": "Python 3",
   "language": "python",
   "name": "python3"
  },
  "language_info": {
   "codemirror_mode": {
    "name": "ipython",
    "version": 3
   },
   "file_extension": ".py",
   "mimetype": "text/x-python",
   "name": "python",
   "nbconvert_exporter": "python",
   "pygments_lexer": "ipython3",
   "version": "3.9.18"
  }
 },
 "nbformat": 4,
 "nbformat_minor": 2
}
