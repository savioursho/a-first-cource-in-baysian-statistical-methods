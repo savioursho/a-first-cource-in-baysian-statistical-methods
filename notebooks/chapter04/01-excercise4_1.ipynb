{
 "cells": [
  {
   "cell_type": "markdown",
   "metadata": {},
   "source": [
    "# 4.1 事後比較"
   ]
  },
  {
   "cell_type": "markdown",
   "metadata": {},
   "source": [
    "## インポート・設定"
   ]
  },
  {
   "cell_type": "code",
   "execution_count": 1,
   "metadata": {},
   "outputs": [],
   "source": [
    "import dataclasses\n",
    "import warnings\n",
    "from numbers import Number\n",
    "\n",
    "import numpy as np\n",
    "import pandas as pd\n",
    "import seaborn as sns\n",
    "from IPython.display import Markdown\n",
    "from scipy import signal, special, stats\n",
    "\n",
    "sns.set_theme()\n",
    "warnings.simplefilter(\"ignore\")\n",
    "SEED = 0"
   ]
  },
  {
   "cell_type": "markdown",
   "metadata": {},
   "source": [
    "## 解答"
   ]
  },
  {
   "cell_type": "code",
   "execution_count": 2,
   "metadata": {},
   "outputs": [],
   "source": [
    "@dataclasses.dataclass\n",
    "class BinomData:\n",
    "    \"\"\"0,1のデータの調査結果\"\"\"\n",
    "\n",
    "    n: int\n",
    "    y: int\n",
    "\n",
    "\n",
    "@dataclasses.dataclass\n",
    "class BetaDist:\n",
    "    \"\"\"ベータ分布のパラメータを格納するクラス\"\"\"\n",
    "\n",
    "    a: Number\n",
    "    b: Number\n",
    "\n",
    "    def sample(self, size) -> np.ndarray:\n",
    "        return stats.beta.rvs(a=self.a, b=self.b, size=size, random_state=SEED)\n",
    "\n",
    "\n",
    "def get_binomial_model_posterior(n, y, a_prior, b_prior):\n",
    "\n",
    "    # 事後分布のパラメータ\n",
    "    a_posterior = a_prior + y\n",
    "    b_posterior = b_prior + n - y\n",
    "\n",
    "    return BetaDist(a=a_posterior, b=b_posterior)"
   ]
  },
  {
   "cell_type": "markdown",
   "metadata": {},
   "source": [
    "それぞれの地域の政策支持率の調査結果\n",
    "\n",
    "$$\n",
    "\\begin{cases}\n",
    "N_1 = 100 \\\\\n",
    "Y_1 = 57\n",
    "\\end{cases}\n",
    "\n",
    "\\quad\n",
    "\n",
    "\\begin{cases}\n",
    "N_2 = 50 \\\\\n",
    "Y_2 = 30\n",
    "\\end{cases}\n",
    "$$"
   ]
  },
  {
   "cell_type": "code",
   "execution_count": 3,
   "metadata": {},
   "outputs": [
    {
     "name": "stdout",
     "output_type": "stream",
     "text": [
      "Area1: BinomData(n=100, y=57)\n",
      "Area2: BinomData(n=50, y=30)\n"
     ]
    }
   ],
   "source": [
    "# 第1の地域の調査結果\n",
    "data_area1 = BinomData(n=100, y=57)\n",
    "\n",
    "# 第2の地域の調査結果\n",
    "data_area2 = BinomData(n=50, y=30)\n",
    "\n",
    "print(\"Area1:\", data_area1)\n",
    "print(\"Area2:\", data_area2)"
   ]
  },
  {
   "cell_type": "markdown",
   "metadata": {},
   "source": [
    "事前分布を一様分布(=Beta(1, 1))として事後分布を求める"
   ]
  },
  {
   "cell_type": "code",
   "execution_count": 4,
   "metadata": {},
   "outputs": [
    {
     "name": "stdout",
     "output_type": "stream",
     "text": [
      "Posterior of theta1: BetaDist(a=58, b=44)\n",
      "Posterior of theta2: BetaDist(a=31, b=21)\n"
     ]
    }
   ],
   "source": [
    "# 事後分布を求める\n",
    "posterior_area1 = get_binomial_model_posterior(\n",
    "    n=data_area1.n,\n",
    "    y=data_area1.y,\n",
    "    a_prior=1,\n",
    "    b_prior=1,\n",
    ")\n",
    "posterior_area2 = get_binomial_model_posterior(\n",
    "    n=data_area2.n,\n",
    "    y=data_area2.y,\n",
    "    a_prior=1,\n",
    "    b_prior=1,\n",
    ")\n",
    "print(\"Posterior of theta1:\", posterior_area1)\n",
    "print(\"Posterior of theta2:\", posterior_area2)"
   ]
  },
  {
   "cell_type": "markdown",
   "metadata": {},
   "source": [
    "それぞれの事後分布から5000個の値をサンプリングする"
   ]
  },
  {
   "cell_type": "code",
   "execution_count": 5,
   "metadata": {},
   "outputs": [
    {
     "data": {
      "text/html": [
       "<div>\n",
       "<style scoped>\n",
       "    .dataframe tbody tr th:only-of-type {\n",
       "        vertical-align: middle;\n",
       "    }\n",
       "\n",
       "    .dataframe tbody tr th {\n",
       "        vertical-align: top;\n",
       "    }\n",
       "\n",
       "    .dataframe thead th {\n",
       "        text-align: right;\n",
       "    }\n",
       "</style>\n",
       "<table border=\"1\" class=\"dataframe\">\n",
       "  <thead>\n",
       "    <tr style=\"text-align: right;\">\n",
       "      <th></th>\n",
       "      <th>theta1</th>\n",
       "      <th>theta2</th>\n",
       "    </tr>\n",
       "  </thead>\n",
       "  <tbody>\n",
       "    <tr>\n",
       "      <th>count</th>\n",
       "      <td>5000.000000</td>\n",
       "      <td>5000.000000</td>\n",
       "    </tr>\n",
       "    <tr>\n",
       "      <th>mean</th>\n",
       "      <td>0.567845</td>\n",
       "      <td>0.595809</td>\n",
       "    </tr>\n",
       "    <tr>\n",
       "      <th>std</th>\n",
       "      <td>0.048444</td>\n",
       "      <td>0.067086</td>\n",
       "    </tr>\n",
       "    <tr>\n",
       "      <th>min</th>\n",
       "      <td>0.386398</td>\n",
       "      <td>0.344217</td>\n",
       "    </tr>\n",
       "    <tr>\n",
       "      <th>25%</th>\n",
       "      <td>0.534982</td>\n",
       "      <td>0.550675</td>\n",
       "    </tr>\n",
       "    <tr>\n",
       "      <th>50%</th>\n",
       "      <td>0.568667</td>\n",
       "      <td>0.597495</td>\n",
       "    </tr>\n",
       "    <tr>\n",
       "      <th>75%</th>\n",
       "      <td>0.600791</td>\n",
       "      <td>0.642091</td>\n",
       "    </tr>\n",
       "    <tr>\n",
       "      <th>max</th>\n",
       "      <td>0.721266</td>\n",
       "      <td>0.794851</td>\n",
       "    </tr>\n",
       "  </tbody>\n",
       "</table>\n",
       "</div>"
      ],
      "text/plain": [
       "            theta1       theta2\n",
       "count  5000.000000  5000.000000\n",
       "mean      0.567845     0.595809\n",
       "std       0.048444     0.067086\n",
       "min       0.386398     0.344217\n",
       "25%       0.534982     0.550675\n",
       "50%       0.568667     0.597495\n",
       "75%       0.600791     0.642091\n",
       "max       0.721266     0.794851"
      ]
     },
     "execution_count": 5,
     "metadata": {},
     "output_type": "execute_result"
    }
   ],
   "source": [
    "# 事後分布からサンプリングする\n",
    "size = 5000\n",
    "df_sample = pd.DataFrame(\n",
    "    {\n",
    "        \"theta1\": posterior_area1.sample(size),\n",
    "        \"theta2\": posterior_area2.sample(size),\n",
    "    }\n",
    ")\n",
    "df_sample.describe()"
   ]
  },
  {
   "cell_type": "markdown",
   "metadata": {},
   "source": [
    "サンプリングした値の分布を可視化してみる"
   ]
  },
  {
   "cell_type": "code",
   "execution_count": 9,
   "metadata": {},
   "outputs": [
    {
     "data": {
      "image/png": "[encoded data removed]",
      "text/plain": [
       "<Figure size 855.125x500 with 1 Axes>"
      ]
     },
     "metadata": {},
     "output_type": "display_data"
    }
   ],
   "source": [
    "# 事後分布の可視化\n",
    "g = sns.displot(\n",
    "    df_sample,\n",
    "    aspect=1.5,\n",
    ")\n",
    "_ = g.set(title=r\"Distribution of $\\theta_1$ and $\\theta2$\")"
   ]
  },
  {
   "cell_type": "markdown",
   "metadata": {},
   "source": [
    "$\\theta_2$ - $\\theta_1$ の分布を可視化してみる"
   ]
  },
  {
   "cell_type": "code",
   "execution_count": 12,
   "metadata": {},
   "outputs": [
    {
     "data": {
      "image/png": "[encoded data removed]",
      "text/plain": [
       "<Figure size 872x500 with 1 Axes>"
      ]
     },
     "metadata": {},
     "output_type": "display_data"
    }
   ],
   "source": [
    "def plot_difference_of_variables(\n",
    "    df: pd.DataFrame, var1: str, var2: str, title: str = None\n",
    "):\n",
    "    diff = df[var1].sub(df[var2]).values\n",
    "    df_diff = pd.DataFrame()\n",
    "    df_diff[\"negative\"] = np.where(diff < 0, diff, np.nan)\n",
    "    df_diff[\"positive\"] = np.where(diff > 0, diff, np.nan)\n",
    "    g = sns.displot(df_diff, aspect=1.5)\n",
    "    title = title or f\"Ditsribution of {var1} - {var2}\"\n",
    "    g.set(title=title)\n",
    "\n",
    "\n",
    "plot_difference_of_variables(df_sample, \"theta2\", \"theta1\")"
   ]
  },
  {
   "cell_type": "markdown",
   "metadata": {},
   "source": [
    "$Pr(\\theta_1 < \\theta_2 | データと事前分布)$ の推定値を算出する"
   ]
  },
  {
   "cell_type": "code",
   "execution_count": 13,
   "metadata": {},
   "outputs": [
    {
     "data": {
      "text/plain": [
       "0.6932"
      ]
     },
     "execution_count": 13,
     "metadata": {},
     "output_type": "execute_result"
    }
   ],
   "source": [
    "# Pr(theta1 < theta2|データと事前分布)のモンテカルロ近似\n",
    "proba = df_sample[\"theta1\"].lt(df_sample[\"theta2\"]).mean()\n",
    "proba"
   ]
  }
 ],
 "metadata": {
  "kernelspec": {
   "display_name": "Python 3",
   "language": "python",
   "name": "python3"
  },
  "language_info": {
   "codemirror_mode": {
    "name": "ipython",
    "version": 3
   },
   "file_extension": ".py",
   "mimetype": "text/x-python",
   "name": "python",
   "nbconvert_exporter": "python",
   "pygments_lexer": "ipython3",
   "version": "3.9.18"
  }
 },
 "nbformat": 4,
 "nbformat_minor": 2
}
