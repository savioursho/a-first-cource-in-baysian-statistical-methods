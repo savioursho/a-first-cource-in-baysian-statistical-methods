{
 "cells": [
  {
   "cell_type": "markdown",
   "metadata": {},
   "source": [
    "# 4.3 事後予測チェック"
   ]
  },
  {
   "cell_type": "markdown",
   "metadata": {},
   "source": [
    "## インポート・設定"
   ]
  },
  {
   "cell_type": "code",
   "execution_count": 1,
   "metadata": {},
   "outputs": [],
   "source": [
    "import dataclasses\n",
    "import warnings\n",
    "from numbers import Number\n",
    "\n",
    "import matplotlib.pyplot as plt\n",
    "import numpy as np\n",
    "import pandas as pd\n",
    "import seaborn as sns\n",
    "from IPython.display import Markdown\n",
    "from scipy import signal, special, stats"
   ]
  },
  {
   "cell_type": "code",
   "execution_count": 2,
   "metadata": {},
   "outputs": [],
   "source": [
    "sns.set_theme()\n",
    "warnings.simplefilter(\"ignore\")\n",
    "SEED = 0"
   ]
  },
  {
   "cell_type": "markdown",
   "metadata": {},
   "source": [
    "観測データ"
   ]
  },
  {
   "cell_type": "code",
   "execution_count": 74,
   "metadata": {},
   "outputs": [],
   "source": [
    "y_A = np.array([12, 9, 12, 14, 13, 13, 15, 8, 15, 6])"
   ]
  },
  {
   "cell_type": "markdown",
   "metadata": {},
   "source": [
    "事後予測のためのデータセットを生成する。"
   ]
  },
  {
   "cell_type": "code",
   "execution_count": 5,
   "metadata": {},
   "outputs": [],
   "source": [
    "@dataclasses.dataclass\n",
    "class GammaDist:\n",
    "    \"\"\"ガンマ分布のパラメータを格納するクラス\"\"\"\n",
    "\n",
    "    a: Number\n",
    "    b: Number\n",
    "\n",
    "    @property\n",
    "    def rv(self):\n",
    "        return stats.gamma(a=self.a, scale=1 / self.b)\n",
    "\n",
    "    def sample(self, size) -> np.ndarray:\n",
    "        return self.rv.rvs(size=size, random_state=SEED)\n",
    "\n",
    "\n",
    "@dataclasses.dataclass\n",
    "class PoissonDist:\n",
    "    \"\"\"ポアソン分布のパラメータを格納するクラス\"\"\"\n",
    "\n",
    "    mu: Number\n",
    "\n",
    "    @property\n",
    "    def rv(self):\n",
    "        return stats.poisson(self.mu)\n",
    "\n",
    "    def sample(self, size) -> np.ndarray:\n",
    "        return self.rv.rvs(size=size, random_state=SEED)"
   ]
  },
  {
   "cell_type": "code",
   "execution_count": 4,
   "metadata": {},
   "outputs": [
    {
     "data": {
      "text/plain": [
       "GammaDist(a=237, b=20)"
      ]
     },
     "execution_count": 4,
     "metadata": {},
     "output_type": "execute_result"
    }
   ],
   "source": [
    "# 事後分布\n",
    "posterior_A = GammaDist(a=237, b=20)\n",
    "posterior_A"
   ]
  },
  {
   "cell_type": "code",
   "execution_count": 59,
   "metadata": {},
   "outputs": [
    {
     "data": {
      "text/plain": [
       "array([13.24276562, 12.14381022, 13.32877017, 11.09741795, 11.75411496])"
      ]
     },
     "execution_count": 59,
     "metadata": {},
     "output_type": "execute_result"
    }
   ],
   "source": [
    "# 1000個サンプリングする\n",
    "n_samples = 1000\n",
    "theta = posterior_A.sample(size=n_samples)\n",
    "\n",
    "# 5個見てみる\n",
    "theta[:5]"
   ]
  },
  {
   "cell_type": "code",
   "execution_count": 63,
   "metadata": {},
   "outputs": [
    {
     "name": "stdout",
     "output_type": "stream",
     "text": [
      "theta:\t 13.24276561619596\n",
      "sample:\t [14 14 12 12 23 17  6 13  8 13]\n"
     ]
    }
   ],
   "source": [
    "# サンプルサイズ10のサンプルを1000個生成する\n",
    "sample_size = 10\n",
    "dataset = PoissonDist(\n",
    "    theta.reshape(n_samples, 1),\n",
    ").sample(\n",
    "    size=(n_samples, sample_size),\n",
    ")\n",
    "\n",
    "\n",
    "# 1個目のサンプルを見てみる\n",
    "print(\"theta:\\t\", theta[0])\n",
    "print(\"sample:\\t\", dataset[0])"
   ]
  },
  {
   "cell_type": "markdown",
   "metadata": {},
   "source": [
    "## a"
   ]
  },
  {
   "cell_type": "markdown",
   "metadata": {},
   "source": [
    "$t^{(s)}$ を計算する"
   ]
  },
  {
   "cell_type": "code",
   "execution_count": 70,
   "metadata": {},
   "outputs": [
    {
     "name": "stdout",
     "output_type": "stream",
     "text": [
      "size:\t (1000,)\n"
     ]
    },
    {
     "data": {
      "text/plain": [
       "array([3.        , 4.37314282, 4.36132852, 3.66243195, 6.5       ])"
      ]
     },
     "execution_count": 70,
     "metadata": {},
     "output_type": "execute_result"
    }
   ],
   "source": [
    "# 各サンプルに対して、平均/標準偏差を計算する\n",
    "t = dataset.mean(axis=1) / dataset.std(axis=1)\n",
    "print(\"size:\\t\", t.shape)\n",
    "\n",
    "# 5個見てみる\n",
    "t[:5]"
   ]
  },
  {
   "cell_type": "markdown",
   "metadata": {},
   "source": [
    "観測データの$t$を計算する"
   ]
  },
  {
   "cell_type": "code",
   "execution_count": 75,
   "metadata": {},
   "outputs": [
    {
     "data": {
      "text/plain": [
       "3.516123854601306"
      ]
     },
     "execution_count": 75,
     "metadata": {},
     "output_type": "execute_result"
    }
   ],
   "source": [
    "# 観測データのt\n",
    "t_obs = t.mean() / t.std()\n",
    "t_obs"
   ]
  },
  {
   "cell_type": "code",
   "execution_count": 84,
   "metadata": {},
   "outputs": [
    {
     "data": {
      "text/plain": [
       "<matplotlib.legend.Legend at 0x7f113b940880>"
      ]
     },
     "execution_count": 84,
     "metadata": {},
     "output_type": "execute_result"
    },
    {
     "data": {
      "image/png": "[encoded data removed]",
      "text/plain": [
       "<Figure size 750x500 with 1 Axes>"
      ]
     },
     "metadata": {},
     "output_type": "display_data"
    }
   ],
   "source": [
    "sns.displot(\n",
    "    x=t,\n",
    "    aspect=1.5,\n",
    ").set(xlabel=\"t\")\n",
    "plt.vlines(t_obs, *plt.gca().get_ylim(), colors=\"r\", label=\"$t_{obs}$\")\n",
    "plt.legend()"
   ]
  },
  {
   "cell_type": "code",
   "execution_count": null,
   "metadata": {},
   "outputs": [],
   "source": []
  }
 ],
 "metadata": {
  "kernelspec": {
   "display_name": "Python 3",
   "language": "python",
   "name": "python3"
  },
  "language_info": {
   "codemirror_mode": {
    "name": "ipython",
    "version": 3
   },
   "file_extension": ".py",
   "mimetype": "text/x-python",
   "name": "python",
   "nbconvert_exporter": "python",
   "pygments_lexer": "ipython3",
   "version": "3.9.18"
  }
 },
 "nbformat": 4,
 "nbformat_minor": 2
}
