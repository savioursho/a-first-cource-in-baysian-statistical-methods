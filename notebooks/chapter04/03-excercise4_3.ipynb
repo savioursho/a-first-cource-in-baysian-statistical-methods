{
 "cells": [
  {
   "cell_type": "markdown",
   "metadata": {},
   "source": [
    "# 4.3 事後予測チェック"
   ]
  },
  {
   "cell_type": "markdown",
   "metadata": {},
   "source": [
    "## インポート・設定"
   ]
  },
  {
   "cell_type": "code",
   "execution_count": 1,
   "metadata": {},
   "outputs": [],
   "source": [
    "import dataclasses\n",
    "import warnings\n",
    "from numbers import Number\n",
    "\n",
    "import matplotlib.pyplot as plt\n",
    "import numpy as np\n",
    "import pandas as pd\n",
    "import seaborn as sns\n",
    "from scipy import stats"
   ]
  },
  {
   "cell_type": "code",
   "execution_count": 2,
   "metadata": {},
   "outputs": [],
   "source": [
    "sns.set_theme()\n",
    "warnings.simplefilter(\"ignore\")\n",
    "SEED = 0"
   ]
  },
  {
   "cell_type": "markdown",
   "metadata": {},
   "source": [
    "観測データ"
   ]
  },
  {
   "cell_type": "code",
   "execution_count": 3,
   "metadata": {},
   "outputs": [],
   "source": [
    "y_A = np.array([12, 9, 12, 14, 13, 13, 15, 8, 15, 6])"
   ]
  },
  {
   "cell_type": "markdown",
   "metadata": {},
   "source": [
    "事後予測のためのデータセットを生成する。"
   ]
  },
  {
   "cell_type": "code",
   "execution_count": 4,
   "metadata": {},
   "outputs": [],
   "source": [
    "@dataclasses.dataclass\n",
    "class GammaDist:\n",
    "    \"\"\"ガンマ分布のパラメータを格納するクラス\"\"\"\n",
    "\n",
    "    a: Number\n",
    "    b: Number\n",
    "\n",
    "    @property\n",
    "    def rv(self):\n",
    "        return stats.gamma(a=self.a, scale=1 / self.b)\n",
    "\n",
    "    def sample(self, size) -> np.ndarray:\n",
    "        return self.rv.rvs(size=size, random_state=SEED)\n",
    "\n",
    "\n",
    "@dataclasses.dataclass\n",
    "class PoissonDist:\n",
    "    \"\"\"ポアソン分布のパラメータを格納するクラス\"\"\"\n",
    "\n",
    "    mu: Number\n",
    "\n",
    "    @property\n",
    "    def rv(self):\n",
    "        return stats.poisson(self.mu)\n",
    "\n",
    "    def sample(self, size) -> np.ndarray:\n",
    "        return self.rv.rvs(size=size, random_state=SEED)"
   ]
  },
  {
   "cell_type": "code",
   "execution_count": 5,
   "metadata": {},
   "outputs": [],
   "source": [
    "def generate_dataset(\n",
    "    posterior_dist,\n",
    "    n_samples,\n",
    "    sample_size,\n",
    "):\n",
    "\n",
    "    # 事後分布からthetaをサンプリングする\n",
    "    theta = posterior_dist.sample(size=n_samples)\n",
    "\n",
    "    # 事後予測分布からデータyをサンプリングする\n",
    "    dataset = PoissonDist(\n",
    "        theta.reshape(n_samples, 1),\n",
    "    ).sample(\n",
    "        size=(n_samples, sample_size),\n",
    "    )\n",
    "\n",
    "    return type(\"DataSet\", (), dict(theta=theta, dataset=dataset))"
   ]
  },
  {
   "cell_type": "code",
   "execution_count": 6,
   "metadata": {},
   "outputs": [
    {
     "data": {
      "text/plain": [
       "GammaDist(a=237, b=20)"
      ]
     },
     "execution_count": 6,
     "metadata": {},
     "output_type": "execute_result"
    }
   ],
   "source": [
    "# 事後分布\n",
    "posterior_A = GammaDist(a=237, b=20)\n",
    "posterior_A"
   ]
  },
  {
   "cell_type": "code",
   "execution_count": 7,
   "metadata": {},
   "outputs": [
    {
     "name": "stdout",
     "output_type": "stream",
     "text": [
      "thetaのサイズ: (1000,)\n",
      "datasetのサイズ: (1000, 10)\n"
     ]
    }
   ],
   "source": [
    "# データセットを生成する\n",
    "dataset_A = generate_dataset(posterior_A, n_samples=1000, sample_size=10)\n",
    "\n",
    "# サンプルサイズ10のサンプルが1000個できた\n",
    "print(\"thetaのサイズ:\", dataset_A.theta.shape)\n",
    "print(\"datasetのサイズ:\", dataset_A.dataset.shape)"
   ]
  },
  {
   "cell_type": "code",
   "execution_count": 8,
   "metadata": {},
   "outputs": [
    {
     "data": {
      "text/plain": [
       "array([13.24276562, 12.14381022, 13.32877017, 11.09741795, 11.75411496])"
      ]
     },
     "execution_count": 8,
     "metadata": {},
     "output_type": "execute_result"
    }
   ],
   "source": [
    "# thetaを5個見てみる\n",
    "dataset_A.theta[:5]"
   ]
  },
  {
   "cell_type": "code",
   "execution_count": 9,
   "metadata": {},
   "outputs": [
    {
     "name": "stdout",
     "output_type": "stream",
     "text": [
      "theta:\t 13.24276561619596\n",
      "sample:\t [14 14 12 12 23 17  6 13  8 13]\n"
     ]
    }
   ],
   "source": [
    "# 1個目のサンプルを見てみる\n",
    "print(\"theta:\\t\", dataset_A.theta[0])\n",
    "print(\"sample:\\t\", dataset_A.dataset[0])"
   ]
  },
  {
   "cell_type": "markdown",
   "metadata": {},
   "source": [
    "## a"
   ]
  },
  {
   "cell_type": "markdown",
   "metadata": {},
   "source": [
    "$t^{(s)}$ を計算する"
   ]
  },
  {
   "cell_type": "code",
   "execution_count": 10,
   "metadata": {},
   "outputs": [],
   "source": [
    "def calculate_t(\n",
    "    dataset: np.ndarray,\n",
    "    y: np.ndarray,\n",
    "):\n",
    "    return_dict = {}\n",
    "\n",
    "    # 各サンプルに対して、平均/標準偏差を計算してtを算出する\n",
    "    t = dataset.mean(axis=1) / dataset.std(axis=1)\n",
    "    return_dict[\"t\"] = t\n",
    "\n",
    "    # 観測データのt\n",
    "    t_obs = y.mean() / y.std()\n",
    "    return_dict[\"t_obs\"] = t_obs\n",
    "\n",
    "    # シミュレーションデータのtにおける観測データtの分位数\n",
    "    quantile_t_obs = (t <= t_obs).sum() / len(t)\n",
    "    return_dict[\"quantile_t_obs\"] = quantile_t_obs\n",
    "\n",
    "    return type(\"TStatistics\", (), return_dict)"
   ]
  },
  {
   "cell_type": "code",
   "execution_count": 11,
   "metadata": {},
   "outputs": [],
   "source": [
    "t_statistics_A = calculate_t(dataset=dataset_A.dataset, y=y_A)"
   ]
  },
  {
   "cell_type": "code",
   "execution_count": 12,
   "metadata": {},
   "outputs": [
    {
     "data": {
      "text/plain": [
       "array([3.        , 4.37314282, 4.36132852, 3.66243195, 6.5       ])"
      ]
     },
     "execution_count": 12,
     "metadata": {},
     "output_type": "execute_result"
    }
   ],
   "source": [
    "# シミュレーションデータを5個みてみる\n",
    "t_statistics_A.t[:5]"
   ]
  },
  {
   "cell_type": "code",
   "execution_count": 13,
   "metadata": {},
   "outputs": [
    {
     "data": {
      "text/plain": [
       "4.0344827586206895"
      ]
     },
     "execution_count": 13,
     "metadata": {},
     "output_type": "execute_result"
    }
   ],
   "source": [
    "# 観測データのt\n",
    "t_statistics_A.t_obs"
   ]
  },
  {
   "cell_type": "code",
   "execution_count": 14,
   "metadata": {},
   "outputs": [
    {
     "data": {
      "text/plain": [
       "0.621"
      ]
     },
     "execution_count": 14,
     "metadata": {},
     "output_type": "execute_result"
    }
   ],
   "source": [
    "# 観測値のtのシミュレーションデータに対する分位数\n",
    "t_statistics_A.quantile_t_obs"
   ]
  },
  {
   "cell_type": "markdown",
   "metadata": {},
   "source": [
    "シミュレーションデータのヒストグラムの上に観測データを描画する"
   ]
  },
  {
   "cell_type": "code",
   "execution_count": 15,
   "metadata": {},
   "outputs": [],
   "source": [
    "def plot_t_statistics(\n",
    "    t: np.ndarray,\n",
    "    t_obs: float,\n",
    "):\n",
    "    quantile_t_obs = (t <= t_obs).sum() / len(t)\n",
    "\n",
    "    sns.displot(\n",
    "        x=t,\n",
    "        aspect=1.5,\n",
    "    ).set(xlabel=\"t\", title=r\"Histgram of $t^{(s)}$\")\n",
    "    plt.vlines(\n",
    "        t_obs,\n",
    "        *plt.gca().get_ylim(),\n",
    "        colors=\"r\",\n",
    "        label=\"$t_{obs}$\" f\" (quantile = {quantile_t_obs})\",\n",
    "    )\n",
    "    plt.legend()"
   ]
  },
  {
   "cell_type": "code",
   "execution_count": 16,
   "metadata": {},
   "outputs": [
    {
     "data": {
      "image/png": "[encoded data removed]",
      "text/plain": [
       "<Figure size 750x500 with 1 Axes>"
      ]
     },
     "metadata": {},
     "output_type": "display_data"
    }
   ],
   "source": [
    "plot_t_statistics(\n",
    "    t=t_statistics_A.t,\n",
    "    t_obs=t_statistics_A.t_obs,\n",
    ")"
   ]
  },
  {
   "cell_type": "markdown",
   "metadata": {},
   "source": [
    "以上より、観測値から計算した $t$ はシミュレーションデータの最頻値付近にあり、シミュレーションデータの62.1%点にあることがわかった。\n",
    "よって、ポアソンモデルはこの統計量 $t$ の分布をよく表現できていると考えられるため、ポアソンモデルは妥当だといえる。"
   ]
  },
  {
   "cell_type": "markdown",
   "metadata": {},
   "source": [
    "## b"
   ]
  },
  {
   "cell_type": "markdown",
   "metadata": {},
   "source": [
    "群Bに対しても同様の検証を行う"
   ]
  },
  {
   "cell_type": "code",
   "execution_count": 30,
   "metadata": {},
   "outputs": [],
   "source": [
    "y_B = np.array([11, 11, 10, 9, 9, 8, 7, 10, 6, 8, 8, 9, 7])"
   ]
  },
  {
   "cell_type": "code",
   "execution_count": 24,
   "metadata": {},
   "outputs": [
    {
     "data": {
      "text/plain": [
       "GammaDist(a=125, b=14)"
      ]
     },
     "execution_count": 24,
     "metadata": {},
     "output_type": "execute_result"
    }
   ],
   "source": [
    "# 事後分布\n",
    "posterior_B = GammaDist(a=125, b=14)\n",
    "posterior_B"
   ]
  },
  {
   "cell_type": "code",
   "execution_count": 25,
   "metadata": {},
   "outputs": [
    {
     "name": "stdout",
     "output_type": "stream",
     "text": [
      "thetaのサイズ: (1000,)\n",
      "datasetのサイズ: (1000, 10)\n"
     ]
    }
   ],
   "source": [
    "# データセットを生成する\n",
    "dataset_B = generate_dataset(posterior_B, n_samples=1000, sample_size=10)\n",
    "\n",
    "# サンプルサイズ10のサンプルが1000個できた\n",
    "print(\"thetaのサイズ:\", dataset_B.theta.shape)\n",
    "print(\"datasetのサイズ:\", dataset_B.dataset.shape)"
   ]
  },
  {
   "cell_type": "code",
   "execution_count": 26,
   "metadata": {},
   "outputs": [
    {
     "data": {
      "text/plain": [
       "array([10.38704   ,  9.22772706, 10.47878133,  8.14787194,  8.82269516])"
      ]
     },
     "execution_count": 26,
     "metadata": {},
     "output_type": "execute_result"
    }
   ],
   "source": [
    "# thetaを5個見てみる\n",
    "dataset_B.theta[:5]"
   ]
  },
  {
   "cell_type": "code",
   "execution_count": 27,
   "metadata": {},
   "outputs": [
    {
     "name": "stdout",
     "output_type": "stream",
     "text": [
      "theta:\t 10.387039995152556\n",
      "sample:\t [11 11 10 10 19 13  4 10  6 11]\n"
     ]
    }
   ],
   "source": [
    "# 1個目のサンプルを見てみる\n",
    "print(\"theta:\\t\", dataset_B.theta[0])\n",
    "print(\"sample:\\t\", dataset_B.dataset[0])"
   ]
  },
  {
   "cell_type": "code",
   "execution_count": 31,
   "metadata": {},
   "outputs": [],
   "source": [
    "t_statistics_B = calculate_t(dataset=dataset_B.dataset, y=y_B)"
   ]
  },
  {
   "cell_type": "code",
   "execution_count": 32,
   "metadata": {},
   "outputs": [
    {
     "data": {
      "text/plain": [
       "array([2.78151795, 3.38461538, 4.1576092 , 3.52821143, 2.88659718])"
      ]
     },
     "execution_count": 32,
     "metadata": {},
     "output_type": "execute_result"
    }
   ],
   "source": [
    "# シミュレーションデータを5個みてみる\n",
    "t_statistics_B.t[:5]"
   ]
  },
  {
   "cell_type": "code",
   "execution_count": 33,
   "metadata": {},
   "outputs": [
    {
     "data": {
      "text/plain": [
       "5.843090896943715"
      ]
     },
     "execution_count": 33,
     "metadata": {},
     "output_type": "execute_result"
    }
   ],
   "source": [
    "# 観測データのt\n",
    "t_statistics_B.t_obs"
   ]
  },
  {
   "cell_type": "code",
   "execution_count": 34,
   "metadata": {},
   "outputs": [
    {
     "data": {
      "text/plain": [
       "0.981"
      ]
     },
     "execution_count": 34,
     "metadata": {},
     "output_type": "execute_result"
    }
   ],
   "source": [
    "# 観測値のtのシミュレーションデータに対する分位数\n",
    "t_statistics_B.quantile_t_obs"
   ]
  },
  {
   "cell_type": "code",
   "execution_count": 35,
   "metadata": {},
   "outputs": [
    {
     "data": {
      "image/png": "[encoded data removed]",
      "text/plain": [
       "<Figure size 750x500 with 1 Axes>"
      ]
     },
     "metadata": {},
     "output_type": "display_data"
    }
   ],
   "source": [
    "plot_t_statistics(\n",
    "    t=t_statistics_B.t,\n",
    "    t_obs=t_statistics_B.t_obs,\n",
    ")"
   ]
  },
  {
   "cell_type": "markdown",
   "metadata": {},
   "source": [
    "以上より、群Bについては観測値から計算した $t$ はシミュレーションデータの98.1%点にあることがわかった。\n",
    "よって、ポアソンモデルはこの統計量 $t$ の分布をうまく表しているとは考えられず、 $t$ についての推測を行うためには別のモデルを使用するべきだろう。"
   ]
  },
  {
   "cell_type": "markdown",
   "metadata": {},
   "source": []
  }
 ],
 "metadata": {
  "kernelspec": {
   "display_name": "Python 3",
   "language": "python",
   "name": "python3"
  },
  "language_info": {
   "codemirror_mode": {
    "name": "ipython",
    "version": 3
   },
   "file_extension": ".py",
   "mimetype": "text/x-python",
   "name": "python",
   "nbconvert_exporter": "python",
   "pygments_lexer": "ipython3",
   "version": "3.9.18"
  }
 },
 "nbformat": 4,
 "nbformat_minor": 2
}
