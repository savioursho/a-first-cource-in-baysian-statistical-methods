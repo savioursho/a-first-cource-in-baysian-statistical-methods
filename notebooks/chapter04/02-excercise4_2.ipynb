{
 "cells": [
  {
   "cell_type": "markdown",
   "metadata": {},
   "source": [
    "# 4.2 腫瘍数の比較"
   ]
  },
  {
   "cell_type": "markdown",
   "metadata": {},
   "source": [
    "## インポート・設定"
   ]
  },
  {
   "cell_type": "code",
   "execution_count": 1,
   "metadata": {},
   "outputs": [],
   "source": [
    "import dataclasses\n",
    "import warnings\n",
    "from numbers import Number\n",
    "\n",
    "import matplotlib.pyplot as plt\n",
    "import numpy as np\n",
    "import pandas as pd\n",
    "import seaborn as sns\n",
    "from IPython.display import Markdown\n",
    "from scipy import signal, special, stats\n",
    "\n",
    "sns.set_theme()\n",
    "warnings.simplefilter(\"ignore\")\n",
    "SEED = 0"
   ]
  },
  {
   "cell_type": "markdown",
   "metadata": {},
   "source": [
    "## a"
   ]
  },
  {
   "cell_type": "code",
   "execution_count": 2,
   "metadata": {},
   "outputs": [],
   "source": [
    "@dataclasses.dataclass\n",
    "class CountData:\n",
    "    \"\"\"カウントデータを格納するクラス\"\"\"\n",
    "\n",
    "    data: np.ndarray"
   ]
  },
  {
   "cell_type": "markdown",
   "metadata": {},
   "source": [
    "A系統、B系統の腫瘍数の観察データ"
   ]
  },
  {
   "cell_type": "code",
   "execution_count": 11,
   "metadata": {},
   "outputs": [
    {
     "data": {
      "text/plain": [
       "<Axes: >"
      ]
     },
     "execution_count": 11,
     "metadata": {},
     "output_type": "execute_result"
    },
    {
     "data": {
      "image/png": "[encoded data removed]",
      "text/plain": [
       "<Figure size 640x480 with 1 Axes>"
      ]
     },
     "metadata": {},
     "output_type": "display_data"
    }
   ],
   "source": [
    "# データ定義\n",
    "y_a = CountData(data=np.array([12, 9, 12, 14, 13, 13, 15, 8, 15, 6]))\n",
    "y_b = CountData(data=np.array([11, 11, 10, 9, 9, 8, 7, 10, 6, 8, 8, 9, 7]))\n",
    "\n",
    "# 可視化\n",
    "data = {\"A\": y_a.data, \"B\": y_b.data}\n",
    "_ = sns.boxplot(data, orient=\"h\", fill=True)\n",
    "_ = sns.swarmplot(data, orient=\"h\", edgecolor=\"w\", linewidth=1.0)"
   ]
  },
  {
   "cell_type": "markdown",
   "metadata": {},
   "source": [
    "与えられた事前分布\n",
    "\n",
    "$$\n",
    "\\theta _A \\sim \\text{gamma}(120, 10), \\quad\n",
    "\\theta _B \\sim \\text{gamma}(12, 1), \\quad\n",
    "p(\\theta _A, \\theta _B) = p(\\theta _A) \\times p(\\theta _B)\n",
    "$$\n",
    "\n",
    "から事後分布を求める。"
   ]
  },
  {
   "cell_type": "code",
   "execution_count": 4,
   "metadata": {},
   "outputs": [],
   "source": [
    "@dataclasses.dataclass\n",
    "class GammaDist:\n",
    "    \"\"\"ガンマ分布のパラメータを格納するクラス\"\"\"\n",
    "\n",
    "    a: Number\n",
    "    b: Number\n",
    "\n",
    "    def sample(self, size) -> np.ndarray:\n",
    "        return stats.gamma.rvs(a=self.a, scale=1 / self.b, size=size, random_state=SEED)\n",
    "\n",
    "\n",
    "def get_poisson_model_posterior(y, a_prior, b_prior):\n",
    "\n",
    "    # 事後分布のパラメータ\n",
    "    a_posterior = a_prior + np.sum(y)\n",
    "    b_posterior = b_prior + len(y)\n",
    "\n",
    "    return GammaDist(a=a_posterior, b=b_posterior)"
   ]
  },
  {
   "cell_type": "code",
   "execution_count": 5,
   "metadata": {},
   "outputs": [
    {
     "name": "stdout",
     "output_type": "stream",
     "text": [
      "Posterior of A: GammaDist(a=237, b=20)\n",
      "Posterior of B: GammaDist(a=125, b=14)\n"
     ]
    }
   ],
   "source": [
    "posterior_A = get_poisson_model_posterior(y_a.data, a_prior=120, b_prior=10)\n",
    "posterior_B = get_poisson_model_posterior(y_b.data, a_prior=12, b_prior=1)\n",
    "\n",
    "print(\"Posterior of A:\", posterior_A)\n",
    "print(\"Posterior of B:\", posterior_B)"
   ]
  },
  {
   "cell_type": "markdown",
   "metadata": {},
   "source": [
    "事後分布からサンプリングを行い、 $Pr(\\theta _A < \\theta _B | y_A, y_B)$ の近似値を求める。"
   ]
  },
  {
   "cell_type": "code",
   "execution_count": 6,
   "metadata": {},
   "outputs": [
    {
     "data": {
      "text/html": [
       "<div>\n",
       "<style scoped>\n",
       "    .dataframe tbody tr th:only-of-type {\n",
       "        vertical-align: middle;\n",
       "    }\n",
       "\n",
       "    .dataframe tbody tr th {\n",
       "        vertical-align: top;\n",
       "    }\n",
       "\n",
       "    .dataframe thead th {\n",
       "        text-align: right;\n",
       "    }\n",
       "</style>\n",
       "<table border=\"1\" class=\"dataframe\">\n",
       "  <thead>\n",
       "    <tr style=\"text-align: right;\">\n",
       "      <th></th>\n",
       "      <th>thetaA</th>\n",
       "      <th>thetaB</th>\n",
       "    </tr>\n",
       "  </thead>\n",
       "  <tbody>\n",
       "    <tr>\n",
       "      <th>count</th>\n",
       "      <td>5000.000000</td>\n",
       "      <td>5000.000000</td>\n",
       "    </tr>\n",
       "    <tr>\n",
       "      <th>mean</th>\n",
       "      <td>11.837982</td>\n",
       "      <td>8.915820</td>\n",
       "    </tr>\n",
       "    <tr>\n",
       "      <th>std</th>\n",
       "      <td>0.752776</td>\n",
       "      <td>0.781226</td>\n",
       "    </tr>\n",
       "    <tr>\n",
       "      <th>min</th>\n",
       "      <td>9.411076</td>\n",
       "      <td>6.464044</td>\n",
       "    </tr>\n",
       "    <tr>\n",
       "      <th>25%</th>\n",
       "      <td>11.323739</td>\n",
       "      <td>8.379315</td>\n",
       "    </tr>\n",
       "    <tr>\n",
       "      <th>50%</th>\n",
       "      <td>11.807916</td>\n",
       "      <td>8.878416</td>\n",
       "    </tr>\n",
       "    <tr>\n",
       "      <th>75%</th>\n",
       "      <td>12.328013</td>\n",
       "      <td>9.420318</td>\n",
       "    </tr>\n",
       "    <tr>\n",
       "      <th>max</th>\n",
       "      <td>15.005056</td>\n",
       "      <td>12.293829</td>\n",
       "    </tr>\n",
       "  </tbody>\n",
       "</table>\n",
       "</div>"
      ],
      "text/plain": [
       "            thetaA       thetaB\n",
       "count  5000.000000  5000.000000\n",
       "mean     11.837982     8.915820\n",
       "std       0.752776     0.781226\n",
       "min       9.411076     6.464044\n",
       "25%      11.323739     8.379315\n",
       "50%      11.807916     8.878416\n",
       "75%      12.328013     9.420318\n",
       "max      15.005056    12.293829"
      ]
     },
     "execution_count": 6,
     "metadata": {},
     "output_type": "execute_result"
    }
   ],
   "source": [
    "size = 5000\n",
    "df_sample = pd.DataFrame(\n",
    "    {\n",
    "        \"thetaA\": posterior_A.sample(size),\n",
    "        \"thetaB\": posterior_B.sample(size),\n",
    "    }\n",
    ")\n",
    "\n",
    "df_sample.describe()"
   ]
  },
  {
   "cell_type": "markdown",
   "metadata": {},
   "source": [
    "サンプリングした値の分布を可視化してみる"
   ]
  },
  {
   "cell_type": "code",
   "execution_count": 7,
   "metadata": {},
   "outputs": [
    {
     "data": {
      "image/png": "[encoded data removed]",
      "text/plain": [
       "<Figure size 856x500 with 1 Axes>"
      ]
     },
     "metadata": {},
     "output_type": "display_data"
    }
   ],
   "source": [
    "# 事後分布の可視化\n",
    "g = sns.displot(\n",
    "    df_sample,\n",
    "    aspect=1.5,\n",
    ")\n",
    "_ = g.set(title=r\"Distribution of $\\theta_A$ and $\\theta_B$\")"
   ]
  },
  {
   "cell_type": "markdown",
   "metadata": {},
   "source": [
    "$Pr(\\theta _A < \\theta _B | y_A, y_B) \\approx 0$ となる。"
   ]
  },
  {
   "cell_type": "code",
   "execution_count": 8,
   "metadata": {},
   "outputs": [
    {
     "data": {
      "text/plain": [
       "0.0"
      ]
     },
     "execution_count": 8,
     "metadata": {},
     "output_type": "execute_result"
    }
   ],
   "source": [
    "df_sample[\"thetaA\"].lt(df_sample[\"thetaB\"]).mean()"
   ]
  },
  {
   "cell_type": "markdown",
   "metadata": {},
   "source": [
    "## b"
   ]
  },
  {
   "cell_type": "code",
   "execution_count": 9,
   "metadata": {},
   "outputs": [],
   "source": [
    "def get_proba_by_mc(n0: int):\n",
    "    # 事後分布\n",
    "    posterior_A = get_poisson_model_posterior(y_a.data, a_prior=120, b_prior=10)\n",
    "    posterior_B = get_poisson_model_posterior(y_b.data, a_prior=12 * n0, b_prior=n0)\n",
    "\n",
    "    # モンテカルロサンプリング\n",
    "    # thetaAとthetaBは独立なので、thetaAのサンプリング結果は使いまわしても良いが、ここでは毎回サンプリングしている。\n",
    "    size = 5000\n",
    "    df_sample = pd.DataFrame(\n",
    "        {\n",
    "            \"thetaA\": posterior_A.sample(size),\n",
    "            \"thetaB\": posterior_B.sample(size),\n",
    "        }\n",
    "    )\n",
    "\n",
    "    # thetaB < thetaAの確率の近似値\n",
    "    proba = df_sample[\"thetaA\"].lt(df_sample[\"thetaB\"]).mean()\n",
    "\n",
    "    return proba"
   ]
  },
  {
   "cell_type": "code",
   "execution_count": 10,
   "metadata": {},
   "outputs": [
    {
     "data": {
      "image/png": "[encoded data removed]",
      "text/plain": [
       "<Figure size 750x500 with 1 Axes>"
      ]
     },
     "metadata": {},
     "output_type": "display_data"
    }
   ],
   "source": [
    "# n0 = 1 ~ 10000でサンプリングする\n",
    "df_proba = pd.DataFrame({\"n0\": np.floor(np.logspace(0, 4, 30))})\n",
    "df_proba[\"proba\"] = df_proba[\"n0\"].apply(get_proba_by_mc)\n",
    "\n",
    "g = sns.relplot(\n",
    "    df_proba,\n",
    "    x=\"n0\",\n",
    "    y=\"proba\",\n",
    "    aspect=1.5,\n",
    ")\n",
    "_ = g.set(xscale=\"log\", title=r\"$n_0 ~ v.s. ~ Pr(\\theta_A < \\theta_B| y_A, y_B)$\")"
   ]
  },
  {
   "cell_type": "markdown",
   "metadata": {},
   "source": [
    "- $n_0 = 10$ 付近までは確率はほぼゼロである。\n",
    "    - $n_0$が小さいときは事前分布よりデータを重視している。\n",
    "    - Aの事後平均(237 / 20 = 11.85)よりBの標本平均(~8.7)が小さい。\n",
    "    - A, Bの事後標準偏差はともに1未満であり、これは事後平均の差より小さい。\n",
    "    - 以上の理由から$n_0$が小さいときは$\\theta_B$が大きい確率はほほゼロになる。\n",
    "- $n_0 = 100$ 付近で確率が0.3近くなり、$n_0 = 1000$ 付近では0.6近くなる。\n",
    "    - $n_0$が大きいときはデータより事前分布を重視している。\n",
    "    - Aの事後平均(237 / 20 = 11.85)よりBの事前平均(=12)が大きい。\n",
    "    - 以上の理由から$n_0$が大きいときは$\\theta_B$が大きい確率が0.5を超える。"
   ]
  },
  {
   "cell_type": "code",
   "execution_count": null,
   "metadata": {},
   "outputs": [],
   "source": []
  }
 ],
 "metadata": {
  "kernelspec": {
   "display_name": "Python 3",
   "language": "python",
   "name": "python3"
  },
  "language_info": {
   "codemirror_mode": {
    "name": "ipython",
    "version": 3
   },
   "file_extension": ".py",
   "mimetype": "text/x-python",
   "name": "python",
   "nbconvert_exporter": "python",
   "pygments_lexer": "ipython3",
   "version": "3.9.18"
  }
 },
 "nbformat": 4,
 "nbformat_minor": 2
}
