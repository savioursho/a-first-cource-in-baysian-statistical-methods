{
 "cells": [
  {
   "cell_type": "markdown",
   "metadata": {},
   "source": [
    "# 4.5 がんによる死亡"
   ]
  },
  {
   "cell_type": "markdown",
   "metadata": {},
   "source": [
    "## インポート・設定"
   ]
  },
  {
   "cell_type": "code",
   "execution_count": 3,
   "metadata": {},
   "outputs": [],
   "source": [
    "import warnings\n",
    "\n",
    "import arviz as az\n",
    "import numpy as np\n",
    "import pandas as pd\n",
    "import pymc as pm\n",
    "import seaborn as sns\n",
    "from scipy import special"
   ]
  },
  {
   "cell_type": "code",
   "execution_count": 2,
   "metadata": {},
   "outputs": [],
   "source": [
    "sns.set_theme()\n",
    "warnings.simplefilter(\"ignore\")\n",
    "RANDM_STATE = np.random.default_rng(seed=0)"
   ]
  },
  {
   "cell_type": "markdown",
   "metadata": {},
   "source": [
    "## a"
   ]
  },
  {
   "cell_type": "markdown",
   "metadata": {},
   "source": [
    "- データ:\n",
    "    - 人口 $X_i$ とがんによる死亡者数 $Y_i$ の組 $(X_i, Y_i)$ \n",
    "- モデル:\n",
    "    - がんの発生率 $\\theta$ が与えられたもとで、独立に $Y_i \\sim \\text{Poisson}(\\theta X_i)$ となる\n",
    "- 事前分布:\n",
    "    - $\\theta \\sim \\text{Gamma}(a, b)$"
   ]
  },
  {
   "cell_type": "markdown",
   "metadata": {},
   "source": [
    "データ $\\mathcal{D} = (\\vec{X}, \\vec{Y}) = \\{(X_i, Y_i)\\}_{i=1 \\sim n}$ が与えられたもとでの $\\theta$ の事後分布を求める。"
   ]
  },
  {
   "cell_type": "markdown",
   "metadata": {},
   "source": [
    "事前分布と尤度を書き下すと以下のようになる。\n",
    "\n",
    "$$\n",
    "\\begin{aligned}\n",
    "p(\\theta) &= \\text{dgamma}(\\theta, a, b) \\\\\n",
    "&= \\frac{b^a}{\\Gamma(a)} \\theta^{a - 1}e^{-b\\theta} \\\\\n",
    "\\end{aligned}\n",
    "$$\n",
    "\n",
    "$$\n",
    "\\begin{aligned}\n",
    "p(\\vec{y} | \\theta) &= \\prod _{i} \\text{dpoisson}(y_i , \\theta x_i) \\\\\n",
    "&= \\prod _{i} \\frac{(\\theta x_i)^{y_i}}{y_i !}e^{-(\\theta x_i)} \\\\\n",
    "&= \\left \\{\n",
    "    \\prod _{i} \\frac{x_i^{y_i}}{y_i !}\n",
    "\\right \\}\n",
    "\\theta ^{\\sum_{i} y_i} e^{- \\theta \\sum_{i} x_i}\n",
    "\\end{aligned}\n",
    "$$"
   ]
  },
  {
   "cell_type": "markdown",
   "metadata": {},
   "source": [
    "以上の式から、 $\\theta$ の事後分布を計算する。\n",
    "\n",
    "$$\n",
    "\\begin{aligned}\n",
    "p(\\theta | \\mathcal{D}) & \\propto p(\\vec{y} | \\theta) p(\\theta) \\\\\n",
    "& \\propto \\theta^{a + \\sum_{i} y_i - 1} e^{-(b + \\sum_{i}x_i)\\theta} \\\\\n",
    "& \\propto \\text{dgamma}\\left(\\theta, a +  \\sum_{i} y_i, b + \\sum_{i} x_i \\right)\n",
    "\\end{aligned}\n",
    "$$"
   ]
  },
  {
   "cell_type": "markdown",
   "metadata": {},
   "source": [
    "よって、事後分布は $\\text{Gamma}\\left(\\theta, a +  \\sum_{i} Y_i, b + \\sum_{i} X_i \\right)$ となることが分かった。"
   ]
  },
  {
   "cell_type": "markdown",
   "metadata": {},
   "source": [
    "## b"
   ]
  },
  {
   "cell_type": "code",
   "execution_count": null,
   "metadata": {},
   "outputs": [],
   "source": []
  }
 ],
 "metadata": {
  "kernelspec": {
   "display_name": "Python 3",
   "language": "python",
   "name": "python3"
  },
  "language_info": {
   "codemirror_mode": {
    "name": "ipython",
    "version": 3
   },
   "file_extension": ".py",
   "mimetype": "text/x-python",
   "name": "python",
   "nbconvert_exporter": "python",
   "pygments_lexer": "ipython3",
   "version": "3.9.18"
  }
 },
 "nbformat": 4,
 "nbformat_minor": 2
}
