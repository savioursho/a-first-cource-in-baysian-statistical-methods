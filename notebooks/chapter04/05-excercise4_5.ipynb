{
 "cells": [
  {
   "cell_type": "markdown",
   "metadata": {},
   "source": [
    "# 4.5 がんによる死亡"
   ]
  },
  {
   "cell_type": "markdown",
   "metadata": {},
   "source": [
    "## インポート・設定"
   ]
  },
  {
   "cell_type": "code",
   "execution_count": 3,
   "metadata": {},
   "outputs": [
    {
     "name": "stderr",
     "output_type": "stream",
     "text": [
      "WARNING (pytensor.tensor.blas): Using NumPy C-API based implementation for BLAS functions.\n"
     ]
    }
   ],
   "source": [
    "import dataclasses\n",
    "import warnings\n",
    "from numbers import Number\n",
    "\n",
    "import arviz as az\n",
    "import numpy as np\n",
    "import pandas as pd\n",
    "import pymc as pm\n",
    "import seaborn as sns\n",
    "from IPython.display import Math\n",
    "from scipy import stats"
   ]
  },
  {
   "cell_type": "code",
   "execution_count": 4,
   "metadata": {},
   "outputs": [],
   "source": [
    "sns.set_theme()\n",
    "warnings.simplefilter(\"ignore\")\n",
    "RANDM_STATE = np.random.default_rng(seed=0)"
   ]
  },
  {
   "cell_type": "markdown",
   "metadata": {},
   "source": [
    "## a"
   ]
  },
  {
   "cell_type": "markdown",
   "metadata": {},
   "source": [
    "- データ:\n",
    "    - 人口(10,000人単位) $X_i$ とがんによる死亡者数 $Y_i$ の組 $(X_i, Y_i)$ \n",
    "- モデル:\n",
    "    - がんの発生率 $\\theta$ が与えられたもとで、独立に $Y_i \\sim \\text{Poisson}(\\theta X_i)$ となる\n",
    "- 事前分布:\n",
    "    - $\\theta \\sim \\text{Gamma}(a, b)$"
   ]
  },
  {
   "cell_type": "markdown",
   "metadata": {},
   "source": [
    "データ $\\mathcal{D} = (\\vec{X}, \\vec{Y}) = \\{(X_i, Y_i)\\}_{i=1 \\sim n}$ が与えられたもとでの $\\theta$ の事後分布を求める。"
   ]
  },
  {
   "cell_type": "markdown",
   "metadata": {},
   "source": [
    "事前分布と尤度を書き下すと以下のようになる。\n",
    "\n",
    "$$\n",
    "\\begin{aligned}\n",
    "p(\\theta) &= \\text{dgamma}(\\theta, a, b) \\\\\n",
    "&= \\frac{b^a}{\\Gamma(a)} \\theta^{a - 1}e^{-b\\theta} \\\\\n",
    "\\end{aligned}\n",
    "$$\n",
    "\n",
    "$$\n",
    "\\begin{aligned}\n",
    "p(\\vec{y} | \\theta) &= \\prod _{i} \\text{dpoisson}(y_i , \\theta x_i) \\\\\n",
    "&= \\prod _{i} \\frac{(\\theta x_i)^{y_i}}{y_i !}e^{-(\\theta x_i)} \\\\\n",
    "&= \\left \\{\n",
    "    \\prod _{i} \\frac{x_i^{y_i}}{y_i !}\n",
    "\\right \\}\n",
    "\\theta ^{\\sum_{i} y_i} e^{- \\theta \\sum_{i} x_i}\n",
    "\\end{aligned}\n",
    "$$"
   ]
  },
  {
   "cell_type": "markdown",
   "metadata": {},
   "source": [
    "以上の式から、 $\\theta$ の事後分布を計算する。\n",
    "\n",
    "$$\n",
    "\\begin{aligned}\n",
    "p(\\theta | \\mathcal{D}) & \\propto p(\\vec{y} | \\theta) p(\\theta) \\\\\n",
    "& \\propto \\theta^{a + \\sum_{i} y_i - 1} e^{-(b + \\sum_{i}x_i)\\theta} \\\\\n",
    "& \\propto \\text{dgamma}\\left(\\theta, a +  \\sum_{i} y_i, b + \\sum_{i} x_i \\right)\n",
    "\\end{aligned}\n",
    "$$"
   ]
  },
  {
   "cell_type": "markdown",
   "metadata": {},
   "source": [
    "よって、事後分布は $\\text{Gamma}\\left(\\theta, a +  \\sum_{i} Y_i, b + \\sum_{i} X_i \\right)$ となることが分かった。"
   ]
  },
  {
   "cell_type": "markdown",
   "metadata": {},
   "source": [
    "$a$ は「データに含まれるがんによる死亡者数の合計」、 $b$ は「データに含まれる人口の合計」と解釈できる。"
   ]
  },
  {
   "cell_type": "markdown",
   "metadata": {},
   "source": [
    "## データのダウンロード"
   ]
  },
  {
   "cell_type": "code",
   "execution_count": 5,
   "metadata": {},
   "outputs": [],
   "source": [
    "urls = {\n",
    "    \"cancer_noreact\": \"http://www2.stat.duke.edu/~pdh10/FCBS/Exercises/cancer_noreact.dat\",\n",
    "    \"cancer_react\": \"http://www2.stat.duke.edu/~pdh10/FCBS/Exercises/cancer_react.dat\",\n",
    "}\n",
    "df_cancer_noreact = pd.read_csv(urls[\"cancer_noreact\"], sep=\"\\s+\")\n",
    "df_cancer_react = pd.read_csv(urls[\"cancer_react\"], sep=\"\\s+\")"
   ]
  },
  {
   "cell_type": "code",
   "execution_count": 6,
   "metadata": {},
   "outputs": [
    {
     "name": "stdout",
     "output_type": "stream",
     "text": [
      "<class 'pandas.core.frame.DataFrame'>\n",
      "RangeIndex: 78 entries, 0 to 77\n",
      "Data columns (total 2 columns):\n",
      " #   Column  Non-Null Count  Dtype\n",
      "---  ------  --------------  -----\n",
      " 0   x       78 non-null     int64\n",
      " 1   y       78 non-null     int64\n",
      "dtypes: int64(2)\n",
      "memory usage: 1.3 KB\n"
     ]
    },
    {
     "data": {
      "text/html": [
       "<div>\n",
       "<style scoped>\n",
       "    .dataframe tbody tr th:only-of-type {\n",
       "        vertical-align: middle;\n",
       "    }\n",
       "\n",
       "    .dataframe tbody tr th {\n",
       "        vertical-align: top;\n",
       "    }\n",
       "\n",
       "    .dataframe thead th {\n",
       "        text-align: right;\n",
       "    }\n",
       "</style>\n",
       "<table border=\"1\" class=\"dataframe\">\n",
       "  <thead>\n",
       "    <tr style=\"text-align: right;\">\n",
       "      <th></th>\n",
       "      <th>x</th>\n",
       "      <th>y</th>\n",
       "    </tr>\n",
       "  </thead>\n",
       "  <tbody>\n",
       "    <tr>\n",
       "      <th>0</th>\n",
       "      <td>3</td>\n",
       "      <td>4</td>\n",
       "    </tr>\n",
       "    <tr>\n",
       "      <th>1</th>\n",
       "      <td>11</td>\n",
       "      <td>19</td>\n",
       "    </tr>\n",
       "    <tr>\n",
       "      <th>2</th>\n",
       "      <td>5</td>\n",
       "      <td>13</td>\n",
       "    </tr>\n",
       "    <tr>\n",
       "      <th>3</th>\n",
       "      <td>10</td>\n",
       "      <td>24</td>\n",
       "    </tr>\n",
       "    <tr>\n",
       "      <th>4</th>\n",
       "      <td>5</td>\n",
       "      <td>16</td>\n",
       "    </tr>\n",
       "  </tbody>\n",
       "</table>\n",
       "</div>"
      ],
      "text/plain": [
       "    x   y\n",
       "0   3   4\n",
       "1  11  19\n",
       "2   5  13\n",
       "3  10  24\n",
       "4   5  16"
      ]
     },
     "execution_count": 6,
     "metadata": {},
     "output_type": "execute_result"
    }
   ],
   "source": [
    "df_cancer_noreact.info()\n",
    "df_cancer_noreact.head()"
   ]
  },
  {
   "cell_type": "code",
   "execution_count": 7,
   "metadata": {},
   "outputs": [
    {
     "name": "stdout",
     "output_type": "stream",
     "text": [
      "<class 'pandas.core.frame.DataFrame'>\n",
      "RangeIndex: 10 entries, 0 to 9\n",
      "Data columns (total 2 columns):\n",
      " #   Column  Non-Null Count  Dtype\n",
      "---  ------  --------------  -----\n",
      " 0   x       10 non-null     int64\n",
      " 1   y       10 non-null     int64\n",
      "dtypes: int64(2)\n",
      "memory usage: 288.0 bytes\n"
     ]
    },
    {
     "data": {
      "text/html": [
       "<div>\n",
       "<style scoped>\n",
       "    .dataframe tbody tr th:only-of-type {\n",
       "        vertical-align: middle;\n",
       "    }\n",
       "\n",
       "    .dataframe tbody tr th {\n",
       "        vertical-align: top;\n",
       "    }\n",
       "\n",
       "    .dataframe thead th {\n",
       "        text-align: right;\n",
       "    }\n",
       "</style>\n",
       "<table border=\"1\" class=\"dataframe\">\n",
       "  <thead>\n",
       "    <tr style=\"text-align: right;\">\n",
       "      <th></th>\n",
       "      <th>x</th>\n",
       "      <th>y</th>\n",
       "    </tr>\n",
       "  </thead>\n",
       "  <tbody>\n",
       "    <tr>\n",
       "      <th>0</th>\n",
       "      <td>6</td>\n",
       "      <td>15</td>\n",
       "    </tr>\n",
       "    <tr>\n",
       "      <th>1</th>\n",
       "      <td>5</td>\n",
       "      <td>16</td>\n",
       "    </tr>\n",
       "    <tr>\n",
       "      <th>2</th>\n",
       "      <td>3</td>\n",
       "      <td>12</td>\n",
       "    </tr>\n",
       "    <tr>\n",
       "      <th>3</th>\n",
       "      <td>4</td>\n",
       "      <td>6</td>\n",
       "    </tr>\n",
       "    <tr>\n",
       "      <th>4</th>\n",
       "      <td>27</td>\n",
       "      <td>77</td>\n",
       "    </tr>\n",
       "  </tbody>\n",
       "</table>\n",
       "</div>"
      ],
      "text/plain": [
       "    x   y\n",
       "0   6  15\n",
       "1   5  16\n",
       "2   3  12\n",
       "3   4   6\n",
       "4  27  77"
      ]
     },
     "execution_count": 7,
     "metadata": {},
     "output_type": "execute_result"
    }
   ],
   "source": [
    "df_cancer_react.info()\n",
    "df_cancer_react.head()"
   ]
  },
  {
   "cell_type": "markdown",
   "metadata": {},
   "source": [
    "- データ\n",
    "    - `cancer_noreact`: ある州の中の原子炉から遠い地域のデータ\n",
    "        - 死亡率: $\\theta_{1} \\sim \\text{gamma}(a_1, b_1)$ \n",
    "    - `cancer_react`: 同じ州の原子炉の近くにある地域のデータ\n",
    "        - 死亡率: $\\theta_{2} \\sim \\text{gamma}(a_2, b_2)$ \n",
    "- カラム\n",
    "    - `x`: 1990年の人口(10,000人単位)\n",
    "    - `y`: がんによる死亡者数"
   ]
  },
  {
   "cell_type": "markdown",
   "metadata": {},
   "source": [
    "## b"
   ]
  },
  {
   "cell_type": "markdown",
   "metadata": {},
   "source": [
    "$\\theta_1, \\theta_2$ の事後分布を求める。"
   ]
  },
  {
   "cell_type": "markdown",
   "metadata": {},
   "source": [
    "前問より、事後分布は以下の形で表せる。"
   ]
  },
  {
   "cell_type": "markdown",
   "metadata": {},
   "source": [
    "$$\n",
    "\\begin{aligned}\n",
    "\\{\\theta | \\mathcal{D}\\}\n",
    "\\sim \n",
    "\\text{Gamma}\\left(a +  \\sum_{i} y_i, b + \\sum_{i} x_i \\right)\n",
    "\\end{aligned}\n",
    "$$"
   ]
  },
  {
   "cell_type": "markdown",
   "metadata": {},
   "source": [
    "それぞれのデータについて、`x`,`y`の和を計算する。"
   ]
  },
  {
   "cell_type": "code",
   "execution_count": 8,
   "metadata": {},
   "outputs": [
    {
     "name": "stdout",
     "output_type": "stream",
     "text": [
      "cancer_noreact\n"
     ]
    },
    {
     "data": {
      "text/plain": [
       "x    1037\n",
       "y    2285\n",
       "dtype: int64"
      ]
     },
     "metadata": {},
     "output_type": "display_data"
    },
    {
     "name": "stdout",
     "output_type": "stream",
     "text": [
      "cancer_react\n"
     ]
    },
    {
     "data": {
      "text/plain": [
       "x     95\n",
       "y    256\n",
       "dtype: int64"
      ]
     },
     "metadata": {},
     "output_type": "display_data"
    }
   ],
   "source": [
    "print(\"cancer_noreact\")\n",
    "display(df_cancer_noreact.sum())\n",
    "\n",
    "print(\"cancer_react\")\n",
    "display(df_cancer_react.sum())"
   ]
  },
  {
   "cell_type": "markdown",
   "metadata": {},
   "source": [
    "以上の結果から、事後分布は以下のようになる。"
   ]
  },
  {
   "cell_type": "markdown",
   "metadata": {},
   "source": [
    "$$\n",
    "\\begin{aligned}\n",
    "\\{\\theta_{1} | \\mathcal{D}\\}\n",
    "&\\sim \n",
    "\\text{Gamma}\\left(a_{1} +  2285, b_{1} + 1037 \\right)\n",
    "\\\\\n",
    "\\{\\theta_{2} | \\mathcal{D}\\}\n",
    "&\\sim \n",
    "\\text{Gamma}\\left(a_{2} +  256, b_{2} + 95 \\right)\n",
    "\\end{aligned}\n",
    "$$"
   ]
  },
  {
   "cell_type": "markdown",
   "metadata": {},
   "source": [
    "## c"
   ]
  },
  {
   "cell_type": "markdown",
   "metadata": {},
   "source": [
    "前年のがん発生率は10,000人あたり $\\tilde{\\theta} = 2.2$ であったと仮定する。"
   ]
  },
  {
   "cell_type": "markdown",
   "metadata": {},
   "source": [
    "1. 意見1: \n",
    "    - $a_1 = a_2 = 2.2 \\times 100$\n",
    "    - $b_1 = b_2 = 100$\n",
    "    - どちらとも強い信念\n",
    "2. 意見2: \n",
    "    - $a_1  = 2.2 \\times 100,~ b_1 = 100$\n",
    "    - $a_2  = 2.2 ,~ b_1 = 1$\n",
    "    - 原子炉から遠い地域のがん発生率は強い信念、原子炉に近い地域のがん発生率は弱い信念\n",
    "3. 意見3: \n",
    "    - $a_1 = a_2 = 2.2 $\n",
    "    - $b_1 = b_2 = 1$\n",
    "    - どちらとも弱い信念"
   ]
  },
  {
   "cell_type": "code",
   "execution_count": 9,
   "metadata": {},
   "outputs": [],
   "source": [
    "n_draws = 100_000"
   ]
  },
  {
   "cell_type": "code",
   "execution_count": 10,
   "metadata": {
    "tags": [
     "hide-cell"
    ]
   },
   "outputs": [],
   "source": [
    "@dataclasses.dataclass\n",
    "class GammaDist:\n",
    "    \"\"\"ガンマ分布のパラメータを格納するクラス\"\"\"\n",
    "\n",
    "    a: Number\n",
    "    b: Number\n",
    "\n",
    "    @property\n",
    "    def rv(self):\n",
    "        return stats.gamma(a=self.a, scale=1 / self.b)\n",
    "\n",
    "    def sample(self, size) -> np.ndarray:\n",
    "        return self.rv.rvs(size=size, random_state=RANDM_STATE)"
   ]
  },
  {
   "cell_type": "code",
   "execution_count": 38,
   "metadata": {
    "tags": [
     "hide-cell"
    ]
   },
   "outputs": [],
   "source": [
    "def summarise_result(\n",
    "    a1,\n",
    "    b1,\n",
    "    a2,\n",
    "    b2,\n",
    "    df_cancer_noreact,\n",
    "    df_cancer_react,\n",
    "):\n",
    "    \"\"\"それぞれの意見のに対する事後分布の結果をまとめる\"\"\"\n",
    "\n",
    "    result_dict = {}\n",
    "\n",
    "    # posterior distributions\n",
    "    posterior1 = GammaDist(\n",
    "        a=a1 + df_cancer_noreact[\"y\"].sum(),\n",
    "        b=b1 + df_cancer_noreact[\"x\"].sum(),\n",
    "    )\n",
    "    posterior2 = GammaDist(\n",
    "        a=a2 + df_cancer_react[\"y\"].sum(),\n",
    "        b=b2 + df_cancer_react[\"x\"].sum(),\n",
    "    )\n",
    "    result_dict[\"posterior1\"] = posterior1\n",
    "    result_dict[\"posterior2\"] = posterior2\n",
    "\n",
    "    # posterior mean\n",
    "    result_dict[\"mean_theta1\"] = np.round(posterior1.rv.stats(moments=\"m\"), 3)\n",
    "    result_dict[\"mean_theta2\"] = np.round(posterior2.rv.stats(moments=\"m\"), 3)\n",
    "\n",
    "    # credible interval\n",
    "    result_dict[\"ci95_theta1\"] = np.round(posterior1.rv.ppf([0.025, 0.975]), 3)\n",
    "    result_dict[\"ci95_theta2\"] = np.round(posterior2.rv.ppf([0.025, 0.975]), 3)\n",
    "\n",
    "    # probability of theta2 > theta1\n",
    "    result_dict[\"proba\"] = np.mean(\n",
    "        posterior1.sample(n_draws) < posterior2.sample(n_draws)\n",
    "    )\n",
    "\n",
    "    return dataclasses.make_dataclass(\"Results\", fields=result_dict.keys())(\n",
    "        **result_dict\n",
    "    )\n",
    "\n",
    "\n",
    "def display_results(results):\n",
    "    \"\"\"結果を表形式で表示する\"\"\"\n",
    "    latex = r\"\"\"\n",
    "    \\begin{array}{c|c:c:c}\n",
    "    &E[\\theta|data] &\\text{0.95 CI} & \\text{Pr}(\\theta_{2} > \\theta_{1} | data) \\\\\n",
    "    \\hline\n",
    "    \\theta_{1} & %.3f & [%.3f, %.3f] & %.3f  \\\\\n",
    "    \\theta_{2} & %.3f & [%.3f, %.3f] & -  \\\\\n",
    "    \\end{array}\n",
    "    \"\"\" % (\n",
    "        results.mean_theta1,\n",
    "        *results.ci95_theta1,\n",
    "        results.proba,\n",
    "        results.mean_theta2,\n",
    "        *results.ci95_theta2,\n",
    "    )\n",
    "    return Math(latex)"
   ]
  },
  {
   "cell_type": "code",
   "execution_count": 12,
   "metadata": {
    "tags": [
     "hide-cell"
    ]
   },
   "outputs": [],
   "source": [
    "def plot_pdf(\n",
    "    distribution: stats.rv_continuous,\n",
    "    lim: tuple,\n",
    "    label=None,\n",
    "    ax=None,\n",
    "    plot_ci: bool = True,\n",
    "    n_points: int = 300,\n",
    "):\n",
    "    \"\"\"密度関数をプロットする\"\"\"\n",
    "\n",
    "    x = np.linspace(*lim, n_points)\n",
    "    proba = distribution.pdf(x)\n",
    "    ax_ = sns.lineplot(\n",
    "        data={\"x\": x, \"p(x)\": proba},\n",
    "        x=\"x\",\n",
    "        y=\"p(x)\",\n",
    "        ax=ax,\n",
    "        label=label,\n",
    "        color=sns.color_palette(\"tab10\")[len(ax.lines) if ax else 0],\n",
    "    )\n",
    "    if plot_ci:\n",
    "        ci = distribution.ppf([0.025, 0.975])\n",
    "        ax_.fill_between(\n",
    "            x=x,\n",
    "            y1=proba,\n",
    "            where=np.logical_and(ci[0] < x, x < ci[1]),\n",
    "            color=sns.color_palette(\"pastel\")[len(ax_.lines) - 1],\n",
    "        )\n",
    "        ax_.vlines(\n",
    "            x=ci,\n",
    "            ymin=np.zeros(2),\n",
    "            ymax=distribution.pdf(ci),\n",
    "            colors=\"k\",\n",
    "            linestyles=\"dashed\",\n",
    "        )\n",
    "    ax_.set_title(\"Probability Density Function\" + \" with 95%CI\" if plot_ci else \"\")\n",
    "    return ax_\n",
    "\n",
    "\n",
    "def plot_pdf_comparison(results, lim: tuple):\n",
    "    ax1 = plot_pdf(results.posterior1.rv, lim=lim, label=\"theta1\")\n",
    "    ax2 = plot_pdf(results.posterior2.rv, lim=lim, label=\"theta2\", ax=ax1)\n",
    "    return ax2"
   ]
  },
  {
   "cell_type": "markdown",
   "metadata": {},
   "source": [
    "### 意見1"
   ]
  },
  {
   "cell_type": "code",
   "execution_count": 39,
   "metadata": {},
   "outputs": [
    {
     "data": {
      "text/latex": [
       "$\\displaystyle \n",
       "    \\begin{array}{c|c:c:c}\n",
       "    &E[\\theta|data] &\\text{0.95 CI} & \\text{Pr}(\\theta_{2} > \\theta_{1} | data) \\\\\n",
       "    \\hline\n",
       "    \\theta_{1} & 2.203 & [2.118, 2.290] & 0.978  \\\\\n",
       "    \\theta_{2} & 2.441 & [2.227, 2.665] & -  \\\\\n",
       "    \\end{array}\n",
       "    $"
      ],
      "text/plain": [
       "<IPython.core.display.Math object>"
      ]
     },
     "execution_count": 39,
     "metadata": {},
     "output_type": "execute_result"
    }
   ],
   "source": [
    "results1 = summarise_result(\n",
    "    a1=2.2 * 100,\n",
    "    b1=100,\n",
    "    a2=2.2 * 100,\n",
    "    b2=100,\n",
    "    df_cancer_noreact=df_cancer_noreact,\n",
    "    df_cancer_react=df_cancer_react,\n",
    ")\n",
    "\n",
    "\n",
    "display_results(results1)"
   ]
  },
  {
   "cell_type": "code",
   "execution_count": 14,
   "metadata": {},
   "outputs": [
    {
     "data": {
      "image/png": "[encoded data removed]",
      "text/plain": [
       "<Figure size 640x480 with 1 Axes>"
      ]
     },
     "metadata": {},
     "output_type": "display_data"
    }
   ],
   "source": [
    "_ = plot_pdf_comparison(results1, lim=(2.0, 3.2))"
   ]
  },
  {
   "cell_type": "markdown",
   "metadata": {},
   "source": [
    "### 意見2"
   ]
  },
  {
   "cell_type": "code",
   "execution_count": 15,
   "metadata": {},
   "outputs": [
    {
     "data": {
      "text/latex": [
       "$\\displaystyle \n",
       "    \\begin{array}{c|c:c:c}\n",
       "    &E[\\theta|data] &\\text{0.95 CI} & \\text{Pr}(\\theta_{2} > \\theta_{1} | data) \\\\\n",
       "    \\hline\n",
       "    \\theta_{1} & 2.203 & [2.118, 2.290] & 0.998  \\\\\n",
       "    \\theta_{2} & 2.690 & [2.371, 3.027] & -  \\\\\n",
       "    \\end{array}\n",
       "    $"
      ],
      "text/plain": [
       "<IPython.core.display.Math object>"
      ]
     },
     "execution_count": 15,
     "metadata": {},
     "output_type": "execute_result"
    }
   ],
   "source": [
    "results2 = summarise_result(\n",
    "    a1=2.2 * 100,\n",
    "    b1=100,\n",
    "    a2=2.2,\n",
    "    b2=1,\n",
    "    df_cancer_noreact=df_cancer_noreact,\n",
    "    df_cancer_react=df_cancer_react,\n",
    ")\n",
    "\n",
    "\n",
    "display_results(results2)"
   ]
  },
  {
   "cell_type": "code",
   "execution_count": 16,
   "metadata": {},
   "outputs": [
    {
     "data": {
      "image/png": "[encoded data removed]",
      "text/plain": [
       "<Figure size 640x480 with 1 Axes>"
      ]
     },
     "metadata": {},
     "output_type": "display_data"
    }
   ],
   "source": [
    "_ = plot_pdf_comparison(results2, lim=(2.0, 3.2))"
   ]
  },
  {
   "cell_type": "markdown",
   "metadata": {},
   "source": [
    "### 意見3"
   ]
  },
  {
   "cell_type": "code",
   "execution_count": 17,
   "metadata": {},
   "outputs": [
    {
     "data": {
      "text/latex": [
       "$\\displaystyle \n",
       "    \\begin{array}{c|c:c:c}\n",
       "    &E[\\theta|data] &\\text{0.95 CI} & \\text{Pr}(\\theta_{2} > \\theta_{1} | data) \\\\\n",
       "    \\hline\n",
       "    \\theta_{1} & 2.203 & [2.114, 2.295] & 0.998  \\\\\n",
       "    \\theta_{2} & 2.690 & [2.371, 3.027] & -  \\\\\n",
       "    \\end{array}\n",
       "    $"
      ],
      "text/plain": [
       "<IPython.core.display.Math object>"
      ]
     },
     "execution_count": 17,
     "metadata": {},
     "output_type": "execute_result"
    }
   ],
   "source": [
    "results3 = summarise_result(\n",
    "    a1=2.2,\n",
    "    b1=1,\n",
    "    a2=2.2,\n",
    "    b2=1,\n",
    "    df_cancer_noreact=df_cancer_noreact,\n",
    "    df_cancer_react=df_cancer_react,\n",
    ")\n",
    "\n",
    "\n",
    "display_results(results3)"
   ]
  },
  {
   "cell_type": "code",
   "execution_count": 18,
   "metadata": {},
   "outputs": [
    {
     "data": {
      "image/png": "[encoded data removed]",
      "text/plain": [
       "<Figure size 640x480 with 1 Axes>"
      ]
     },
     "metadata": {},
     "output_type": "display_data"
    }
   ],
   "source": [
    "_ = plot_pdf_comparison(results3, lim=(2.0, 3.2))"
   ]
  },
  {
   "cell_type": "markdown",
   "metadata": {},
   "source": [
    "## d"
   ]
  },
  {
   "cell_type": "markdown",
   "metadata": {},
   "source": [
    "人口規模が致死率に影響を与える可能性として、以下のことが考えられる。(Claude Chatに聞きました)\n",
    "\n",
    "1. 医療資源へのアクセス:\n",
    "    - 大規模な人口を抱える地域では、医療施設や医療従事者数が多く、がん検診や治療へのアクセスが良いため、死亡率が低くなる可能性があります。\n",
    "2. 環境要因: \n",
    "    - 人口密集地域では大気汚染や化学物質曝露のリスクが高く、がん発症リスクが上がる可能性があります。\n",
    "3. ライフスタイル: \n",
    "    - 都市部では運動不足、食生活の西洋化などのライフスタイル要因からがんリスクが高まる傾向にあります。"
   ]
  },
  {
   "cell_type": "markdown",
   "metadata": {},
   "source": [
    "人口規模が致死率に影響を与える可能性がある場合、モデルを変更する必要がある。例えば以下のようなモデルが考えられる。"
   ]
  },
  {
   "cell_type": "markdown",
   "metadata": {},
   "source": [
    "$$\n",
    "\\begin{aligned}\n",
    "& {Y_i | \\theta} \\sim \\text{Poisson}(\\theta X_i) \\\\\n",
    "& \\log(\\theta) = \\beta _0 + \\beta _1 X_i \\\\ \n",
    "& \\beta _0 \\sim N(\\mu _0, \\sigma _0^2) \\\\\n",
    "& \\beta _1 \\sim N(\\mu _1, \\sigma _1^2)\n",
    "\\end{aligned}\n",
    "$$"
   ]
  },
  {
   "cell_type": "markdown",
   "metadata": {},
   "source": [
    "## e"
   ]
  },
  {
   "cell_type": "markdown",
   "metadata": {},
   "source": [
    "今までは、 $\\theta_1, \\theta_2$ が信念を互いに情報を与えないことを反映して、事前分布を以下のように設定していた。  \n",
    "事前分布の密度関数が積の形になっていることが「互いに情報を与えないこと」を表している。\n",
    "\n",
    "$$\n",
    "p(\\theta_1, \\theta_2) = \n",
    "p(\\theta_1) \\times p(\\theta_2) = \n",
    "\\text{dgamma}(\\theta_1, a_1, b_1)\n",
    "\\times\n",
    "\\text{dgamma}(\\theta_2, a_2, b_2)\n",
    "$$"
   ]
  },
  {
   "cell_type": "markdown",
   "metadata": {},
   "source": [
    "$\\theta_1, \\theta_2$ を従属であるように定式化するには、同時事前分布の密度関数が積の形で分解できない分布を選べばいい。  \n",
    "例えば、[ウィシャート分布](https://en.wikipedia.org/wiki/Wishart_distribution)(カイ二乗分布の多変量版)や\n",
    "[行列ガンマ分布](https://en.wikipedia.org/wiki/Matrix_gamma_distribution)(ガンマ分布の多変量版)を選べばいい。"
   ]
  }
 ],
 "metadata": {
  "kernelspec": {
   "display_name": "Python 3",
   "language": "python",
   "name": "python3"
  },
  "language_info": {
   "codemirror_mode": {
    "name": "ipython",
    "version": 3
   },
   "file_extension": ".py",
   "mimetype": "text/x-python",
   "name": "python",
   "nbconvert_exporter": "python",
   "pygments_lexer": "ipython3",
   "version": "3.9.18"
  }
 },
 "nbformat": 4,
 "nbformat_minor": 2
}
