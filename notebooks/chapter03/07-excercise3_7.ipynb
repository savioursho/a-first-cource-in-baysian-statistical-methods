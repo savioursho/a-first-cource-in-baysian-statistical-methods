{
 "cells": [
  {
   "cell_type": "markdown",
   "metadata": {},
   "source": [
    "# 3.7 事後予測"
   ]
  },
  {
   "cell_type": "code",
   "execution_count": 1,
   "metadata": {},
   "outputs": [],
   "source": [
    "import pandas as pd\n",
    "import numpy as np\n",
    "from scipy import stats, special\n",
    "import seaborn as sns\n",
    "import warnings\n",
    "\n",
    "from mylib.summarise import summarise_binom_beta\n",
    "\n",
    "sns.set_theme()\n",
    "warnings.simplefilter(\"ignore\")"
   ]
  },
  {
   "cell_type": "markdown",
   "metadata": {},
   "source": [
    "## a"
   ]
  },
  {
   "cell_type": "code",
   "execution_count": 2,
   "metadata": {},
   "outputs": [
    {
     "name": "stdout",
     "output_type": "stream",
     "text": [
      "Posterior Distributiion:\n",
      " \t beta(3, 14)\n",
      "Posterior Mean:\n",
      " \t 0.17647058823529413\n",
      "Posterior Variance:\n",
      " \t 0.008073817762399077\n",
      "Posterior Mode:\n",
      " \t 0.13333333333333333\n",
      "95% Credible Interval:\n",
      " \t (0.0404737339059459, 0.38347623684926346)\n"
     ]
    }
   ],
   "source": [
    "# 先行実験の結果\n",
    "n1 = 15\n",
    "y1 = 2\n",
    "\n",
    "# 事前分布のパラメータ\n",
    "a = 1\n",
    "b = 1\n",
    "\n",
    "# thetaの事後分布\n",
    "results_3_7_a = summarise_binom_beta(a=a, b=b, y=y1, n=n1, print_results=True)"
   ]
  },
  {
   "cell_type": "code",
   "execution_count": 3,
   "metadata": {},
   "outputs": [
    {
     "data": {
      "image/png": "[encoded data removed]",
      "text/plain": [
       "<Figure size 500x500 with 1 Axes>"
      ]
     },
     "metadata": {},
     "output_type": "display_data"
    }
   ],
   "source": [
    "def plot_3_7_a():\n",
    "    theta = np.linspace(0, 1, 100)\n",
    "    df = pd.DataFrame(\n",
    "        {\n",
    "            \"theta\": theta,\n",
    "            \"probability\": stats.beta.pdf(\n",
    "                theta, a=results_3_7_a[\"a_posterior\"], b=results_3_7_a[\"b_posterior\"]\n",
    "            ),\n",
    "        }\n",
    "    )\n",
    "    sns.relplot(\n",
    "        df,\n",
    "        x=\"theta\",\n",
    "        y=\"probability\",\n",
    "        kind=\"line\",\n",
    "    )\n",
    "\n",
    "\n",
    "plot_3_7_a()"
   ]
  },
  {
   "cell_type": "markdown",
   "metadata": {},
   "source": [
    "## b"
   ]
  },
  {
   "cell_type": "code",
   "execution_count": 4,
   "metadata": {},
   "outputs": [],
   "source": [
    "# 特別教育クラスの子供の数\n",
    "n2 = 278"
   ]
  },
  {
   "cell_type": "markdown",
   "metadata": {},
   "source": [
    "### i."
   ]
  },
  {
   "cell_type": "markdown",
   "metadata": {},
   "source": [
    "条件付き確率 $Pr(Y_2 = y_2 | Y_1 = y_1)$ は一般に\n",
    "\n",
    "$$\n",
    "Pr(Y_2 = y2 | Y_1 = y_1)\n",
    "=\n",
    "\\int^{1}_{0} Pr(Y_{2} = y_{2} |Y_1 = y_1, \\theta ) p(\\theta|Y_1=2) d\\theta\n",
    "$$\n",
    "\n",
    "と書ける。よって、\n",
    "等式\n",
    "\n",
    "$$\n",
    "Pr(Y_2 = y2 | Y_1 = 2)\n",
    "=\n",
    "\\int^{1}_{0} Pr(Y_{2} = y_{2} | \\theta ) p(\\theta|Y_1=2) d\\theta\n",
    "$$\n",
    "\n",
    "が成り立つためには、\n",
    "\n",
    "$$\n",
    "Pr(Y_{2} = y_{2} |Y_1 = y_1, \\theta )\n",
    "=\n",
    "Pr(Y_{2} = y_{2} | \\theta ) \n",
    "\\\\\n",
    "\\Leftrightarrow\n",
    "Pr(Y_{2} = y_{2} ,Y_1 = y_1| \\theta )\n",
    "=\n",
    "Pr(Y_{2} = y_{2} | \\theta )\n",
    "Pr(Y_{1} = y_{1} | \\theta )\n",
    "$$\n",
    "\n",
    "つまり、$\\theta$ で条件付けたときに $Y_1, Y_2$ が条件付き独立であることが必要となる。"
   ]
  },
  {
   "cell_type": "markdown",
   "metadata": {},
   "source": [
    "### ii. , iii."
   ]
  },
  {
   "cell_type": "markdown",
   "metadata": {},
   "source": [
    "それぞれの分布関するは以下のようになる。\n",
    "\n",
    "$$\n",
    "\\begin{aligned}\n",
    "Pr(Y_2 = y_2 | \\theta) &= dbinom(y_2, n=n_2, p=\\theta) \\\\\n",
    "&= \\binom{n_2}{y_2} \\theta ^{y_2} (1 - \\theta) ^{n_2 - y_2} \\\\\n",
    "p(\\theta | Y_1 = 2) &= dbeta(\\theta, a=y_1 + 1, b=n_1 - y_1 + 1) \\\\\n",
    "&= dbeta(\\theta, a=3, b=14) \\\\\n",
    "&= \\frac{1}{B(3, 14)} \\theta ^{2} (1 - \\theta)^{13}\n",
    "\\end{aligned}\n",
    "$$\n",
    "\n",
    "これより、積分を実行する。\n",
    "\n",
    "$$\n",
    "\\begin{aligned}\n",
    "Pr(Y_2 = y2 | Y_1 = 2)\n",
    "&= \\int^{1}_{0} Pr(Y_{2} = y_{2} | \\theta ) p(\\theta|Y_1=2) d\\theta \\\\\n",
    "&= \\binom{n_2}{y_2} \\frac{1}{B(3, 14)} \\int^{1}_{0} \\theta ^{y_2 + 3 - 1} (1-\\theta)^{n_2 - y_2 + 14 -1} d\\theta \\\\\n",
    "&= \\binom{n_2}{y_2} \\frac{B(y_2 + 3, n_2 - y_2 + 14)}{B(3, 14)}\n",
    "\\end{aligned}\n",
    "$$"
   ]
  },
  {
   "cell_type": "markdown",
   "metadata": {},
   "source": [
    "この計算が合っているかを確認する。"
   ]
  },
  {
   "cell_type": "code",
   "execution_count": 5,
   "metadata": {},
   "outputs": [],
   "source": [
    "def pmf_y2_3_7(y2, n2=278):\n",
    "    return (\n",
    "        special.binom(n2, y2) * special.beta(y2 + 3, n2 - y2 + 14) / special.beta(3, 14)\n",
    "    )"
   ]
  },
  {
   "cell_type": "code",
   "execution_count": 6,
   "metadata": {},
   "outputs": [
    {
     "data": {
      "text/html": [
       "<div>\n",
       "<style scoped>\n",
       "    .dataframe tbody tr th:only-of-type {\n",
       "        vertical-align: middle;\n",
       "    }\n",
       "\n",
       "    .dataframe tbody tr th {\n",
       "        vertical-align: top;\n",
       "    }\n",
       "\n",
       "    .dataframe thead th {\n",
       "        text-align: right;\n",
       "    }\n",
       "</style>\n",
       "<table border=\"1\" class=\"dataframe\">\n",
       "  <thead>\n",
       "    <tr style=\"text-align: right;\">\n",
       "      <th></th>\n",
       "      <th>y2</th>\n",
       "      <th>proba</th>\n",
       "    </tr>\n",
       "  </thead>\n",
       "  <tbody>\n",
       "    <tr>\n",
       "      <th>0</th>\n",
       "      <td>1</td>\n",
       "      <td>3.828376e-04</td>\n",
       "    </tr>\n",
       "    <tr>\n",
       "      <th>1</th>\n",
       "      <td>2</td>\n",
       "      <td>7.313517e-04</td>\n",
       "    </tr>\n",
       "    <tr>\n",
       "      <th>2</th>\n",
       "      <td>3</td>\n",
       "      <td>1.164089e-03</td>\n",
       "    </tr>\n",
       "    <tr>\n",
       "      <th>3</th>\n",
       "      <td>4</td>\n",
       "      <td>1.667315e-03</td>\n",
       "    </tr>\n",
       "    <tr>\n",
       "      <th>4</th>\n",
       "      <td>5</td>\n",
       "      <td>2.228509e-03</td>\n",
       "    </tr>\n",
       "    <tr>\n",
       "      <th>273</th>\n",
       "      <td>274</td>\n",
       "      <td>9.189968e-19</td>\n",
       "    </tr>\n",
       "    <tr>\n",
       "      <th>274</th>\n",
       "      <td>275</td>\n",
       "      <td>2.178071e-19</td>\n",
       "    </tr>\n",
       "    <tr>\n",
       "      <th>275</th>\n",
       "      <td>276</td>\n",
       "      <td>4.113477e-20</td>\n",
       "    </tr>\n",
       "    <tr>\n",
       "      <th>276</th>\n",
       "      <td>277</td>\n",
       "      <td>5.524237e-21</td>\n",
       "    </tr>\n",
       "    <tr>\n",
       "      <th>277</th>\n",
       "      <td>278</td>\n",
       "      <td>3.974271e-22</td>\n",
       "    </tr>\n",
       "  </tbody>\n",
       "</table>\n",
       "</div>"
      ],
      "text/plain": [
       "      y2         proba\n",
       "0      1  3.828376e-04\n",
       "1      2  7.313517e-04\n",
       "2      3  1.164089e-03\n",
       "3      4  1.667315e-03\n",
       "4      5  2.228509e-03\n",
       "273  274  9.189968e-19\n",
       "274  275  2.178071e-19\n",
       "275  276  4.113477e-20\n",
       "276  277  5.524237e-21\n",
       "277  278  3.974271e-22"
      ]
     },
     "metadata": {},
     "output_type": "display_data"
    },
    {
     "data": {
      "text/plain": [
       "proba    0.999866\n",
       "dtype: float64"
      ]
     },
     "execution_count": 6,
     "metadata": {},
     "output_type": "execute_result"
    }
   ],
   "source": [
    "df_3_7_b = pd.DataFrame()\n",
    "df_3_7_b[\"y2\"] = np.arange(1, 278 + 1)\n",
    "df_3_7_b[\"proba\"] = df_3_7_b[\"y2\"].apply(pmf_y2_3_7)\n",
    "\n",
    "display(df_3_7_b.iloc[np.hstack([np.arange(5), np.arange(5) - 5])])\n",
    "\n",
    "# 確率の和がほぼ1になっているか確認\n",
    "df_3_7_b[[\"proba\"]].sum()"
   ]
  },
  {
   "cell_type": "markdown",
   "metadata": {},
   "source": [
    "確率の和がほぼ1になっているのでたぶん大丈夫"
   ]
  },
  {
   "cell_type": "markdown",
   "metadata": {},
   "source": [
    "## c"
   ]
  },
  {
   "cell_type": "markdown",
   "metadata": {},
   "source": [
    "TBW"
   ]
  },
  {
   "cell_type": "markdown",
   "metadata": {},
   "source": [
    "## d"
   ]
  },
  {
   "cell_type": "markdown",
   "metadata": {},
   "source": [
    "TBW"
   ]
  }
 ],
 "metadata": {
  "kernelspec": {
   "display_name": "Python 3",
   "language": "python",
   "name": "python3"
  },
  "language_info": {
   "codemirror_mode": {
    "name": "ipython",
    "version": 3
   },
   "file_extension": ".py",
   "mimetype": "text/x-python",
   "name": "python",
   "nbconvert_exporter": "python",
   "pygments_lexer": "ipython3",
   "version": "3.9.18"
  }
 },
 "nbformat": 4,
 "nbformat_minor": 2
}
