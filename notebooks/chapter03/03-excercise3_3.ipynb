{
 "cells": [
  {
   "cell_type": "markdown",
   "metadata": {},
   "source": [
    "# 3.3 腫瘍数"
   ]
  },
  {
   "cell_type": "code",
   "execution_count": 1,
   "metadata": {},
   "outputs": [],
   "source": [
    "import pandas as pd\n",
    "import numpy as np\n",
    "from scipy import stats\n",
    "import seaborn as sns\n",
    "import warnings\n",
    "\n",
    "sns.set_theme()\n",
    "warnings.simplefilter(\"ignore\")"
   ]
  },
  {
   "cell_type": "code",
   "execution_count": 2,
   "metadata": {},
   "outputs": [],
   "source": [
    "y_A = [12, 9, 12, 14, 13, 13, 15, 8, 15, 6]\n",
    "y_B = [11, 11, 10, 9, 9, 8, 7, 10, 6, 8, 8, 9, 7]"
   ]
  },
  {
   "cell_type": "code",
   "execution_count": 3,
   "metadata": {},
   "outputs": [
    {
     "name": "stdout",
     "output_type": "stream",
     "text": [
      "A系統のデータの要約統計量\n",
      "DescribeResult(nobs=10, minmax=(6, 15), mean=11.7, variance=9.344444444444445, skewness=-0.6848989298454216, kurtosis=-0.784392624713516)\n",
      "\n",
      "B系統のデータの要約統計量\n",
      "DescribeResult(nobs=13, minmax=(6, 11), mean=8.692307692307692, variance=2.3974358974358974, skewness=-0.024886573315266888, kurtosis=-0.9230890217049392)\n"
     ]
    }
   ],
   "source": [
    "print(\"A系統のデータの要約統計量\")\n",
    "print(stats.describe(y_A))\n",
    "print()\n",
    "print(\"B系統のデータの要約統計量\")\n",
    "print(stats.describe(y_B))"
   ]
  },
  {
   "cell_type": "markdown",
   "metadata": {},
   "source": [
    "## a"
   ]
  },
  {
   "cell_type": "code",
   "execution_count": 4,
   "metadata": {},
   "outputs": [],
   "source": [
    "def summarise_poisson_gamma(a, b, y, print_results=False):\n",
    "    # 結果を保存する辞書\n",
    "    results_dict = {}\n",
    "\n",
    "    # 事後分布のパラメータ\n",
    "    a_posterior = a + np.sum(y)\n",
    "    b_posterior = b + len(y)\n",
    "    results_dict[\"a_posterior\"] = a_posterior\n",
    "    results_dict[\"b_posterior\"] = b_posterior\n",
    "\n",
    "    # 事後平均\n",
    "    posterior_mean = a_posterior / b_posterior\n",
    "    results_dict[\"posterior_mean\"] = posterior_mean\n",
    "\n",
    "    # 事後分散\n",
    "    posterior_var = a_posterior / (b_posterior**2)\n",
    "    results_dict[\"posterior_var\"] = posterior_var\n",
    "\n",
    "    # 信用区間\n",
    "    credible_interval = stats.gamma.interval(\n",
    "        confidence=0.95, a=a_posterior, scale=1 / b_posterior\n",
    "    )\n",
    "    results_dict[\"credible_interval\"] = credible_interval\n",
    "\n",
    "    if print_results:\n",
    "        print(\n",
    "            \"Posterior Distributiion:\\n\",\n",
    "            f\"\\tgamma({a_posterior}, {b_posterior})\",\n",
    "            end=\"\\n\",\n",
    "        )\n",
    "        print(\"Posterior Mean:\\n\", f\"\\t {posterior_mean}\", end=\"\\n\")\n",
    "        print(\"Posterior Variance:\\n\", f\"\\t {posterior_var}\", end=\"\\n\")\n",
    "        print(\"95% Credible Interval:\\n\", f\"\\t {credible_interval}\", end=\"\\n\")\n",
    "\n",
    "    return results_dict"
   ]
  },
  {
   "cell_type": "code",
   "execution_count": 5,
   "metadata": {},
   "outputs": [
    {
     "name": "stdout",
     "output_type": "stream",
     "text": [
      "Posterior Distributiion:\n",
      " \tgamma(237, 20)\n",
      "Posterior Mean:\n",
      " \t 11.85\n",
      "Posterior Variance:\n",
      " \t 0.5925\n",
      "95% Credible Interval:\n",
      " \t (10.389238190941795, 13.405448325642006)\n"
     ]
    }
   ],
   "source": [
    "results_A = summarise_poisson_gamma(\n",
    "    a=120,\n",
    "    b=10,\n",
    "    y=y_A,\n",
    "    print_results=True,\n",
    ")"
   ]
  },
  {
   "cell_type": "code",
   "execution_count": 6,
   "metadata": {},
   "outputs": [
    {
     "name": "stdout",
     "output_type": "stream",
     "text": [
      "Posterior Distributiion:\n",
      " \tgamma(125, 14)\n",
      "Posterior Mean:\n",
      " \t 8.928571428571429\n",
      "Posterior Variance:\n",
      " \t 0.6377551020408163\n",
      "95% Credible Interval:\n",
      " \t (7.432064219464302, 10.560308149242363)\n"
     ]
    }
   ],
   "source": [
    "results_B = summarise_poisson_gamma(\n",
    "    a=12,\n",
    "    b=1,\n",
    "    y=y_B,\n",
    "    print_results=True,\n",
    ")"
   ]
  },
  {
   "cell_type": "markdown",
   "metadata": {},
   "source": [
    "## b"
   ]
  },
  {
   "cell_type": "code",
   "execution_count": 7,
   "metadata": {},
   "outputs": [
    {
     "data": {
      "text/html": [
       "<div>\n",
       "<style scoped>\n",
       "    .dataframe tbody tr th:only-of-type {\n",
       "        vertical-align: middle;\n",
       "    }\n",
       "\n",
       "    .dataframe tbody tr th {\n",
       "        vertical-align: top;\n",
       "    }\n",
       "\n",
       "    .dataframe thead th {\n",
       "        text-align: right;\n",
       "    }\n",
       "</style>\n",
       "<table border=\"1\" class=\"dataframe\">\n",
       "  <thead>\n",
       "    <tr style=\"text-align: right;\">\n",
       "      <th></th>\n",
       "      <th>n0</th>\n",
       "      <th>a</th>\n",
       "      <th>b</th>\n",
       "      <th>posterior_mean</th>\n",
       "    </tr>\n",
       "  </thead>\n",
       "  <tbody>\n",
       "    <tr>\n",
       "      <th>0</th>\n",
       "      <td>1</td>\n",
       "      <td>12</td>\n",
       "      <td>1</td>\n",
       "      <td>8.928571</td>\n",
       "    </tr>\n",
       "    <tr>\n",
       "      <th>1</th>\n",
       "      <td>2</td>\n",
       "      <td>24</td>\n",
       "      <td>2</td>\n",
       "      <td>9.133333</td>\n",
       "    </tr>\n",
       "    <tr>\n",
       "      <th>2</th>\n",
       "      <td>3</td>\n",
       "      <td>36</td>\n",
       "      <td>3</td>\n",
       "      <td>9.312500</td>\n",
       "    </tr>\n",
       "    <tr>\n",
       "      <th>3</th>\n",
       "      <td>4</td>\n",
       "      <td>48</td>\n",
       "      <td>4</td>\n",
       "      <td>9.470588</td>\n",
       "    </tr>\n",
       "    <tr>\n",
       "      <th>4</th>\n",
       "      <td>5</td>\n",
       "      <td>60</td>\n",
       "      <td>5</td>\n",
       "      <td>9.611111</td>\n",
       "    </tr>\n",
       "  </tbody>\n",
       "</table>\n",
       "</div>"
      ],
      "text/plain": [
       "   n0   a  b  posterior_mean\n",
       "0   1  12  1        8.928571\n",
       "1   2  24  2        9.133333\n",
       "2   3  36  3        9.312500\n",
       "3   4  48  4        9.470588\n",
       "4   5  60  5        9.611111"
      ]
     },
     "execution_count": 7,
     "metadata": {},
     "output_type": "execute_result"
    }
   ],
   "source": [
    "df_3_3 = pd.DataFrame()\n",
    "\n",
    "df_3_3[\"n0\"] = np.arange(1, 50 + 1)\n",
    "df_3_3[\"a\"] = df_3_3[\"n0\"].mul(12)\n",
    "df_3_3[\"b\"] = df_3_3[\"n0\"]\n",
    "\n",
    "df_3_3[\"posterior_mean\"] = df_3_3.apply(\n",
    "    lambda row: summarise_poisson_gamma(a=row[\"a\"], b=row[\"b\"], y=y_B)[\n",
    "        \"posterior_mean\"\n",
    "    ],\n",
    "    axis=1,\n",
    ")\n",
    "\n",
    "df_3_3.head()"
   ]
  },
  {
   "cell_type": "code",
   "execution_count": 8,
   "metadata": {},
   "outputs": [
    {
     "data": {
      "image/png": "[encoded data removed]",
      "text/plain": [
       "<Figure size 750x500 with 1 Axes>"
      ]
     },
     "metadata": {},
     "output_type": "display_data"
    }
   ],
   "source": [
    "_ = sns.relplot(\n",
    "    df_3_3,\n",
    "    x=\"n0\",\n",
    "    y=\"posterior_mean\",\n",
    "    aspect=1.5,\n",
    ").set(ylim=(None, 12.0))"
   ]
  },
  {
   "cell_type": "markdown",
   "metadata": {},
   "source": [
    "$\\theta_B$ の事後期待値が $\\theta_A$ の事後期待値 (= 11.85) に近い値をとるためには、大きい $n_0$ をとる必要がある。\n",
    "つまり、$\\theta_B = 12$ であるという強い信念が必要となる。"
   ]
  },
  {
   "cell_type": "markdown",
   "metadata": {},
   "source": [
    "## c\n",
    "\n",
    "TBW"
   ]
  },
  {
   "cell_type": "markdown",
   "metadata": {},
   "source": []
  }
 ],
 "metadata": {
  "kernelspec": {
   "display_name": "Python 3",
   "language": "python",
   "name": "python3"
  },
  "language_info": {
   "codemirror_mode": {
    "name": "ipython",
    "version": 3
   },
   "file_extension": ".py",
   "mimetype": "text/x-python",
   "name": "python",
   "nbconvert_exporter": "python",
   "pygments_lexer": "ipython3",
   "version": "3.9.18"
  }
 },
 "nbformat": 4,
 "nbformat_minor": 2
}
