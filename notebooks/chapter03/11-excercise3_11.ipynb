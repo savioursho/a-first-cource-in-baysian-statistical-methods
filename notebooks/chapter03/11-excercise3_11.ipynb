{
 "cells": [
  {
   "cell_type": "markdown",
   "metadata": {},
   "source": [
    "# 3.11 ジェフリーズ事前分布"
   ]
  },
  {
   "cell_type": "code",
   "execution_count": 2,
   "metadata": {},
   "outputs": [],
   "source": [
    "import pandas as pd\n",
    "import numpy as np\n",
    "from scipy import special\n",
    "import seaborn as sns\n",
    "import warnings\n",
    "\n",
    "sns.set_theme()\n",
    "warnings.simplefilter(\"ignore\")"
   ]
  },
  {
   "cell_type": "markdown",
   "metadata": {},
   "source": [
    "## a"
   ]
  },
  {
   "cell_type": "markdown",
   "metadata": {},
   "source": [
    "$$\n",
    "Y \\sim \\text{binomial}(n, \\theta)\n",
    "$$\n",
    "\n",
    "確率密度関数・対数尤度関数は\n",
    "\n",
    "$$\n",
    "\\begin{aligned}\n",
    "p(y|\\theta)\n",
    "&= \\binom{n}{y}\n",
    "\\theta^{y}(1 - \\theta)^{n - y}\n",
    "\\\\\n",
    "l(\\theta)\n",
    "&= \\log p(y|\\theta)\n",
    "\\\\\n",
    "&= y \\log \\theta + (n - y) \\log (1 - \\theta) + \\log \\binom{n}{y}\n",
    "\\end{aligned}\n",
    "$$\n",
    "\n",
    "である。"
   ]
  },
  {
   "cell_type": "markdown",
   "metadata": {},
   "source": [
    "フィッシャー情報量 $I(\\theta)$ を計算する。\n",
    "\n",
    "$$\n",
    "\\begin{aligned}\n",
    "\\frac{\\partial ^ 2}{\\partial \\theta ^2} l(\\theta)\n",
    "&= \\frac{\\partial}{\\partial \\theta} \\left(\\frac{y}{\\theta} - \\frac{n - y}{1 - \\theta} \\right)\n",
    "\\\\\n",
    "&= - \\frac{y}{\\theta ^2} - \\frac{n - y}{(1 - \\theta)^2}\n",
    "\\\\\n",
    "&= - \\frac{\n",
    "    \\theta^2 n + (1 - 2\\theta)y\n",
    "}{\n",
    "    \\theta^2 (1- \\theta)^2\n",
    "}\n",
    "\\end{aligned}\n",
    "$$\n",
    "\n",
    "$$\n",
    "\\begin{aligned}\n",
    "I(\\theta)\n",
    "&= - E_{Y} \\left [ \\left .\n",
    "\\frac{\\partial ^ 2}{\\partial \\theta ^2} l(\\theta)\n",
    "    \\right | \\theta \\right]\n",
    "\\\\\n",
    "&= \\frac{\n",
    "    \\theta^2 n + (1 - 2\\theta) n\\theta\n",
    "}{\n",
    "    \\theta^2 (1- \\theta)^2\n",
    "}\n",
    "\\\\\n",
    "&= \\frac{n}{\\theta (1 - \\theta)}\n",
    "\\end{aligned}\n",
    "$$"
   ]
  },
  {
   "cell_type": "markdown",
   "metadata": {},
   "source": [
    "フィッシャー情報量を使って、ジェフリーズ事前分布を計算する。\n",
    "\n",
    "$$\n",
    "p_{J}(\\theta) \\propto \\sqrt{I(\\theta)} \\propto \\sqrt{\\theta ^{-1} (1 - \\theta)^{-1}} = \\theta^{\\frac{1}{2} - 1} (1 - \\theta)^{\\frac{1}{2} - 1}\n",
    "$$\n",
    "\n",
    "これは $\\text{beta}(\\frac{1}{2}, \\frac{1}{2})$ の確率密度関数に比例しているため、比例定数も決まって、\n",
    "\n",
    "$$\n",
    "p_{J}(\\theta) = \\frac{1}{B(1/2, 1/2)} \\theta^{\\frac{1}{2} - 1} (1 - \\theta)^{\\frac{1}{2} - 1} = \\frac{1}{\\pi}\\theta^{\\frac{1}{2} - 1} (1 - \\theta)^{\\frac{1}{2} - 1}\n",
    "$$\n",
    "\n",
    "となる。"
   ]
  },
  {
   "cell_type": "markdown",
   "metadata": {},
   "source": [
    "(content:b)=\n",
    "## b"
   ]
  },
  {
   "cell_type": "markdown",
   "metadata": {},
   "source": [
    "変数変換\n",
    "\n",
    "$$\n",
    "\\begin{aligned}\n",
    "\\psi &= \\log \\frac{\\theta}{1 - \\theta}\n",
    "\\\\\n",
    "p(y|\\psi) &= \\binom{n}{y} e^{\\psi y}(1 + e^{\\psi})^{-n}\n",
    "\\\\\n",
    "l(\\psi) &= \\psi y - n \\log (1 + e^{\\psi}) + \\log \\binom{n}{y}\n",
    "\\end{aligned}\n",
    "$$"
   ]
  },
  {
   "cell_type": "markdown",
   "metadata": {},
   "source": [
    "フィッシャー情報量を計算する。\n",
    "\n",
    "$$\n",
    "\\begin{aligned}\n",
    "\\frac{\\partial^2}{\\partial \\psi ^2}\n",
    "l(\\psi)\n",
    "&= \n",
    "\\frac{\\partial}{\\partial \\psi}\n",
    "\\left (\n",
    "    y - n \\frac{e^{\\psi}}{1 + e^{\\psi}}\n",
    "\\right)\n",
    "\\\\\n",
    "&= \n",
    "\\frac{\\partial}{\\partial \\psi}\n",
    "\\left (\n",
    "    y - n \\frac{1}{1 + e^{-\\psi}}\n",
    "\\right)\n",
    "\\\\\n",
    "&= \\frac{-ne^{-\\psi}}{(1 + e^{-\\psi})^2}\n",
    "\\end{aligned}\n",
    "$$\n",
    "\n",
    "$$\n",
    "\\begin{aligned}\n",
    "I(\\psi)\n",
    "&= - E_{Y} \\left [ \\left .\n",
    "\\frac{\\partial ^ 2}{\\partial \\psi ^2} l(\\psi)\n",
    "    \\right | \\psi \\right]\n",
    "\\\\\n",
    "&= - E_{Y} \\left [ \\left .\n",
    "\\frac{-ne^{-\\psi}}{(1 + e^{-\\psi})^2}\n",
    "    \\right | \\psi \\right]\n",
    "\\\\\n",
    "&= \n",
    "\\frac{ne^{-\\psi}}{(1 + e^{-\\psi})^2}\n",
    "\\end{aligned}\n",
    "$$"
   ]
  },
  {
   "cell_type": "markdown",
   "metadata": {},
   "source": [
    "ジェフリーズ事前分布を計算する。\n",
    "\n",
    "$$\n",
    "p_{J}(\\psi) \\propto \\sqrt{I(\\psi)} \\propto \\frac{e^{-\\frac{1}{2}\\psi}}{(1 + e^{-\\psi})^ {\\frac{1}{2} + \\frac{1}{2}}}\n",
    "$$\n",
    "\n",
    "これはパラメータ $\\alpha = \\frac{1}{2}, \\beta = \\frac{1}{2}$ の[タイプⅣの一般化ロジスティック分布](https://en.wikipedia.org/wiki/Generalized_logistic_distribution#Type_IV)の確率密度関数に比例している。\n",
    "\n",
    "$$\n",
    "p_{J}(\\psi) = \\frac{1}{B(\\frac{1}{2}, \\frac{1}{2})} \\frac{e^{-\\frac{1}{2}\\psi}}{(1 + e^{-\\psi})^ {\\frac{1}{2} + \\frac{1}{2}}}\n",
    "= \\frac{1}{\\pi} \\frac{e^{-\\frac{1}{2}\\psi}}{(1 + e^{-\\psi})^ {\\frac{1}{2} + \\frac{1}{2}}}\n",
    "$$"
   ]
  },
  {
   "cell_type": "markdown",
   "metadata": {},
   "source": [
    "## c"
   ]
  },
  {
   "cell_type": "markdown",
   "metadata": {},
   "source": [
    "[](./10-excercise3_10.ipynb) の結果から、 $\\theta \\sim \\text{beta}(a, b)$ のもとで $\\psi = \\log \\frac{\\theta}{1 - \\theta}$ と変数変換したとき、 $p_{\\psi}$ は [b](content:b) の結果と同様に一般化ロジスティック分布となることがわかる。"
   ]
  },
  {
   "cell_type": "markdown",
   "metadata": {},
   "source": []
  }
 ],
 "metadata": {
  "kernelspec": {
   "display_name": "Python 3",
   "language": "python",
   "name": "python3"
  },
  "language_info": {
   "codemirror_mode": {
    "name": "ipython",
    "version": 3
   },
   "file_extension": ".py",
   "mimetype": "text/x-python",
   "name": "python",
   "nbconvert_exporter": "python",
   "pygments_lexer": "ipython3",
   "version": "3.9.18"
  }
 },
 "nbformat": 4,
 "nbformat_minor": 2
}
