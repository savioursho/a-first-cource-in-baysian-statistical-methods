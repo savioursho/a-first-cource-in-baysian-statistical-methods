{
 "cells": [
  {
   "cell_type": "markdown",
   "metadata": {},
   "source": [
    "# 3.12 非正則なジェフリーズ事前分布"
   ]
  },
  {
   "cell_type": "code",
   "execution_count": 2,
   "metadata": {},
   "outputs": [],
   "source": [
    "import pandas as pd\n",
    "import numpy as np\n",
    "from scipy import special\n",
    "import seaborn as sns\n",
    "import warnings\n",
    "\n",
    "sns.set_theme()\n",
    "warnings.simplefilter(\"ignore\")"
   ]
  },
  {
   "cell_type": "markdown",
   "metadata": {},
   "source": [
    "$$\n",
    "Y \\sim \\text{Poisson}(\\theta)\n",
    "$$"
   ]
  },
  {
   "cell_type": "markdown",
   "metadata": {},
   "source": [
    "## a"
   ]
  },
  {
   "cell_type": "markdown",
   "metadata": {},
   "source": [
    "確率密度関数・対数尤度関数は\n",
    "\n",
    "$$\n",
    "\\begin{aligned}\n",
    "p(y|\\theta) \n",
    "&= \n",
    "\\frac{\\theta^{y}}{y!} e^{-\\theta}\n",
    "\\\\\n",
    "l(\\theta)\n",
    "&=\n",
    "y \\log \\theta - \\theta + \\text{const.}\n",
    "\\end{aligned}\n",
    "$$\n",
    "\n",
    "である。"
   ]
  },
  {
   "cell_type": "markdown",
   "metadata": {},
   "source": [
    "フィッシャー情報量を計算する。\n",
    "\n",
    "$$\n",
    "\\begin{aligned}\n",
    "\\frac{\\partial^{2}}{\\partial \\theta^2} l(\\theta)\n",
    "&= \\frac{\\partial}{\\partial \\theta} \\left (\n",
    "    \\frac{y}{\\theta} - 1\n",
    "\\right)\n",
    "\\\\\n",
    "&=\n",
    "- \\frac{y}{\\theta^2}\n",
    "\\end{aligned}\n",
    "$$\n",
    "\n",
    "$$\n",
    "I(\\theta) = - E_{Y} \\left [\n",
    "    \\left .\n",
    "        - \\frac{y}{\\theta^2}\n",
    "    \\right | \\theta\n",
    "\\right]\n",
    "= \\frac{\\theta}{\\theta^2}\n",
    "= \\frac{1}{\\theta}\n",
    "$$"
   ]
  },
  {
   "cell_type": "markdown",
   "metadata": {},
   "source": [
    "ジェフリーズ事前分布は\n",
    "\n",
    "$$\n",
    "p_{J}(\\theta) \\propto \\theta^{-1/2}\n",
    "$$\n",
    "\n",
    "となる。 $\\theta \\in (0, \\theta)$ に対する積分\n",
    "\n",
    "$$\n",
    "\\int _{0} ^{\\infty}  \\theta^{-1/2} d\\theta\n",
    "= \\Big [2 \\theta^{1/2} \\Big]_{0}^{\\infty}\n",
    "$$\n",
    "\n",
    "は収束しない。よって確率密度とならない。"
   ]
  },
  {
   "cell_type": "markdown",
   "metadata": {},
   "source": [
    "## b"
   ]
  },
  {
   "cell_type": "markdown",
   "metadata": {},
   "source": [
    "$$\n",
    "\\begin{aligned}\n",
    "f(\\theta, y) \n",
    "&\\propto\n",
    "\\sqrt{I(\\theta)} \\times p(y|\\theta)\n",
    "\\\\\n",
    "&= \\theta^{- 1/2} \\times \\frac{\\theta^{y}}{y!} e^{-\\theta}\n",
    "\\\\\n",
    "&= \\frac{\\theta^{y - 1/2} e^{-\\theta}}{y!} \n",
    "\\end{aligned}\n",
    "$$"
   ]
  },
  {
   "cell_type": "markdown",
   "metadata": {},
   "source": [
    "$f(y|\\theta)$ を計算する。\n",
    "\n",
    "$$\n",
    "\\begin{aligned}\n",
    "f(y|\\theta)\n",
    "&= \\frac{\n",
    "    f(y, \\theta)\n",
    "}{\n",
    "    \\sum_{y=0}^{\\infty} f(y, \\theta)\n",
    "}\n",
    "\\\\\n",
    "&= \\frac{\n",
    "    \\frac{\\theta^{y - 1/2} e^{-\\theta}}{y!}\n",
    "}{\n",
    "    \\theta^{-1/2}\n",
    "}\n",
    "\\\\\n",
    "&=\n",
    "\\frac{\\theta^{y}}{y!}\n",
    "e^{-\\theta}\n",
    "\\end{aligned}\n",
    "$$\n",
    "\n",
    "これは $dgamma(\\theta, y + 1, 1)$ に比例している。"
   ]
  },
  {
   "cell_type": "markdown",
   "metadata": {},
   "source": [
    "$$\n",
    "\\begin{aligned}\n",
    "f(\\theta|y) \n",
    "&= \\frac{f(y, \\theta)}{\\int f(y, \\theta) d\\theta}\n",
    "\\\\\n",
    "&= \\frac{\n",
    "    \\frac{\\theta^{y - 1/2} e^{-\\theta}}{y!}\n",
    "}{\n",
    "    \\frac{1}{y!} \\Gamma(y + 1/2)\n",
    "}\n",
    "\\\\\n",
    "&=\n",
    "\\frac{1}{\\Gamma(y + 1/2)} \\theta^{y + 1/2 - 1} e^{-\\theta}\n",
    "\\end{aligned}\n",
    "$$\n",
    "\n",
    "これは、サンプルサイズ1, 標本平均 $y+1/2$ のサンプルの情報をもつ事後分布と考えることができる。"
   ]
  },
  {
   "cell_type": "markdown",
   "metadata": {},
   "source": []
  }
 ],
 "metadata": {
  "kernelspec": {
   "display_name": "Python 3",
   "language": "python",
   "name": "python3"
  },
  "language_info": {
   "codemirror_mode": {
    "name": "ipython",
    "version": 3
   },
   "file_extension": ".py",
   "mimetype": "text/x-python",
   "name": "python",
   "nbconvert_exporter": "python",
   "pygments_lexer": "ipython3",
   "version": "3.9.18"
  }
 },
 "nbformat": 4,
 "nbformat_minor": 2
}
