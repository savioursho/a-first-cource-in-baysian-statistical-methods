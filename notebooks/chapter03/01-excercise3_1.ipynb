{
 "cells": [
  {
   "cell_type": "markdown",
   "metadata": {},
   "source": [
    "# 3.1 標本調査"
   ]
  },
  {
   "cell_type": "code",
   "execution_count": 1,
   "metadata": {},
   "outputs": [],
   "source": [
    "import pandas as pd\n",
    "import numpy as np\n",
    "from scipy import stats, signal, special\n",
    "import seaborn as sns\n",
    "import warnings\n",
    "\n",
    "sns.set_theme()\n",
    "warnings.simplefilter(\"ignore\")"
   ]
  },
  {
   "cell_type": "markdown",
   "metadata": {},
   "source": [
    "- サンプルサイズ:\n",
    "    - $N=100$\n",
    "- 変数$Y$\n",
    "    - $i$番目の人が政策を支持しているとき:  $Y_i = 1$\n",
    "    - $i$番目の人が政策を支持していないとき:    $Y_i = 0$"
   ]
  },
  {
   "cell_type": "markdown",
   "metadata": {},
   "source": [
    "## a"
   ]
  },
  {
   "cell_type": "markdown",
   "metadata": {},
   "source": [
    "### $Pr(Y_1 = y_1, \\cdots, Y_{100} = y_{100})$ を簡単な形で表す\n",
    "\n",
    "$Y_1 , \\cdots, Y_{100}$ が条件付き独立ということから、\n",
    "\n",
    "$$\n",
    "Pr(Y_1 = y_1, \\cdots, Y_{100} = y_{100})\n",
    "= \\prod _{i=1} ^{100} Pr(Y_{i} = y_{i} | \\theta)\n",
    "$$\n",
    "\n",
    "と書ける。\n",
    "\n",
    "期待値 $\\theta$ をもつ二値確率変数の分布関数は\n",
    "\n",
    "$$\n",
    "Pr(Y_{i} = y_{i}|\\theta)\n",
    "= \\theta^{y_i} (1 - \\theta) ^{1 - y_i}\n",
    "$$\n",
    "\n",
    "と表すことができる。（これはベルヌーイ分布である）\n",
    "\n",
    "以上より、\n",
    "\n",
    "$$\n",
    "\\begin{aligned}\n",
    "Pr(Y_1 = y_1, \\cdots, Y_{100} = y_{100})\n",
    "&= \\prod _{i=1} ^{100} \\theta^{y_i} (1 - \\theta) ^{1 - y_i} \\\\\n",
    "&= \\theta^{\\sum _{i} y_i} (1 - \\theta) ^{100 - \\sum _{i} y_i}\n",
    "\\end{aligned}\n",
    "$$\n",
    "\n",
    "と表すことができる。\n",
    "（これは互いに独立で同一のパラメータのベルヌーイ分布に従う100個の確率変数の同時確率である）"
   ]
  },
  {
   "cell_type": "markdown",
   "metadata": {},
   "source": [
    "### $Pr(\\sum _{i} Y_{i} = y | \\theta)$ を求める\n",
    "\n",
    "$Y = \\sum _{i} Y_{i}$ とすると、 確率変数 $Y$ はパラメータ $(n=100, \\theta)$ を持つ二項分布に従う。\n",
    "よって、確率分布は\n",
    "\n",
    "$$\n",
    "Pr(\\sum _{i} Y_{i} = y | \\theta)\n",
    "= \\binom{100}{y}\\theta^{y}(1 - \\theta)^{100 - y}\n",
    "$$\n",
    "\n",
    "となる。"
   ]
  },
  {
   "cell_type": "markdown",
   "metadata": {},
   "source": [
    "## b"
   ]
  },
  {
   "cell_type": "code",
   "execution_count": 2,
   "metadata": {},
   "outputs": [
    {
     "data": {
      "text/html": [
       "<div>\n",
       "<style scoped>\n",
       "    .dataframe tbody tr th:only-of-type {\n",
       "        vertical-align: middle;\n",
       "    }\n",
       "\n",
       "    .dataframe tbody tr th {\n",
       "        vertical-align: top;\n",
       "    }\n",
       "\n",
       "    .dataframe thead th {\n",
       "        text-align: right;\n",
       "    }\n",
       "</style>\n",
       "<table border=\"1\" class=\"dataframe\">\n",
       "  <thead>\n",
       "    <tr style=\"text-align: right;\">\n",
       "      <th></th>\n",
       "      <th>theta</th>\n",
       "      <th>likelifood</th>\n",
       "    </tr>\n",
       "  </thead>\n",
       "  <tbody>\n",
       "    <tr>\n",
       "      <th>0</th>\n",
       "      <td>0.0</td>\n",
       "      <td>0.000000e+00</td>\n",
       "    </tr>\n",
       "    <tr>\n",
       "      <th>1</th>\n",
       "      <td>0.1</td>\n",
       "      <td>4.107157e-31</td>\n",
       "    </tr>\n",
       "    <tr>\n",
       "      <th>2</th>\n",
       "      <td>0.2</td>\n",
       "      <td>3.738459e-16</td>\n",
       "    </tr>\n",
       "    <tr>\n",
       "      <th>3</th>\n",
       "      <td>0.3</td>\n",
       "      <td>1.306895e-08</td>\n",
       "    </tr>\n",
       "    <tr>\n",
       "      <th>4</th>\n",
       "      <td>0.4</td>\n",
       "      <td>2.285792e-04</td>\n",
       "    </tr>\n",
       "    <tr>\n",
       "      <th>5</th>\n",
       "      <td>0.5</td>\n",
       "      <td>3.006864e-02</td>\n",
       "    </tr>\n",
       "    <tr>\n",
       "      <th>6</th>\n",
       "      <td>0.6</td>\n",
       "      <td>6.672895e-02</td>\n",
       "    </tr>\n",
       "    <tr>\n",
       "      <th>7</th>\n",
       "      <td>0.7</td>\n",
       "      <td>1.853172e-03</td>\n",
       "    </tr>\n",
       "    <tr>\n",
       "      <th>8</th>\n",
       "      <td>0.8</td>\n",
       "      <td>1.003535e-07</td>\n",
       "    </tr>\n",
       "    <tr>\n",
       "      <th>9</th>\n",
       "      <td>0.9</td>\n",
       "      <td>9.395858e-18</td>\n",
       "    </tr>\n",
       "    <tr>\n",
       "      <th>10</th>\n",
       "      <td>1.0</td>\n",
       "      <td>0.000000e+00</td>\n",
       "    </tr>\n",
       "  </tbody>\n",
       "</table>\n",
       "</div>"
      ],
      "text/plain": [
       "    theta    likelifood\n",
       "0     0.0  0.000000e+00\n",
       "1     0.1  4.107157e-31\n",
       "2     0.2  3.738459e-16\n",
       "3     0.3  1.306895e-08\n",
       "4     0.4  2.285792e-04\n",
       "5     0.5  3.006864e-02\n",
       "6     0.6  6.672895e-02\n",
       "7     0.7  1.853172e-03\n",
       "8     0.8  1.003535e-07\n",
       "9     0.9  9.395858e-18\n",
       "10    1.0  0.000000e+00"
      ]
     },
     "execution_count": 2,
     "metadata": {},
     "output_type": "execute_result"
    }
   ],
   "source": [
    "Y = 57\n",
    "N = 100\n",
    "\n",
    "df_3_1 = pd.DataFrame()\n",
    "\n",
    "df_3_1[\"theta\"] = np.linspace(0.0, 1.0, 11)\n",
    "\n",
    "# 二項分布の確率関数から確率を計算\n",
    "df_3_1[\"likelifood\"] = df_3_1[\"theta\"].apply(\n",
    "    lambda theta: stats.binom.pmf(k=Y, n=N, p=theta)\n",
    ")\n",
    "\n",
    "df_3_1"
   ]
  },
  {
   "cell_type": "code",
   "execution_count": 3,
   "metadata": {},
   "outputs": [
    {
     "data": {
      "image/png": "[encoded data removed]",
      "text/plain": [
       "<Figure size 500x500 with 1 Axes>"
      ]
     },
     "metadata": {},
     "output_type": "display_data"
    }
   ],
   "source": [
    "_ = sns.relplot(\n",
    "    df_3_1,\n",
    "    x=\"theta\",\n",
    "    y=\"likelifood\",\n",
    "    kind=\"line\",\n",
    ")"
   ]
  },
  {
   "cell_type": "markdown",
   "metadata": {},
   "source": [
    "## c"
   ]
  },
  {
   "cell_type": "markdown",
   "metadata": {},
   "source": [
    "ベイズルールを用いると\n",
    "\n",
    "$$\n",
    "p\\left(\\theta | \\sum _{i=1}^{100} Y_{i} = 57 \\right)\n",
    "=\n",
    "\\frac{\n",
    "    p(\\sum _{i=1}^{100} Y_{i} = 57 | \\theta)p(\\theta)\n",
    "}{\n",
    "    p(\\sum _{i=1}^{100} Y_{i} = 57)\n",
    "}\n",
    "$$\n",
    "\n",
    "と書ける。\n",
    "\n",
    "ここで、$\\theta$ について事前情報がないということから、\n",
    "\n",
    "$$\n",
    "\\begin{aligned}\n",
    "p(\\theta) &= \\frac{1}{11} \\\\\n",
    "p \\left(\\sum _{i=1}^{100} Y_{i} = 57 \\right) &=  \\sum _{\\theta} p \\left(\\sum _{i=1}^{100} Y_{i} = 57 | \\theta \\right) \\times \\frac{1}{11}\n",
    "\\end{aligned}\n",
    "$$\n",
    "\n",
    "である。"
   ]
  },
  {
   "cell_type": "code",
   "execution_count": 4,
   "metadata": {},
   "outputs": [
    {
     "name": "stdout",
     "output_type": "stream",
     "text": [
      "marginal_likelihood=0.008989041496797676\n"
     ]
    },
    {
     "data": {
      "text/html": [
       "<div>\n",
       "<style scoped>\n",
       "    .dataframe tbody tr th:only-of-type {\n",
       "        vertical-align: middle;\n",
       "    }\n",
       "\n",
       "    .dataframe tbody tr th {\n",
       "        vertical-align: top;\n",
       "    }\n",
       "\n",
       "    .dataframe thead th {\n",
       "        text-align: right;\n",
       "    }\n",
       "</style>\n",
       "<table border=\"1\" class=\"dataframe\">\n",
       "  <thead>\n",
       "    <tr style=\"text-align: right;\">\n",
       "      <th></th>\n",
       "      <th>theta</th>\n",
       "      <th>likelifood</th>\n",
       "      <th>posterior</th>\n",
       "    </tr>\n",
       "  </thead>\n",
       "  <tbody>\n",
       "    <tr>\n",
       "      <th>0</th>\n",
       "      <td>0.0</td>\n",
       "      <td>0.000000e+00</td>\n",
       "      <td>0.000000e+00</td>\n",
       "    </tr>\n",
       "    <tr>\n",
       "      <th>1</th>\n",
       "      <td>0.1</td>\n",
       "      <td>4.107157e-31</td>\n",
       "      <td>4.153701e-30</td>\n",
       "    </tr>\n",
       "    <tr>\n",
       "      <th>2</th>\n",
       "      <td>0.2</td>\n",
       "      <td>3.738459e-16</td>\n",
       "      <td>3.780824e-15</td>\n",
       "    </tr>\n",
       "    <tr>\n",
       "      <th>3</th>\n",
       "      <td>0.3</td>\n",
       "      <td>1.306895e-08</td>\n",
       "      <td>1.321705e-07</td>\n",
       "    </tr>\n",
       "    <tr>\n",
       "      <th>4</th>\n",
       "      <td>0.4</td>\n",
       "      <td>2.285792e-04</td>\n",
       "      <td>2.311695e-03</td>\n",
       "    </tr>\n",
       "    <tr>\n",
       "      <th>5</th>\n",
       "      <td>0.5</td>\n",
       "      <td>3.006864e-02</td>\n",
       "      <td>3.040939e-01</td>\n",
       "    </tr>\n",
       "    <tr>\n",
       "      <th>6</th>\n",
       "      <td>0.6</td>\n",
       "      <td>6.672895e-02</td>\n",
       "      <td>6.748515e-01</td>\n",
       "    </tr>\n",
       "    <tr>\n",
       "      <th>7</th>\n",
       "      <td>0.7</td>\n",
       "      <td>1.853172e-03</td>\n",
       "      <td>1.874172e-02</td>\n",
       "    </tr>\n",
       "    <tr>\n",
       "      <th>8</th>\n",
       "      <td>0.8</td>\n",
       "      <td>1.003535e-07</td>\n",
       "      <td>1.014907e-06</td>\n",
       "    </tr>\n",
       "    <tr>\n",
       "      <th>9</th>\n",
       "      <td>0.9</td>\n",
       "      <td>9.395858e-18</td>\n",
       "      <td>9.502335e-17</td>\n",
       "    </tr>\n",
       "    <tr>\n",
       "      <th>10</th>\n",
       "      <td>1.0</td>\n",
       "      <td>0.000000e+00</td>\n",
       "      <td>0.000000e+00</td>\n",
       "    </tr>\n",
       "  </tbody>\n",
       "</table>\n",
       "</div>"
      ],
      "text/plain": [
       "    theta    likelifood     posterior\n",
       "0     0.0  0.000000e+00  0.000000e+00\n",
       "1     0.1  4.107157e-31  4.153701e-30\n",
       "2     0.2  3.738459e-16  3.780824e-15\n",
       "3     0.3  1.306895e-08  1.321705e-07\n",
       "4     0.4  2.285792e-04  2.311695e-03\n",
       "5     0.5  3.006864e-02  3.040939e-01\n",
       "6     0.6  6.672895e-02  6.748515e-01\n",
       "7     0.7  1.853172e-03  1.874172e-02\n",
       "8     0.8  1.003535e-07  1.014907e-06\n",
       "9     0.9  9.395858e-18  9.502335e-17\n",
       "10    1.0  0.000000e+00  0.000000e+00"
      ]
     },
     "execution_count": 4,
     "metadata": {},
     "output_type": "execute_result"
    }
   ],
   "source": [
    "# thetaの事前分布\n",
    "# すべての値に対して 1 / 11\n",
    "prior_theta = 1 / 11\n",
    "\n",
    "# 周辺尤度\n",
    "marginal_likelihood = df_3_1[\"likelifood\"].sum() * prior_theta\n",
    "print(f\"{marginal_likelihood=}\")\n",
    "\n",
    "df_3_1[\"posterior\"] = df_3_1[\"likelifood\"].mul(prior_theta).div(marginal_likelihood)\n",
    "\n",
    "df_3_1"
   ]
  },
  {
   "cell_type": "code",
   "execution_count": 5,
   "metadata": {},
   "outputs": [
    {
     "data": {
      "image/png": "[encoded data removed]",
      "text/plain": [
       "<Figure size 500x500 with 1 Axes>"
      ]
     },
     "metadata": {},
     "output_type": "display_data"
    }
   ],
   "source": [
    "_ = sns.relplot(\n",
    "    df_3_1,\n",
    "    x=\"theta\",\n",
    "    y=\"posterior\",\n",
    "    kind=\"line\",\n",
    ")"
   ]
  },
  {
   "cell_type": "markdown",
   "metadata": {},
   "source": [
    "## d"
   ]
  },
  {
   "cell_type": "code",
   "execution_count": 6,
   "metadata": {},
   "outputs": [
    {
     "data": {
      "text/html": [
       "<div>\n",
       "<style scoped>\n",
       "    .dataframe tbody tr th:only-of-type {\n",
       "        vertical-align: middle;\n",
       "    }\n",
       "\n",
       "    .dataframe tbody tr th {\n",
       "        vertical-align: top;\n",
       "    }\n",
       "\n",
       "    .dataframe thead th {\n",
       "        text-align: right;\n",
       "    }\n",
       "</style>\n",
       "<table border=\"1\" class=\"dataframe\">\n",
       "  <thead>\n",
       "    <tr style=\"text-align: right;\">\n",
       "      <th></th>\n",
       "      <th>theta</th>\n",
       "      <th>likelihood</th>\n",
       "    </tr>\n",
       "  </thead>\n",
       "  <tbody>\n",
       "    <tr>\n",
       "      <th>0</th>\n",
       "      <td>0.000000</td>\n",
       "      <td>0.000000e+00</td>\n",
       "    </tr>\n",
       "    <tr>\n",
       "      <th>1</th>\n",
       "      <td>0.005025</td>\n",
       "      <td>2.834059e-103</td>\n",
       "    </tr>\n",
       "    <tr>\n",
       "      <th>2</th>\n",
       "      <td>0.010050</td>\n",
       "      <td>3.285211e-86</td>\n",
       "    </tr>\n",
       "    <tr>\n",
       "      <th>3</th>\n",
       "      <td>0.015075</td>\n",
       "      <td>2.875599e-76</td>\n",
       "    </tr>\n",
       "    <tr>\n",
       "      <th>4</th>\n",
       "      <td>0.020101</td>\n",
       "      <td>3.052907e-69</td>\n",
       "    </tr>\n",
       "  </tbody>\n",
       "</table>\n",
       "</div>"
      ],
      "text/plain": [
       "      theta     likelihood\n",
       "0  0.000000   0.000000e+00\n",
       "1  0.005025  2.834059e-103\n",
       "2  0.010050   3.285211e-86\n",
       "3  0.015075   2.875599e-76\n",
       "4  0.020101   3.052907e-69"
      ]
     },
     "execution_count": 6,
     "metadata": {},
     "output_type": "execute_result"
    }
   ],
   "source": [
    "df_3_1_continuous = pd.DataFrame()\n",
    "\n",
    "n_points = 200\n",
    "df_3_1_continuous[\"theta\"] = np.linspace(0, 1, n_points)\n",
    "\n",
    "df_3_1_continuous[\"likelihood\"] = df_3_1_continuous[\"theta\"].apply(\n",
    "    lambda theta: stats.binom.pmf(k=Y, n=N, p=theta)\n",
    ")\n",
    "\n",
    "df_3_1_continuous.head()"
   ]
  },
  {
   "cell_type": "code",
   "execution_count": 7,
   "metadata": {},
   "outputs": [
    {
     "data": {
      "image/png": "[encoded data removed]",
      "text/plain": [
       "<Figure size 500x500 with 1 Axes>"
      ]
     },
     "metadata": {},
     "output_type": "display_data"
    }
   ],
   "source": [
    "_ = sns.relplot(\n",
    "    df_3_1_continuous,\n",
    "    x=\"theta\",\n",
    "    y=\"likelihood\",\n",
    "    kind=\"line\",\n",
    ")"
   ]
  },
  {
   "cell_type": "markdown",
   "metadata": {},
   "source": [
    "## e"
   ]
  },
  {
   "cell_type": "code",
   "execution_count": 8,
   "metadata": {},
   "outputs": [
    {
     "data": {
      "text/html": [
       "<div>\n",
       "<style scoped>\n",
       "    .dataframe tbody tr th:only-of-type {\n",
       "        vertical-align: middle;\n",
       "    }\n",
       "\n",
       "    .dataframe tbody tr th {\n",
       "        vertical-align: top;\n",
       "    }\n",
       "\n",
       "    .dataframe thead th {\n",
       "        text-align: right;\n",
       "    }\n",
       "</style>\n",
       "<table border=\"1\" class=\"dataframe\">\n",
       "  <thead>\n",
       "    <tr style=\"text-align: right;\">\n",
       "      <th></th>\n",
       "      <th>theta</th>\n",
       "      <th>posterior</th>\n",
       "    </tr>\n",
       "  </thead>\n",
       "  <tbody>\n",
       "    <tr>\n",
       "      <th>0</th>\n",
       "      <td>0.000000</td>\n",
       "      <td>0.000000e+00</td>\n",
       "    </tr>\n",
       "    <tr>\n",
       "      <th>1</th>\n",
       "      <td>0.005025</td>\n",
       "      <td>2.862400e-101</td>\n",
       "    </tr>\n",
       "    <tr>\n",
       "      <th>2</th>\n",
       "      <td>0.010050</td>\n",
       "      <td>3.318063e-84</td>\n",
       "    </tr>\n",
       "    <tr>\n",
       "      <th>3</th>\n",
       "      <td>0.015075</td>\n",
       "      <td>2.904355e-74</td>\n",
       "    </tr>\n",
       "    <tr>\n",
       "      <th>4</th>\n",
       "      <td>0.020101</td>\n",
       "      <td>3.083436e-67</td>\n",
       "    </tr>\n",
       "  </tbody>\n",
       "</table>\n",
       "</div>"
      ],
      "text/plain": [
       "      theta      posterior\n",
       "0  0.000000   0.000000e+00\n",
       "1  0.005025  2.862400e-101\n",
       "2  0.010050   3.318063e-84\n",
       "3  0.015075   2.904355e-74\n",
       "4  0.020101   3.083436e-67"
      ]
     },
     "execution_count": 8,
     "metadata": {},
     "output_type": "execute_result"
    }
   ],
   "source": [
    "df_3_1_posterior = pd.DataFrame()\n",
    "\n",
    "n_points = 200\n",
    "df_3_1_posterior[\"theta\"] = np.linspace(0, 1, n_points)\n",
    "\n",
    "a = 1 + Y\n",
    "b = 1 + N - Y\n",
    "df_3_1_posterior[\"posterior\"] = df_3_1_posterior[\"theta\"].apply(\n",
    "    lambda theta: stats.beta.pdf(x=theta, a=a, b=b)\n",
    ")\n",
    "\n",
    "df_3_1_posterior.head()"
   ]
  },
  {
   "cell_type": "code",
   "execution_count": 9,
   "metadata": {},
   "outputs": [
    {
     "data": {
      "image/png": "[encoded data removed]",
      "text/plain": [
       "<Figure size 500x500 with 1 Axes>"
      ]
     },
     "metadata": {},
     "output_type": "display_data"
    }
   ],
   "source": [
    "_ = sns.relplot(\n",
    "    df_3_1_posterior,\n",
    "    x=\"theta\",\n",
    "    y=\"posterior\",\n",
    "    kind=\"line\",\n",
    ")"
   ]
  },
  {
   "cell_type": "markdown",
   "metadata": {},
   "source": [
    "- b, cの図は同じ形でスケールだけ異なる\n",
    "- d, eの図は同じ形でスケールだけ異なる"
   ]
  }
 ],
 "metadata": {
  "kernelspec": {
   "display_name": "Python 3",
   "language": "python",
   "name": "python3"
  },
  "language_info": {
   "codemirror_mode": {
    "name": "ipython",
    "version": 3
   },
   "file_extension": ".py",
   "mimetype": "text/x-python",
   "name": "python",
   "nbconvert_exporter": "python",
   "pygments_lexer": "ipython3",
   "version": "3.9.18"
  }
 },
 "nbformat": 4,
 "nbformat_minor": 2
}
