{
 "cells": [
  {
   "cell_type": "markdown",
   "metadata": {},
   "source": [
    "# 3.10 変数変換"
   ]
  },
  {
   "cell_type": "code",
   "execution_count": 1,
   "metadata": {},
   "outputs": [],
   "source": [
    "import pandas as pd\n",
    "import numpy as np\n",
    "from scipy import special\n",
    "import seaborn as sns\n",
    "import warnings\n",
    "\n",
    "sns.set_theme()\n",
    "warnings.simplefilter(\"ignore\")"
   ]
  },
  {
   "cell_type": "markdown",
   "metadata": {},
   "source": [
    "## a"
   ]
  },
  {
   "cell_type": "markdown",
   "metadata": {},
   "source": [
    "$$\n",
    "\\begin{cases}\n",
    "p_{\\theta}(\\theta) = \\frac{1}{B(a, b)} \\theta^{a - 1} (1 - \\theta)^{b - 1} \\\\\n",
    "\\psi = g(\\theta) = \\log \\left(\\frac{\\theta}{1-\\theta}\\right) = \\text{logit}(\\theta) \\\\\n",
    "h(\\psi) = g^{-1}(\\theta(\\psi)) = \\frac{1}{1 + e^{-\\psi}}\n",
    "\\end{cases}\n",
    "$$"
   ]
  },
  {
   "cell_type": "markdown",
   "metadata": {},
   "source": [
    "ヤコビアンを計算する\n",
    "\n",
    "$$\n",
    "\\begin{aligned}\n",
    "\\frac{dh}{d\\psi} \n",
    "&=\\frac{\n",
    "    e^{-\\psi}\n",
    "}{\n",
    "    (1 + e^{-\\psi})^2\n",
    "} \\\\\n",
    "&=\\frac{\n",
    "    1\n",
    "}{\n",
    "    (1 + e^{-\\psi})\n",
    "    (1 + e^{\\psi})\n",
    "}\n",
    "\\end{aligned}\n",
    "$$"
   ]
  },
  {
   "cell_type": "markdown",
   "metadata": {},
   "source": [
    "$p_{\\psi}$ を計算する。\n",
    "\n",
    "$$\n",
    "\\begin{aligned}\n",
    "p_{\\psi}(\\psi)\n",
    "&= p_{\\theta}(\\theta) \\times \\left | \n",
    "\\frac{dh}{d\\psi} \n",
    "\\right| \\\\\n",
    "&=\n",
    "\\frac{1}{B(a, b)} \\theta^{a - 1} (1 - \\theta)^{b - 1}\n",
    "\\times\n",
    "\\frac{\n",
    "    1\n",
    "}{\n",
    "    (1 + e^{-\\psi})\n",
    "    (1 + e^{\\psi})\n",
    "}\n",
    "\\\\\n",
    "&=\n",
    "\\frac{1}{B(a, b)} (1 + e^{-\\psi})^{1 - a}  (1 + e^{\\psi})^{1 - b} \n",
    "\\times\n",
    "\\frac{\n",
    "    1\n",
    "}{\n",
    "    (1 + e^{-\\psi})\n",
    "    (1 + e^{\\psi})\n",
    "}\n",
    "\\\\\n",
    "&=\n",
    "\\frac{\n",
    "(1 + e^{-\\psi})^{- a}  (1 + e^{\\psi})^{- b} }{B(a, b)} \n",
    "\\\\\n",
    "&=\n",
    "\\frac{1}{B(a, b)} \\frac{e^{-b\\psi}}{(1 + e^{-\\psi})^{a + b}}\n",
    "\\end{aligned}\n",
    "$$\n",
    "\n",
    "これは[一般化ロジスティック分布](https://en.wikipedia.org/wiki/Generalized_logistic_distribution)である。"
   ]
  },
  {
   "cell_type": "code",
   "execution_count": 2,
   "metadata": {},
   "outputs": [],
   "source": [
    "def pdf_generalized_logistic(x, a, b):\n",
    "    assert a > 0\n",
    "    assert b > 0\n",
    "\n",
    "    return (1 / special.beta(a, b)) * (np.exp(-b * x)) / (1 + np.exp(-x)) ** (a + b)"
   ]
  },
  {
   "cell_type": "code",
   "execution_count": 3,
   "metadata": {},
   "outputs": [
    {
     "data": {
      "text/html": [
       "<div>\n",
       "<style scoped>\n",
       "    .dataframe tbody tr th:only-of-type {\n",
       "        vertical-align: middle;\n",
       "    }\n",
       "\n",
       "    .dataframe tbody tr th {\n",
       "        vertical-align: top;\n",
       "    }\n",
       "\n",
       "    .dataframe thead th {\n",
       "        text-align: right;\n",
       "    }\n",
       "</style>\n",
       "<table border=\"1\" class=\"dataframe\">\n",
       "  <thead>\n",
       "    <tr style=\"text-align: right;\">\n",
       "      <th></th>\n",
       "      <th>psi</th>\n",
       "      <th>proba</th>\n",
       "    </tr>\n",
       "  </thead>\n",
       "  <tbody>\n",
       "    <tr>\n",
       "      <th>0</th>\n",
       "      <td>-10.000000</td>\n",
       "      <td>0.000045</td>\n",
       "    </tr>\n",
       "    <tr>\n",
       "      <th>1</th>\n",
       "      <td>-9.797980</td>\n",
       "      <td>0.000056</td>\n",
       "    </tr>\n",
       "    <tr>\n",
       "      <th>2</th>\n",
       "      <td>-9.595960</td>\n",
       "      <td>0.000068</td>\n",
       "    </tr>\n",
       "    <tr>\n",
       "      <th>3</th>\n",
       "      <td>-9.393939</td>\n",
       "      <td>0.000083</td>\n",
       "    </tr>\n",
       "    <tr>\n",
       "      <th>4</th>\n",
       "      <td>-9.191919</td>\n",
       "      <td>0.000102</td>\n",
       "    </tr>\n",
       "  </tbody>\n",
       "</table>\n",
       "</div>"
      ],
      "text/plain": [
       "         psi     proba\n",
       "0 -10.000000  0.000045\n",
       "1  -9.797980  0.000056\n",
       "2  -9.595960  0.000068\n",
       "3  -9.393939  0.000083\n",
       "4  -9.191919  0.000102"
      ]
     },
     "execution_count": 3,
     "metadata": {},
     "output_type": "execute_result"
    }
   ],
   "source": [
    "a, b = 1, 1\n",
    "psi = np.linspace(-10, 10, 100)\n",
    "\n",
    "df_a = pd.DataFrame()\n",
    "df_a[\"psi\"] = psi\n",
    "df_a[\"proba\"] = pdf_generalized_logistic(psi, a, b)\n",
    "\n",
    "df_a.head()"
   ]
  },
  {
   "cell_type": "code",
   "execution_count": 4,
   "metadata": {},
   "outputs": [
    {
     "data": {
      "image/png": "[encoded data removed]",
      "text/plain": [
       "<Figure size 500x500 with 1 Axes>"
      ]
     },
     "metadata": {},
     "output_type": "display_data"
    }
   ],
   "source": [
    "_ = sns.relplot(\n",
    "    df_a,\n",
    "    x=\"psi\",\n",
    "    y=\"proba\",\n",
    "    kind=\"line\",\n",
    ").set(\n",
    "    xlabel=\"$\\psi$\", ylabel=\"$p_{\\psi}(\\psi)$\", title=\"Probabiliti Density Function (a)\"\n",
    ")"
   ]
  },
  {
   "cell_type": "markdown",
   "metadata": {},
   "source": [
    "## b"
   ]
  },
  {
   "cell_type": "markdown",
   "metadata": {},
   "source": [
    "$$\n",
    "\\begin{cases}\n",
    "p_{\\theta}(\\theta) = \\frac{b^a}{\\Gamma(a)} \\theta^{a-1} e^{-b\\theta} \\\\\n",
    "\\psi = g(\\theta) = \\log \\theta \\\\\n",
    "h(\\psi) = g^{-1}(\\theta(\\psi)) = e^{\\psi}\n",
    "\\end{cases}\n",
    "$$"
   ]
  },
  {
   "cell_type": "markdown",
   "metadata": {},
   "source": [
    "ヤコビアンを計算する\n",
    "\n",
    "$$\n",
    "\\frac{dh}{d\\psi} \n",
    "=\n",
    "e^{\\psi}\n",
    "$$"
   ]
  },
  {
   "cell_type": "markdown",
   "metadata": {},
   "source": [
    "$p_{\\psi}$ を計算する。\n",
    "\n",
    "$$\n",
    "\\begin{aligned}\n",
    "p_{\\psi}(\\psi)\n",
    "&=\n",
    "\\frac{b^a}{\\Gamma(a)} \\theta^{a-1} e^{-b\\theta} \n",
    "\\times \n",
    "e^{\\psi}\n",
    "\\\\\n",
    "&=\n",
    "\\frac{b^a}{\\Gamma(a)} e^{\\psi(a-1)} e^{-be^\\psi} \n",
    "\\times \n",
    "e^{\\psi}\n",
    "\\\\\n",
    "&=\n",
    "\\frac{b^a}{\\Gamma(a)} e^{a\\psi} e^{-be^\\psi} \n",
    "\\end{aligned}\n",
    "$$\n",
    "\n",
    "これは[Log-Gamma分布](https://www.math.wm.edu/~leemis/chart/UDR/PDFs/Loggamma.pdf)である。"
   ]
  },
  {
   "cell_type": "code",
   "execution_count": 5,
   "metadata": {},
   "outputs": [],
   "source": [
    "def pdf_log_gamma(x, a, b):\n",
    "    assert a > 0\n",
    "    assert b > 0\n",
    "\n",
    "    return (b**a / special.gamma(a)) * np.exp(a * x) * np.exp(-b * np.exp(x))"
   ]
  },
  {
   "cell_type": "code",
   "execution_count": 6,
   "metadata": {},
   "outputs": [
    {
     "data": {
      "text/html": [
       "<div>\n",
       "<style scoped>\n",
       "    .dataframe tbody tr th:only-of-type {\n",
       "        vertical-align: middle;\n",
       "    }\n",
       "\n",
       "    .dataframe tbody tr th {\n",
       "        vertical-align: top;\n",
       "    }\n",
       "\n",
       "    .dataframe thead th {\n",
       "        text-align: right;\n",
       "    }\n",
       "</style>\n",
       "<table border=\"1\" class=\"dataframe\">\n",
       "  <thead>\n",
       "    <tr style=\"text-align: right;\">\n",
       "      <th></th>\n",
       "      <th>psi</th>\n",
       "      <th>proba</th>\n",
       "    </tr>\n",
       "  </thead>\n",
       "  <tbody>\n",
       "    <tr>\n",
       "      <th>0</th>\n",
       "      <td>-10.000000</td>\n",
       "      <td>0.000045</td>\n",
       "    </tr>\n",
       "    <tr>\n",
       "      <th>1</th>\n",
       "      <td>-9.797980</td>\n",
       "      <td>0.000056</td>\n",
       "    </tr>\n",
       "    <tr>\n",
       "      <th>2</th>\n",
       "      <td>-9.595960</td>\n",
       "      <td>0.000068</td>\n",
       "    </tr>\n",
       "    <tr>\n",
       "      <th>3</th>\n",
       "      <td>-9.393939</td>\n",
       "      <td>0.000083</td>\n",
       "    </tr>\n",
       "    <tr>\n",
       "      <th>4</th>\n",
       "      <td>-9.191919</td>\n",
       "      <td>0.000102</td>\n",
       "    </tr>\n",
       "  </tbody>\n",
       "</table>\n",
       "</div>"
      ],
      "text/plain": [
       "         psi     proba\n",
       "0 -10.000000  0.000045\n",
       "1  -9.797980  0.000056\n",
       "2  -9.595960  0.000068\n",
       "3  -9.393939  0.000083\n",
       "4  -9.191919  0.000102"
      ]
     },
     "execution_count": 6,
     "metadata": {},
     "output_type": "execute_result"
    }
   ],
   "source": [
    "a, b = 1, 1\n",
    "psi = np.linspace(-10, 10, 100)\n",
    "\n",
    "df_b = pd.DataFrame()\n",
    "df_b[\"psi\"] = psi\n",
    "df_b[\"proba\"] = pdf_log_gamma(psi, a, b)\n",
    "\n",
    "df_b.head()"
   ]
  },
  {
   "cell_type": "code",
   "execution_count": 7,
   "metadata": {},
   "outputs": [
    {
     "data": {
      "image/png": "[encoded data removed]",
      "text/plain": [
       "<Figure size 500x500 with 1 Axes>"
      ]
     },
     "metadata": {},
     "output_type": "display_data"
    }
   ],
   "source": [
    "_ = sns.relplot(\n",
    "    df_b,\n",
    "    x=\"psi\",\n",
    "    y=\"proba\",\n",
    "    kind=\"line\",\n",
    ").set(\n",
    "    xlabel=\"$\\psi$\", ylabel=\"$p_{\\psi}(\\psi)$\", title=\"Probabiliti Density Function (b)\"\n",
    ")"
   ]
  },
  {
   "cell_type": "code",
   "execution_count": null,
   "metadata": {},
   "outputs": [],
   "source": []
  }
 ],
 "metadata": {
  "kernelspec": {
   "display_name": "Python 3",
   "language": "python",
   "name": "python3"
  },
  "language_info": {
   "codemirror_mode": {
    "name": "ipython",
    "version": 3
   },
   "file_extension": ".py",
   "mimetype": "text/x-python",
   "name": "python",
   "nbconvert_exporter": "python",
   "pygments_lexer": "ipython3",
   "version": "3.9.18"
  }
 },
 "nbformat": 4,
 "nbformat_minor": 2
}
