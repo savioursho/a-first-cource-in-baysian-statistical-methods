{
 "cells": [
  {
   "cell_type": "markdown",
   "metadata": {},
   "source": [
    "# 第3章"
   ]
  },
  {
   "cell_type": "code",
   "execution_count": 1,
   "metadata": {},
   "outputs": [],
   "source": [
    "import pandas as pd\n",
    "import numpy as np\n",
    "from scipy import stats, signal, special\n",
    "import matplotlib.pyplot as plt\n",
    "from matplotlib.colors import Normalize\n",
    "import seaborn as sns\n",
    "import warnings\n",
    "from IPython.display import Markdown\n",
    "import functools\n",
    "from mylib.plot import contourplot\n",
    "\n",
    "sns.set_theme()\n",
    "warnings.simplefilter(\"ignore\")"
   ]
  },
  {
   "cell_type": "markdown",
   "metadata": {},
   "source": [
    "## 3.1 標本調査\n",
    "\n",
    "- サンプルサイズ:\n",
    "    - $N=100$\n",
    "- 変数$Y$\n",
    "    - $i$番目の人が政策を支持しているとき:  $Y_i = 1$\n",
    "    - $i$番目の人が政策を支持していないとき:    $Y_i = 0$"
   ]
  },
  {
   "cell_type": "markdown",
   "metadata": {},
   "source": [
    "### a"
   ]
  },
  {
   "cell_type": "markdown",
   "metadata": {},
   "source": [
    "#### $Pr(Y_1 = y_1, \\cdots, Y_{100} = y_{100})$ を簡単な形で表す\n",
    "\n",
    "$Y_1 , \\cdots, Y_{100}$ が条件付き独立ということから、\n",
    "\n",
    "$$\n",
    "Pr(Y_1 = y_1, \\cdots, Y_{100} = y_{100})\n",
    "= \\prod _{i=1} ^{100} Pr(Y_{i} = y_{i} | \\theta)\n",
    "$$\n",
    "\n",
    "と書ける。\n",
    "\n",
    "期待値 $\\theta$ をもつ二値確率変数の分布関数は\n",
    "\n",
    "$$\n",
    "Pr(Y_{i} = y_{i}|\\theta)\n",
    "= \\theta^{y_i} (1 - \\theta) ^{1 - y_i}\n",
    "$$\n",
    "\n",
    "と表すことができる。（これはベルヌーイ分布である）\n",
    "\n",
    "以上より、\n",
    "\n",
    "$$\n",
    "\\begin{aligned}\n",
    "Pr(Y_1 = y_1, \\cdots, Y_{100} = y_{100})\n",
    "&= \\prod _{i=1} ^{100} \\theta^{y_i} (1 - \\theta) ^{1 - y_i} \\\\\n",
    "&= \\theta^{\\sum _{i} y_i} (1 - \\theta) ^{100 - \\sum _{i} y_i}\n",
    "\\end{aligned}\n",
    "$$\n",
    "\n",
    "と表すことができる。\n",
    "（これは互いに独立で同一のパラメータのベルヌーイ分布に従う100個の確率変数の同時確率である）"
   ]
  },
  {
   "cell_type": "markdown",
   "metadata": {},
   "source": [
    "#### $Pr(\\sum _{i} Y_{i} = y | \\theta)$ を求める\n",
    "\n",
    "$Y = \\sum _{i} Y_{i}$ とすると、 確率変数 $Y$ はパラメータ $(n=100, \\theta)$ を持つ二項分布に従う。\n",
    "よって、確率分布は\n",
    "\n",
    "$$\n",
    "Pr(\\sum _{i} Y_{i} = y | \\theta)\n",
    "= \\binom{100}{y}\\theta^{y}(1 - \\theta)^{100 - y}\n",
    "$$\n",
    "\n",
    "となる。"
   ]
  },
  {
   "cell_type": "markdown",
   "metadata": {},
   "source": [
    "### b"
   ]
  },
  {
   "cell_type": "code",
   "execution_count": 2,
   "metadata": {},
   "outputs": [
    {
     "data": {
      "text/html": [
       "<div>\n",
       "<style scoped>\n",
       "    .dataframe tbody tr th:only-of-type {\n",
       "        vertical-align: middle;\n",
       "    }\n",
       "\n",
       "    .dataframe tbody tr th {\n",
       "        vertical-align: top;\n",
       "    }\n",
       "\n",
       "    .dataframe thead th {\n",
       "        text-align: right;\n",
       "    }\n",
       "</style>\n",
       "<table border=\"1\" class=\"dataframe\">\n",
       "  <thead>\n",
       "    <tr style=\"text-align: right;\">\n",
       "      <th></th>\n",
       "      <th>theta</th>\n",
       "      <th>likelifood</th>\n",
       "    </tr>\n",
       "  </thead>\n",
       "  <tbody>\n",
       "    <tr>\n",
       "      <th>0</th>\n",
       "      <td>0.0</td>\n",
       "      <td>0.000000e+00</td>\n",
       "    </tr>\n",
       "    <tr>\n",
       "      <th>1</th>\n",
       "      <td>0.1</td>\n",
       "      <td>4.107157e-31</td>\n",
       "    </tr>\n",
       "    <tr>\n",
       "      <th>2</th>\n",
       "      <td>0.2</td>\n",
       "      <td>3.738459e-16</td>\n",
       "    </tr>\n",
       "    <tr>\n",
       "      <th>3</th>\n",
       "      <td>0.3</td>\n",
       "      <td>1.306895e-08</td>\n",
       "    </tr>\n",
       "    <tr>\n",
       "      <th>4</th>\n",
       "      <td>0.4</td>\n",
       "      <td>2.285792e-04</td>\n",
       "    </tr>\n",
       "    <tr>\n",
       "      <th>5</th>\n",
       "      <td>0.5</td>\n",
       "      <td>3.006864e-02</td>\n",
       "    </tr>\n",
       "    <tr>\n",
       "      <th>6</th>\n",
       "      <td>0.6</td>\n",
       "      <td>6.672895e-02</td>\n",
       "    </tr>\n",
       "    <tr>\n",
       "      <th>7</th>\n",
       "      <td>0.7</td>\n",
       "      <td>1.853172e-03</td>\n",
       "    </tr>\n",
       "    <tr>\n",
       "      <th>8</th>\n",
       "      <td>0.8</td>\n",
       "      <td>1.003535e-07</td>\n",
       "    </tr>\n",
       "    <tr>\n",
       "      <th>9</th>\n",
       "      <td>0.9</td>\n",
       "      <td>9.395858e-18</td>\n",
       "    </tr>\n",
       "    <tr>\n",
       "      <th>10</th>\n",
       "      <td>1.0</td>\n",
       "      <td>0.000000e+00</td>\n",
       "    </tr>\n",
       "  </tbody>\n",
       "</table>\n",
       "</div>"
      ],
      "text/plain": [
       "    theta    likelifood\n",
       "0     0.0  0.000000e+00\n",
       "1     0.1  4.107157e-31\n",
       "2     0.2  3.738459e-16\n",
       "3     0.3  1.306895e-08\n",
       "4     0.4  2.285792e-04\n",
       "5     0.5  3.006864e-02\n",
       "6     0.6  6.672895e-02\n",
       "7     0.7  1.853172e-03\n",
       "8     0.8  1.003535e-07\n",
       "9     0.9  9.395858e-18\n",
       "10    1.0  0.000000e+00"
      ]
     },
     "execution_count": 2,
     "metadata": {},
     "output_type": "execute_result"
    }
   ],
   "source": [
    "Y = 57\n",
    "N = 100\n",
    "\n",
    "df_3_1 = pd.DataFrame()\n",
    "\n",
    "df_3_1[\"theta\"] = np.linspace(0.0, 1.0, 11)\n",
    "\n",
    "# 二項分布の確率関数から確率を計算\n",
    "df_3_1[\"likelifood\"] = df_3_1[\"theta\"].apply(\n",
    "    lambda theta: stats.binom.pmf(k=Y, n=N, p=theta)\n",
    ")\n",
    "\n",
    "df_3_1"
   ]
  },
  {
   "cell_type": "code",
   "execution_count": 3,
   "metadata": {},
   "outputs": [
    {
     "data": {
      "image/png": "[encoded data removed]",
      "text/plain": [
       "<Figure size 500x500 with 1 Axes>"
      ]
     },
     "metadata": {},
     "output_type": "display_data"
    }
   ],
   "source": [
    "_ = sns.relplot(\n",
    "    df_3_1,\n",
    "    x=\"theta\",\n",
    "    y=\"likelifood\",\n",
    "    kind=\"line\",\n",
    ")"
   ]
  },
  {
   "cell_type": "markdown",
   "metadata": {},
   "source": [
    "### c"
   ]
  },
  {
   "cell_type": "markdown",
   "metadata": {},
   "source": [
    "ベイズルールを用いると\n",
    "\n",
    "$$\n",
    "p\\left(\\theta | \\sum _{i=1}^{100} Y_{i} = 57 \\right)\n",
    "=\n",
    "\\frac{\n",
    "    p(\\sum _{i=1}^{100} Y_{i} = 57 | \\theta)p(\\theta)\n",
    "}{\n",
    "    p(\\sum _{i=1}^{100} Y_{i} = 57)\n",
    "}\n",
    "$$\n",
    "\n",
    "と書ける。\n",
    "\n",
    "ここで、$\\theta$ について事前情報がないということから、\n",
    "\n",
    "$$\n",
    "\\begin{aligned}\n",
    "p(\\theta) &= \\frac{1}{11} \\\\\n",
    "p \\left(\\sum _{i=1}^{100} Y_{i} = 57 \\right) &=  \\sum _{\\theta} p \\left(\\sum _{i=1}^{100} Y_{i} = 57 | \\theta \\right) \\times \\frac{1}{11}\n",
    "\\end{aligned}\n",
    "$$\n",
    "\n",
    "である。"
   ]
  },
  {
   "cell_type": "code",
   "execution_count": 4,
   "metadata": {},
   "outputs": [
    {
     "name": "stdout",
     "output_type": "stream",
     "text": [
      "marginal_likelihood=0.008989041496797676\n"
     ]
    },
    {
     "data": {
      "text/html": [
       "<div>\n",
       "<style scoped>\n",
       "    .dataframe tbody tr th:only-of-type {\n",
       "        vertical-align: middle;\n",
       "    }\n",
       "\n",
       "    .dataframe tbody tr th {\n",
       "        vertical-align: top;\n",
       "    }\n",
       "\n",
       "    .dataframe thead th {\n",
       "        text-align: right;\n",
       "    }\n",
       "</style>\n",
       "<table border=\"1\" class=\"dataframe\">\n",
       "  <thead>\n",
       "    <tr style=\"text-align: right;\">\n",
       "      <th></th>\n",
       "      <th>theta</th>\n",
       "      <th>likelifood</th>\n",
       "      <th>posterior</th>\n",
       "    </tr>\n",
       "  </thead>\n",
       "  <tbody>\n",
       "    <tr>\n",
       "      <th>0</th>\n",
       "      <td>0.0</td>\n",
       "      <td>0.000000e+00</td>\n",
       "      <td>0.000000e+00</td>\n",
       "    </tr>\n",
       "    <tr>\n",
       "      <th>1</th>\n",
       "      <td>0.1</td>\n",
       "      <td>4.107157e-31</td>\n",
       "      <td>4.153701e-30</td>\n",
       "    </tr>\n",
       "    <tr>\n",
       "      <th>2</th>\n",
       "      <td>0.2</td>\n",
       "      <td>3.738459e-16</td>\n",
       "      <td>3.780824e-15</td>\n",
       "    </tr>\n",
       "    <tr>\n",
       "      <th>3</th>\n",
       "      <td>0.3</td>\n",
       "      <td>1.306895e-08</td>\n",
       "      <td>1.321705e-07</td>\n",
       "    </tr>\n",
       "    <tr>\n",
       "      <th>4</th>\n",
       "      <td>0.4</td>\n",
       "      <td>2.285792e-04</td>\n",
       "      <td>2.311695e-03</td>\n",
       "    </tr>\n",
       "    <tr>\n",
       "      <th>5</th>\n",
       "      <td>0.5</td>\n",
       "      <td>3.006864e-02</td>\n",
       "      <td>3.040939e-01</td>\n",
       "    </tr>\n",
       "    <tr>\n",
       "      <th>6</th>\n",
       "      <td>0.6</td>\n",
       "      <td>6.672895e-02</td>\n",
       "      <td>6.748515e-01</td>\n",
       "    </tr>\n",
       "    <tr>\n",
       "      <th>7</th>\n",
       "      <td>0.7</td>\n",
       "      <td>1.853172e-03</td>\n",
       "      <td>1.874172e-02</td>\n",
       "    </tr>\n",
       "    <tr>\n",
       "      <th>8</th>\n",
       "      <td>0.8</td>\n",
       "      <td>1.003535e-07</td>\n",
       "      <td>1.014907e-06</td>\n",
       "    </tr>\n",
       "    <tr>\n",
       "      <th>9</th>\n",
       "      <td>0.9</td>\n",
       "      <td>9.395858e-18</td>\n",
       "      <td>9.502335e-17</td>\n",
       "    </tr>\n",
       "    <tr>\n",
       "      <th>10</th>\n",
       "      <td>1.0</td>\n",
       "      <td>0.000000e+00</td>\n",
       "      <td>0.000000e+00</td>\n",
       "    </tr>\n",
       "  </tbody>\n",
       "</table>\n",
       "</div>"
      ],
      "text/plain": [
       "    theta    likelifood     posterior\n",
       "0     0.0  0.000000e+00  0.000000e+00\n",
       "1     0.1  4.107157e-31  4.153701e-30\n",
       "2     0.2  3.738459e-16  3.780824e-15\n",
       "3     0.3  1.306895e-08  1.321705e-07\n",
       "4     0.4  2.285792e-04  2.311695e-03\n",
       "5     0.5  3.006864e-02  3.040939e-01\n",
       "6     0.6  6.672895e-02  6.748515e-01\n",
       "7     0.7  1.853172e-03  1.874172e-02\n",
       "8     0.8  1.003535e-07  1.014907e-06\n",
       "9     0.9  9.395858e-18  9.502335e-17\n",
       "10    1.0  0.000000e+00  0.000000e+00"
      ]
     },
     "execution_count": 4,
     "metadata": {},
     "output_type": "execute_result"
    }
   ],
   "source": [
    "# thetaの事前分布\n",
    "# すべての値に対して 1 / 11\n",
    "prior_theta = 1 / 11\n",
    "\n",
    "# 周辺尤度\n",
    "marginal_likelihood = df_3_1[\"likelifood\"].sum() * prior_theta\n",
    "print(f\"{marginal_likelihood=}\")\n",
    "\n",
    "df_3_1[\"posterior\"] = df_3_1[\"likelifood\"].mul(prior_theta).div(marginal_likelihood)\n",
    "\n",
    "df_3_1"
   ]
  },
  {
   "cell_type": "code",
   "execution_count": 5,
   "metadata": {},
   "outputs": [
    {
     "data": {
      "image/png": "[encoded data removed]",
      "text/plain": [
       "<Figure size 500x500 with 1 Axes>"
      ]
     },
     "metadata": {},
     "output_type": "display_data"
    }
   ],
   "source": [
    "_ = sns.relplot(\n",
    "    df_3_1,\n",
    "    x=\"theta\",\n",
    "    y=\"posterior\",\n",
    "    kind=\"line\",\n",
    ")"
   ]
  },
  {
   "cell_type": "markdown",
   "metadata": {},
   "source": [
    "### d"
   ]
  },
  {
   "cell_type": "code",
   "execution_count": 6,
   "metadata": {},
   "outputs": [
    {
     "data": {
      "text/html": [
       "<div>\n",
       "<style scoped>\n",
       "    .dataframe tbody tr th:only-of-type {\n",
       "        vertical-align: middle;\n",
       "    }\n",
       "\n",
       "    .dataframe tbody tr th {\n",
       "        vertical-align: top;\n",
       "    }\n",
       "\n",
       "    .dataframe thead th {\n",
       "        text-align: right;\n",
       "    }\n",
       "</style>\n",
       "<table border=\"1\" class=\"dataframe\">\n",
       "  <thead>\n",
       "    <tr style=\"text-align: right;\">\n",
       "      <th></th>\n",
       "      <th>theta</th>\n",
       "      <th>likelihood</th>\n",
       "    </tr>\n",
       "  </thead>\n",
       "  <tbody>\n",
       "    <tr>\n",
       "      <th>0</th>\n",
       "      <td>0.000000</td>\n",
       "      <td>0.000000e+00</td>\n",
       "    </tr>\n",
       "    <tr>\n",
       "      <th>1</th>\n",
       "      <td>0.005025</td>\n",
       "      <td>2.834059e-103</td>\n",
       "    </tr>\n",
       "    <tr>\n",
       "      <th>2</th>\n",
       "      <td>0.010050</td>\n",
       "      <td>3.285211e-86</td>\n",
       "    </tr>\n",
       "    <tr>\n",
       "      <th>3</th>\n",
       "      <td>0.015075</td>\n",
       "      <td>2.875599e-76</td>\n",
       "    </tr>\n",
       "    <tr>\n",
       "      <th>4</th>\n",
       "      <td>0.020101</td>\n",
       "      <td>3.052907e-69</td>\n",
       "    </tr>\n",
       "  </tbody>\n",
       "</table>\n",
       "</div>"
      ],
      "text/plain": [
       "      theta     likelihood\n",
       "0  0.000000   0.000000e+00\n",
       "1  0.005025  2.834059e-103\n",
       "2  0.010050   3.285211e-86\n",
       "3  0.015075   2.875599e-76\n",
       "4  0.020101   3.052907e-69"
      ]
     },
     "execution_count": 6,
     "metadata": {},
     "output_type": "execute_result"
    }
   ],
   "source": [
    "df_3_1_continuous = pd.DataFrame()\n",
    "\n",
    "n_points = 200\n",
    "df_3_1_continuous[\"theta\"] = np.linspace(0, 1, n_points)\n",
    "\n",
    "df_3_1_continuous[\"likelihood\"] = df_3_1_continuous[\"theta\"].apply(\n",
    "    lambda theta: stats.binom.pmf(k=Y, n=N, p=theta)\n",
    ")\n",
    "\n",
    "df_3_1_continuous.head()"
   ]
  },
  {
   "cell_type": "code",
   "execution_count": 7,
   "metadata": {},
   "outputs": [
    {
     "data": {
      "image/png": "[encoded data removed]",
      "text/plain": [
       "<Figure size 500x500 with 1 Axes>"
      ]
     },
     "metadata": {},
     "output_type": "display_data"
    }
   ],
   "source": [
    "_ = sns.relplot(\n",
    "    df_3_1_continuous,\n",
    "    x=\"theta\",\n",
    "    y=\"likelihood\",\n",
    "    kind=\"line\",\n",
    ")"
   ]
  },
  {
   "cell_type": "markdown",
   "metadata": {},
   "source": [
    "### e"
   ]
  },
  {
   "cell_type": "code",
   "execution_count": 8,
   "metadata": {},
   "outputs": [
    {
     "data": {
      "text/html": [
       "<div>\n",
       "<style scoped>\n",
       "    .dataframe tbody tr th:only-of-type {\n",
       "        vertical-align: middle;\n",
       "    }\n",
       "\n",
       "    .dataframe tbody tr th {\n",
       "        vertical-align: top;\n",
       "    }\n",
       "\n",
       "    .dataframe thead th {\n",
       "        text-align: right;\n",
       "    }\n",
       "</style>\n",
       "<table border=\"1\" class=\"dataframe\">\n",
       "  <thead>\n",
       "    <tr style=\"text-align: right;\">\n",
       "      <th></th>\n",
       "      <th>theta</th>\n",
       "      <th>posterior</th>\n",
       "    </tr>\n",
       "  </thead>\n",
       "  <tbody>\n",
       "    <tr>\n",
       "      <th>0</th>\n",
       "      <td>0.000000</td>\n",
       "      <td>0.000000e+00</td>\n",
       "    </tr>\n",
       "    <tr>\n",
       "      <th>1</th>\n",
       "      <td>0.005025</td>\n",
       "      <td>2.862400e-101</td>\n",
       "    </tr>\n",
       "    <tr>\n",
       "      <th>2</th>\n",
       "      <td>0.010050</td>\n",
       "      <td>3.318063e-84</td>\n",
       "    </tr>\n",
       "    <tr>\n",
       "      <th>3</th>\n",
       "      <td>0.015075</td>\n",
       "      <td>2.904355e-74</td>\n",
       "    </tr>\n",
       "    <tr>\n",
       "      <th>4</th>\n",
       "      <td>0.020101</td>\n",
       "      <td>3.083436e-67</td>\n",
       "    </tr>\n",
       "  </tbody>\n",
       "</table>\n",
       "</div>"
      ],
      "text/plain": [
       "      theta      posterior\n",
       "0  0.000000   0.000000e+00\n",
       "1  0.005025  2.862400e-101\n",
       "2  0.010050   3.318063e-84\n",
       "3  0.015075   2.904355e-74\n",
       "4  0.020101   3.083436e-67"
      ]
     },
     "execution_count": 8,
     "metadata": {},
     "output_type": "execute_result"
    }
   ],
   "source": [
    "df_3_1_posterior = pd.DataFrame()\n",
    "\n",
    "n_points = 200\n",
    "df_3_1_posterior[\"theta\"] = np.linspace(0, 1, n_points)\n",
    "\n",
    "a = 1 + Y\n",
    "b = 1 + N - Y\n",
    "df_3_1_posterior[\"posterior\"] = df_3_1_posterior[\"theta\"].apply(\n",
    "    lambda theta: stats.beta.pdf(x=theta, a=a, b=b)\n",
    ")\n",
    "\n",
    "df_3_1_posterior.head()"
   ]
  },
  {
   "cell_type": "code",
   "execution_count": 9,
   "metadata": {},
   "outputs": [
    {
     "data": {
      "image/png": "[encoded data removed]",
      "text/plain": [
       "<Figure size 500x500 with 1 Axes>"
      ]
     },
     "metadata": {},
     "output_type": "display_data"
    }
   ],
   "source": [
    "_ = sns.relplot(\n",
    "    df_3_1_posterior,\n",
    "    x=\"theta\",\n",
    "    y=\"posterior\",\n",
    "    kind=\"line\",\n",
    ")"
   ]
  },
  {
   "cell_type": "markdown",
   "metadata": {},
   "source": [
    "- b, cの図は同じ形でスケールだけ異なる\n",
    "- d, eの図は同じ形でスケールだけ異なる"
   ]
  },
  {
   "cell_type": "markdown",
   "metadata": {},
   "source": [
    "## 3.2 感度分析"
   ]
  },
  {
   "cell_type": "code",
   "execution_count": 10,
   "metadata": {},
   "outputs": [
    {
     "data": {
      "text/html": [
       "<div>\n",
       "<style scoped>\n",
       "    .dataframe tbody tr th:only-of-type {\n",
       "        vertical-align: middle;\n",
       "    }\n",
       "\n",
       "    .dataframe tbody tr th {\n",
       "        vertical-align: top;\n",
       "    }\n",
       "\n",
       "    .dataframe thead th {\n",
       "        text-align: right;\n",
       "    }\n",
       "</style>\n",
       "<table border=\"1\" class=\"dataframe\">\n",
       "  <thead>\n",
       "    <tr style=\"text-align: right;\">\n",
       "      <th></th>\n",
       "      <th>0</th>\n",
       "      <th>1</th>\n",
       "      <th>2</th>\n",
       "      <th>3</th>\n",
       "      <th>4</th>\n",
       "      <th>5</th>\n",
       "      <th>6</th>\n",
       "      <th>7</th>\n",
       "      <th>8</th>\n",
       "      <th>9</th>\n",
       "      <th>...</th>\n",
       "      <th>2490</th>\n",
       "      <th>2491</th>\n",
       "      <th>2492</th>\n",
       "      <th>2493</th>\n",
       "      <th>2494</th>\n",
       "      <th>2495</th>\n",
       "      <th>2496</th>\n",
       "      <th>2497</th>\n",
       "      <th>2498</th>\n",
       "      <th>2499</th>\n",
       "    </tr>\n",
       "  </thead>\n",
       "  <tbody>\n",
       "    <tr>\n",
       "      <th>theta0</th>\n",
       "      <td>0.1</td>\n",
       "      <td>0.1</td>\n",
       "      <td>0.1</td>\n",
       "      <td>0.1</td>\n",
       "      <td>0.1</td>\n",
       "      <td>0.1</td>\n",
       "      <td>0.1</td>\n",
       "      <td>0.1</td>\n",
       "      <td>0.1</td>\n",
       "      <td>0.1</td>\n",
       "      <td>...</td>\n",
       "      <td>0.9</td>\n",
       "      <td>0.9</td>\n",
       "      <td>0.9</td>\n",
       "      <td>0.9</td>\n",
       "      <td>0.9</td>\n",
       "      <td>0.9</td>\n",
       "      <td>0.9</td>\n",
       "      <td>0.9</td>\n",
       "      <td>0.9</td>\n",
       "      <td>0.9</td>\n",
       "    </tr>\n",
       "    <tr>\n",
       "      <th>n0</th>\n",
       "      <td>1.0</td>\n",
       "      <td>1.1</td>\n",
       "      <td>1.2</td>\n",
       "      <td>1.2</td>\n",
       "      <td>1.3</td>\n",
       "      <td>1.4</td>\n",
       "      <td>1.5</td>\n",
       "      <td>1.6</td>\n",
       "      <td>1.8</td>\n",
       "      <td>1.9</td>\n",
       "      <td>...</td>\n",
       "      <td>16.9</td>\n",
       "      <td>18.2</td>\n",
       "      <td>19.5</td>\n",
       "      <td>20.9</td>\n",
       "      <td>22.5</td>\n",
       "      <td>24.1</td>\n",
       "      <td>25.9</td>\n",
       "      <td>27.8</td>\n",
       "      <td>29.8</td>\n",
       "      <td>32.0</td>\n",
       "    </tr>\n",
       "    <tr>\n",
       "      <th>a</th>\n",
       "      <td>0.1</td>\n",
       "      <td>0.1</td>\n",
       "      <td>0.1</td>\n",
       "      <td>0.1</td>\n",
       "      <td>0.1</td>\n",
       "      <td>0.1</td>\n",
       "      <td>0.2</td>\n",
       "      <td>0.2</td>\n",
       "      <td>0.2</td>\n",
       "      <td>0.2</td>\n",
       "      <td>...</td>\n",
       "      <td>15.2</td>\n",
       "      <td>16.4</td>\n",
       "      <td>17.6</td>\n",
       "      <td>18.8</td>\n",
       "      <td>20.2</td>\n",
       "      <td>21.7</td>\n",
       "      <td>23.3</td>\n",
       "      <td>25.0</td>\n",
       "      <td>26.8</td>\n",
       "      <td>28.8</td>\n",
       "    </tr>\n",
       "    <tr>\n",
       "      <th>b</th>\n",
       "      <td>0.9</td>\n",
       "      <td>1.0</td>\n",
       "      <td>1.0</td>\n",
       "      <td>1.1</td>\n",
       "      <td>1.2</td>\n",
       "      <td>1.3</td>\n",
       "      <td>1.4</td>\n",
       "      <td>1.5</td>\n",
       "      <td>1.6</td>\n",
       "      <td>1.7</td>\n",
       "      <td>...</td>\n",
       "      <td>1.7</td>\n",
       "      <td>1.8</td>\n",
       "      <td>2.0</td>\n",
       "      <td>2.1</td>\n",
       "      <td>2.2</td>\n",
       "      <td>2.4</td>\n",
       "      <td>2.6</td>\n",
       "      <td>2.8</td>\n",
       "      <td>3.0</td>\n",
       "      <td>3.2</td>\n",
       "    </tr>\n",
       "  </tbody>\n",
       "</table>\n",
       "<p>4 rows × 2500 columns</p>\n",
       "</div>"
      ],
      "text/plain": [
       "        0     1     2     3     4     5     6     7     8     9     ...  2490  \\\n",
       "theta0   0.1   0.1   0.1   0.1   0.1   0.1   0.1   0.1   0.1   0.1  ...   0.9   \n",
       "n0       1.0   1.1   1.2   1.2   1.3   1.4   1.5   1.6   1.8   1.9  ...  16.9   \n",
       "a        0.1   0.1   0.1   0.1   0.1   0.1   0.2   0.2   0.2   0.2  ...  15.2   \n",
       "b        0.9   1.0   1.0   1.1   1.2   1.3   1.4   1.5   1.6   1.7  ...   1.7   \n",
       "\n",
       "        2491  2492  2493  2494  2495  2496  2497  2498  2499  \n",
       "theta0   0.9   0.9   0.9   0.9   0.9   0.9   0.9   0.9   0.9  \n",
       "n0      18.2  19.5  20.9  22.5  24.1  25.9  27.8  29.8  32.0  \n",
       "a       16.4  17.6  18.8  20.2  21.7  23.3  25.0  26.8  28.8  \n",
       "b        1.8   2.0   2.1   2.2   2.4   2.6   2.8   3.0   3.2  \n",
       "\n",
       "[4 rows x 2500 columns]"
      ]
     },
     "metadata": {},
     "output_type": "display_data"
    }
   ],
   "source": [
    "# theta0 と n0 の組み合わせを作る\n",
    "n_points = 50\n",
    "theta0 = np.linspace(0.1, 0.9, n_points)\n",
    "n0 = 2 ** np.linspace(0, 5, n_points)\n",
    "\n",
    "# データフレームにする\n",
    "df_3_2 = pd.merge(\n",
    "    pd.Series(theta0, name=\"theta0\"),\n",
    "    pd.Series(n0, name=\"n0\"),\n",
    "    how=\"cross\",\n",
    ")\n",
    "\n",
    "# a,b を計算する\n",
    "df_3_2 = df_3_2.assign(\n",
    "    a=df_3_2[\"theta0\"].mul(df_3_2[\"n0\"]),\n",
    "    b=df_3_2[\"theta0\"].rsub(1).mul(df_3_2[\"n0\"]),\n",
    ")\n",
    "\n",
    "with pd.option_context(\"display.max_columns\", 20):\n",
    "    display(df_3_2.round(1).T)"
   ]
  },
  {
   "cell_type": "code",
   "execution_count": 11,
   "metadata": {},
   "outputs": [],
   "source": [
    "def probability_3_2(a: float, b: float) -> float:\n",
    "    # 事後分布のa, b\n",
    "    a_post = a + Y\n",
    "    b_post = b + N - Y\n",
    "\n",
    "    # theta > 0.5 の確率\n",
    "    thresh = 0.5\n",
    "    proba = 1 - stats.beta.cdf(x=thresh, a=a_post, b=b_post)\n",
    "\n",
    "    return proba"
   ]
  },
  {
   "cell_type": "code",
   "execution_count": 12,
   "metadata": {},
   "outputs": [
    {
     "data": {
      "text/html": [
       "<div>\n",
       "<style scoped>\n",
       "    .dataframe tbody tr th:only-of-type {\n",
       "        vertical-align: middle;\n",
       "    }\n",
       "\n",
       "    .dataframe tbody tr th {\n",
       "        vertical-align: top;\n",
       "    }\n",
       "\n",
       "    .dataframe thead th {\n",
       "        text-align: right;\n",
       "    }\n",
       "</style>\n",
       "<table border=\"1\" class=\"dataframe\">\n",
       "  <thead>\n",
       "    <tr style=\"text-align: right;\">\n",
       "      <th></th>\n",
       "      <th>0</th>\n",
       "      <th>1</th>\n",
       "      <th>2</th>\n",
       "      <th>3</th>\n",
       "      <th>4</th>\n",
       "      <th>5</th>\n",
       "      <th>6</th>\n",
       "      <th>7</th>\n",
       "      <th>8</th>\n",
       "      <th>9</th>\n",
       "      <th>...</th>\n",
       "      <th>2490</th>\n",
       "      <th>2491</th>\n",
       "      <th>2492</th>\n",
       "      <th>2493</th>\n",
       "      <th>2494</th>\n",
       "      <th>2495</th>\n",
       "      <th>2496</th>\n",
       "      <th>2497</th>\n",
       "      <th>2498</th>\n",
       "      <th>2499</th>\n",
       "    </tr>\n",
       "  </thead>\n",
       "  <tbody>\n",
       "    <tr>\n",
       "      <th>theta0</th>\n",
       "      <td>0.10</td>\n",
       "      <td>0.10</td>\n",
       "      <td>0.10</td>\n",
       "      <td>0.10</td>\n",
       "      <td>0.10</td>\n",
       "      <td>0.10</td>\n",
       "      <td>0.10</td>\n",
       "      <td>0.10</td>\n",
       "      <td>0.10</td>\n",
       "      <td>0.10</td>\n",
       "      <td>...</td>\n",
       "      <td>0.90</td>\n",
       "      <td>0.90</td>\n",
       "      <td>0.90</td>\n",
       "      <td>0.90</td>\n",
       "      <td>0.90</td>\n",
       "      <td>0.90</td>\n",
       "      <td>0.90</td>\n",
       "      <td>0.90</td>\n",
       "      <td>0.90</td>\n",
       "      <td>0.9</td>\n",
       "    </tr>\n",
       "    <tr>\n",
       "      <th>n0</th>\n",
       "      <td>1.00</td>\n",
       "      <td>1.07</td>\n",
       "      <td>1.15</td>\n",
       "      <td>1.24</td>\n",
       "      <td>1.33</td>\n",
       "      <td>1.42</td>\n",
       "      <td>1.53</td>\n",
       "      <td>1.64</td>\n",
       "      <td>1.76</td>\n",
       "      <td>1.89</td>\n",
       "      <td>...</td>\n",
       "      <td>16.93</td>\n",
       "      <td>18.17</td>\n",
       "      <td>19.50</td>\n",
       "      <td>20.93</td>\n",
       "      <td>22.47</td>\n",
       "      <td>24.11</td>\n",
       "      <td>25.88</td>\n",
       "      <td>27.78</td>\n",
       "      <td>29.81</td>\n",
       "      <td>32.0</td>\n",
       "    </tr>\n",
       "    <tr>\n",
       "      <th>a</th>\n",
       "      <td>0.10</td>\n",
       "      <td>0.11</td>\n",
       "      <td>0.12</td>\n",
       "      <td>0.12</td>\n",
       "      <td>0.13</td>\n",
       "      <td>0.14</td>\n",
       "      <td>0.15</td>\n",
       "      <td>0.16</td>\n",
       "      <td>0.18</td>\n",
       "      <td>0.19</td>\n",
       "      <td>...</td>\n",
       "      <td>15.24</td>\n",
       "      <td>16.36</td>\n",
       "      <td>17.55</td>\n",
       "      <td>18.84</td>\n",
       "      <td>20.22</td>\n",
       "      <td>21.70</td>\n",
       "      <td>23.29</td>\n",
       "      <td>25.00</td>\n",
       "      <td>26.83</td>\n",
       "      <td>28.8</td>\n",
       "    </tr>\n",
       "    <tr>\n",
       "      <th>b</th>\n",
       "      <td>0.90</td>\n",
       "      <td>0.97</td>\n",
       "      <td>1.04</td>\n",
       "      <td>1.11</td>\n",
       "      <td>1.19</td>\n",
       "      <td>1.28</td>\n",
       "      <td>1.38</td>\n",
       "      <td>1.48</td>\n",
       "      <td>1.58</td>\n",
       "      <td>1.70</td>\n",
       "      <td>...</td>\n",
       "      <td>1.69</td>\n",
       "      <td>1.82</td>\n",
       "      <td>1.95</td>\n",
       "      <td>2.09</td>\n",
       "      <td>2.25</td>\n",
       "      <td>2.41</td>\n",
       "      <td>2.59</td>\n",
       "      <td>2.78</td>\n",
       "      <td>2.98</td>\n",
       "      <td>3.2</td>\n",
       "    </tr>\n",
       "    <tr>\n",
       "      <th>probability</th>\n",
       "      <td>0.91</td>\n",
       "      <td>0.91</td>\n",
       "      <td>0.90</td>\n",
       "      <td>0.90</td>\n",
       "      <td>0.90</td>\n",
       "      <td>0.90</td>\n",
       "      <td>0.90</td>\n",
       "      <td>0.90</td>\n",
       "      <td>0.90</td>\n",
       "      <td>0.89</td>\n",
       "      <td>...</td>\n",
       "      <td>0.99</td>\n",
       "      <td>1.00</td>\n",
       "      <td>1.00</td>\n",
       "      <td>1.00</td>\n",
       "      <td>1.00</td>\n",
       "      <td>1.00</td>\n",
       "      <td>1.00</td>\n",
       "      <td>1.00</td>\n",
       "      <td>1.00</td>\n",
       "      <td>1.0</td>\n",
       "    </tr>\n",
       "  </tbody>\n",
       "</table>\n",
       "<p>5 rows × 2500 columns</p>\n",
       "</div>"
      ],
      "text/plain": [
       "             0     1     2     3     4     5     6     7     8     9     ...  \\\n",
       "theta0       0.10  0.10  0.10  0.10  0.10  0.10  0.10  0.10  0.10  0.10  ...   \n",
       "n0           1.00  1.07  1.15  1.24  1.33  1.42  1.53  1.64  1.76  1.89  ...   \n",
       "a            0.10  0.11  0.12  0.12  0.13  0.14  0.15  0.16  0.18  0.19  ...   \n",
       "b            0.90  0.97  1.04  1.11  1.19  1.28  1.38  1.48  1.58  1.70  ...   \n",
       "probability  0.91  0.91  0.90  0.90  0.90  0.90  0.90  0.90  0.90  0.89  ...   \n",
       "\n",
       "              2490   2491   2492   2493   2494   2495   2496   2497   2498  \\\n",
       "theta0        0.90   0.90   0.90   0.90   0.90   0.90   0.90   0.90   0.90   \n",
       "n0           16.93  18.17  19.50  20.93  22.47  24.11  25.88  27.78  29.81   \n",
       "a            15.24  16.36  17.55  18.84  20.22  21.70  23.29  25.00  26.83   \n",
       "b             1.69   1.82   1.95   2.09   2.25   2.41   2.59   2.78   2.98   \n",
       "probability   0.99   1.00   1.00   1.00   1.00   1.00   1.00   1.00   1.00   \n",
       "\n",
       "             2499  \n",
       "theta0        0.9  \n",
       "n0           32.0  \n",
       "a            28.8  \n",
       "b             3.2  \n",
       "probability   1.0  \n",
       "\n",
       "[5 rows x 2500 columns]"
      ]
     },
     "metadata": {},
     "output_type": "display_data"
    }
   ],
   "source": [
    "df_3_2[\"probability\"] = df_3_2.apply(\n",
    "    lambda row: probability_3_2(a=row[\"a\"], b=row[\"b\"]),\n",
    "    axis=1,\n",
    ")\n",
    "\n",
    "with pd.option_context(\"display.max_columns\", 20):\n",
    "    display(df_3_2.T.round(2))"
   ]
  },
  {
   "cell_type": "code",
   "execution_count": 13,
   "metadata": {},
   "outputs": [
    {
     "data": {
      "image/png": "[encoded data removed]",
      "text/plain": [
       "<Figure size 640x480 with 2 Axes>"
      ]
     },
     "metadata": {},
     "output_type": "display_data"
    }
   ],
   "source": [
    "contourplot(\n",
    "    df_3_2,\n",
    "    \"n0\",\n",
    "    \"theta0\",\n",
    "    \"probability\",\n",
    ")"
   ]
  },
  {
   "cell_type": "markdown",
   "metadata": {},
   "source": [
    "等高線プロットから、以下のことがわかる。\n",
    "\n",
    "- $\\theta_0$ が大きい(だいたい0.3以上) または $n_0$ が小さい(だいたい15以下) の領域では $Pr(\\theta > 0.5 | \\sum Y_i = 57)$ は大きくなる。\n",
    "- $\\theta_0$ が小さい(だいたい0.3以下) かつ $n_0$ が大きい(だいたい15以上) の領域では $Pr(\\theta > 0.5 | \\sum Y_i = 57)$ は小さくなる。\n",
    "\n",
    "以上から、次のような解釈をする。\n",
    "\n",
    "- 事前の $\\theta_0$ が0.3以上の場合は $\\theta > 0.5$ を信用してよい。\n",
    "- 事前の $\\theta_0$ が0.3より小さい場合\n",
    "    - 事前の信念の強さ $n_0$ が15以下のときは $\\theta > 0.5$ を信用してよい。\n",
    "    - 事前の信念の強さ $n_0$ が15より大きいときは $\\theta > 0.5$ を信用できない。"
   ]
  },
  {
   "cell_type": "markdown",
   "metadata": {},
   "source": [
    "## 3.3 腫瘍数"
   ]
  },
  {
   "cell_type": "code",
   "execution_count": 14,
   "metadata": {},
   "outputs": [],
   "source": [
    "y_A = [12, 9, 12, 14, 13, 13, 15, 8, 15, 6]\n",
    "y_B = [11, 11, 10, 9, 9, 8, 7, 10, 6, 8, 8, 9, 7]"
   ]
  },
  {
   "cell_type": "code",
   "execution_count": 15,
   "metadata": {},
   "outputs": [
    {
     "name": "stdout",
     "output_type": "stream",
     "text": [
      "A系統のデータの要約統計量\n",
      "DescribeResult(nobs=10, minmax=(6, 15), mean=11.7, variance=9.344444444444445, skewness=-0.6848989298454216, kurtosis=-0.784392624713516)\n",
      "\n",
      "B系統のデータの要約統計量\n",
      "DescribeResult(nobs=13, minmax=(6, 11), mean=8.692307692307692, variance=2.3974358974358974, skewness=-0.024886573315266888, kurtosis=-0.9230890217049392)\n"
     ]
    }
   ],
   "source": [
    "print(\"A系統のデータの要約統計量\")\n",
    "print(stats.describe(y_A))\n",
    "print()\n",
    "print(\"B系統のデータの要約統計量\")\n",
    "print(stats.describe(y_B))"
   ]
  },
  {
   "cell_type": "markdown",
   "metadata": {},
   "source": [
    "### a"
   ]
  },
  {
   "cell_type": "code",
   "execution_count": 16,
   "metadata": {},
   "outputs": [],
   "source": [
    "def summarise_poisson_gamma(a, b, y, print_results=False):\n",
    "    # 結果を保存する辞書\n",
    "    results_dict = {}\n",
    "\n",
    "    # 事後分布のパラメータ\n",
    "    a_posterior = a + np.sum(y)\n",
    "    b_posterior = b + len(y)\n",
    "    results_dict[\"a_posterior\"] = a_posterior\n",
    "    results_dict[\"b_posterior\"] = b_posterior\n",
    "\n",
    "    # 事後平均\n",
    "    posterior_mean = a_posterior / b_posterior\n",
    "    results_dict[\"posterior_mean\"] = posterior_mean\n",
    "\n",
    "    # 事後分散\n",
    "    posterior_var = a_posterior / (b_posterior**2)\n",
    "    results_dict[\"posterior_var\"] = posterior_var\n",
    "\n",
    "    # 信用区間\n",
    "    credible_interval = stats.gamma.interval(\n",
    "        confidence=0.95, a=a_posterior, scale=1 / b_posterior\n",
    "    )\n",
    "    results_dict[\"credible_interval\"] = credible_interval\n",
    "\n",
    "    if print_results:\n",
    "        print(\n",
    "            \"Posterior Distributiion:\\n\",\n",
    "            f\"\\tgamma({a_posterior}, {b_posterior})\",\n",
    "            end=\"\\n\",\n",
    "        )\n",
    "        print(\"Posterior Mean:\\n\", f\"\\t {posterior_mean}\", end=\"\\n\")\n",
    "        print(\"Posterior Variance:\\n\", f\"\\t {posterior_var}\", end=\"\\n\")\n",
    "        print(\"95% Credible Interval:\\n\", f\"\\t {credible_interval}\", end=\"\\n\")\n",
    "\n",
    "    return results_dict"
   ]
  },
  {
   "cell_type": "code",
   "execution_count": 17,
   "metadata": {},
   "outputs": [
    {
     "name": "stdout",
     "output_type": "stream",
     "text": [
      "Posterior Distributiion:\n",
      " \tgamma(237, 20)\n",
      "Posterior Mean:\n",
      " \t 11.85\n",
      "Posterior Variance:\n",
      " \t 0.5925\n",
      "95% Credible Interval:\n",
      " \t (10.389238190941795, 13.405448325642006)\n"
     ]
    }
   ],
   "source": [
    "results_A = summarise_poisson_gamma(\n",
    "    a=120,\n",
    "    b=10,\n",
    "    y=y_A,\n",
    "    print_results=True,\n",
    ")"
   ]
  },
  {
   "cell_type": "code",
   "execution_count": 18,
   "metadata": {},
   "outputs": [
    {
     "name": "stdout",
     "output_type": "stream",
     "text": [
      "Posterior Distributiion:\n",
      " \tgamma(125, 14)\n",
      "Posterior Mean:\n",
      " \t 8.928571428571429\n",
      "Posterior Variance:\n",
      " \t 0.6377551020408163\n",
      "95% Credible Interval:\n",
      " \t (7.432064219464302, 10.560308149242363)\n"
     ]
    }
   ],
   "source": [
    "results_B = summarise_poisson_gamma(\n",
    "    a=12,\n",
    "    b=1,\n",
    "    y=y_B,\n",
    "    print_results=True,\n",
    ")"
   ]
  },
  {
   "cell_type": "markdown",
   "metadata": {},
   "source": [
    "### b"
   ]
  },
  {
   "cell_type": "code",
   "execution_count": 19,
   "metadata": {},
   "outputs": [
    {
     "data": {
      "text/html": [
       "<div>\n",
       "<style scoped>\n",
       "    .dataframe tbody tr th:only-of-type {\n",
       "        vertical-align: middle;\n",
       "    }\n",
       "\n",
       "    .dataframe tbody tr th {\n",
       "        vertical-align: top;\n",
       "    }\n",
       "\n",
       "    .dataframe thead th {\n",
       "        text-align: right;\n",
       "    }\n",
       "</style>\n",
       "<table border=\"1\" class=\"dataframe\">\n",
       "  <thead>\n",
       "    <tr style=\"text-align: right;\">\n",
       "      <th></th>\n",
       "      <th>n0</th>\n",
       "      <th>a</th>\n",
       "      <th>b</th>\n",
       "      <th>posterior_mean</th>\n",
       "    </tr>\n",
       "  </thead>\n",
       "  <tbody>\n",
       "    <tr>\n",
       "      <th>0</th>\n",
       "      <td>1</td>\n",
       "      <td>12</td>\n",
       "      <td>1</td>\n",
       "      <td>8.928571</td>\n",
       "    </tr>\n",
       "    <tr>\n",
       "      <th>1</th>\n",
       "      <td>2</td>\n",
       "      <td>24</td>\n",
       "      <td>2</td>\n",
       "      <td>9.133333</td>\n",
       "    </tr>\n",
       "    <tr>\n",
       "      <th>2</th>\n",
       "      <td>3</td>\n",
       "      <td>36</td>\n",
       "      <td>3</td>\n",
       "      <td>9.312500</td>\n",
       "    </tr>\n",
       "    <tr>\n",
       "      <th>3</th>\n",
       "      <td>4</td>\n",
       "      <td>48</td>\n",
       "      <td>4</td>\n",
       "      <td>9.470588</td>\n",
       "    </tr>\n",
       "    <tr>\n",
       "      <th>4</th>\n",
       "      <td>5</td>\n",
       "      <td>60</td>\n",
       "      <td>5</td>\n",
       "      <td>9.611111</td>\n",
       "    </tr>\n",
       "  </tbody>\n",
       "</table>\n",
       "</div>"
      ],
      "text/plain": [
       "   n0   a  b  posterior_mean\n",
       "0   1  12  1        8.928571\n",
       "1   2  24  2        9.133333\n",
       "2   3  36  3        9.312500\n",
       "3   4  48  4        9.470588\n",
       "4   5  60  5        9.611111"
      ]
     },
     "execution_count": 19,
     "metadata": {},
     "output_type": "execute_result"
    }
   ],
   "source": [
    "df_3_3 = pd.DataFrame()\n",
    "\n",
    "df_3_3[\"n0\"] = np.arange(1, 50 + 1)\n",
    "df_3_3[\"a\"] = df_3_3[\"n0\"].mul(12)\n",
    "df_3_3[\"b\"] = df_3_3[\"n0\"]\n",
    "\n",
    "df_3_3[\"posterior_mean\"] = df_3_3.apply(\n",
    "    lambda row: summarise_poisson_gamma(a=row[\"a\"], b=row[\"b\"], y=y_B)[\n",
    "        \"posterior_mean\"\n",
    "    ],\n",
    "    axis=1,\n",
    ")\n",
    "\n",
    "df_3_3.head()"
   ]
  },
  {
   "cell_type": "code",
   "execution_count": 20,
   "metadata": {},
   "outputs": [
    {
     "data": {
      "image/png": "[encoded data removed]",
      "text/plain": [
       "<Figure size 750x500 with 1 Axes>"
      ]
     },
     "metadata": {},
     "output_type": "display_data"
    }
   ],
   "source": [
    "_ = sns.relplot(\n",
    "    df_3_3,\n",
    "    x=\"n0\",\n",
    "    y=\"posterior_mean\",\n",
    "    aspect=1.5,\n",
    ").set(ylim=(None, 12.0))"
   ]
  },
  {
   "cell_type": "markdown",
   "metadata": {},
   "source": [
    "$\\theta_B$ の事後期待値が $\\theta_A$ の事後期待値 (= 11.85) に近い値をとるためには、大きい $n_0$ をとる必要がある。\n",
    "つまり、$\\theta_B = 12$ であるという強い信念が必要となる。"
   ]
  },
  {
   "cell_type": "markdown",
   "metadata": {},
   "source": [
    "### c\n",
    "\n",
    "TBW"
   ]
  },
  {
   "cell_type": "markdown",
   "metadata": {},
   "source": [
    "## 3.4 ベータ事前分布の混合"
   ]
  },
  {
   "cell_type": "code",
   "execution_count": 21,
   "metadata": {},
   "outputs": [],
   "source": [
    "# 36カ月以内に投獄から解放された人数\n",
    "n = 43\n",
    "\n",
    "# 再犯者の人数\n",
    "y = 15"
   ]
  },
  {
   "cell_type": "markdown",
   "metadata": {},
   "source": [
    "### a"
   ]
  },
  {
   "cell_type": "markdown",
   "metadata": {},
   "source": [
    "それぞれの分布は\n",
    "\n",
    "$$\n",
    "\\begin{aligned}\n",
    "p(\\theta) &= dbeta(\\theta, a=2, b=8) \\\\\n",
    "p(y|\\theta) &= dbinom(y, n, \\theta) \\\\\n",
    "p(\\theta| y) &= dbeta(\\theta, a + y, b + n - y) \\\\\n",
    "\\end{aligned}\n",
    "$$\n",
    "である。"
   ]
  },
  {
   "cell_type": "code",
   "execution_count": 22,
   "metadata": {},
   "outputs": [],
   "source": [
    "def construct_df_3_4(a, b, y, n):\n",
    "    df_3_4 = pd.DataFrame()\n",
    "\n",
    "    # 1~0のthetaの値を作成\n",
    "    n_points = 200\n",
    "    df_3_4[\"theta\"] = np.linspace(0, 1, n_points)\n",
    "\n",
    "    # 事前分布\n",
    "    df_3_4[\"prior\"] = stats.beta.pdf(df_3_4[\"theta\"], a=a, b=b)\n",
    "\n",
    "    # 尤度\n",
    "    df_3_4[\"likelihood\"] = stats.binom.pmf(y, n=n, p=df_3_4[\"theta\"])\n",
    "\n",
    "    # 事後分布\n",
    "    df_3_4[\"posterior\"] = stats.beta.pdf(df_3_4[\"theta\"], a=(a + y), b=(b + n - y))\n",
    "\n",
    "    return df_3_4"
   ]
  },
  {
   "cell_type": "code",
   "execution_count": 23,
   "metadata": {},
   "outputs": [],
   "source": [
    "def plot_3_4(df):\n",
    "    mosaic = [\n",
    "        [\"prior\"],\n",
    "        [\"likelihood\"],\n",
    "        [\"posterior\"],\n",
    "    ]\n",
    "    fig, axes = plt.subplot_mosaic(mosaic, figsize=(6, 5))\n",
    "\n",
    "    # 事前分布\n",
    "    axes[\"prior\"].set(title=\"Prior\")\n",
    "    sns.lineplot(\n",
    "        df,\n",
    "        x=\"theta\",\n",
    "        y=\"prior\",\n",
    "        ax=axes[\"prior\"],\n",
    "    )\n",
    "\n",
    "    # 尤度\n",
    "    axes[\"likelihood\"].set(title=\"Likelihood\")\n",
    "    sns.lineplot(\n",
    "        df,\n",
    "        x=\"theta\",\n",
    "        y=\"likelihood\",\n",
    "        ax=axes[\"likelihood\"],\n",
    "    )\n",
    "\n",
    "    # 事後分布\n",
    "    axes[\"posterior\"].set(title=\"Posterior\")\n",
    "    sns.lineplot(\n",
    "        df,\n",
    "        x=\"theta\",\n",
    "        y=\"posterior\",\n",
    "        ax=axes[\"posterior\"],\n",
    "    )\n",
    "\n",
    "    fig.tight_layout()\n",
    "\n",
    "    return fig"
   ]
  },
  {
   "cell_type": "code",
   "execution_count": 24,
   "metadata": {},
   "outputs": [],
   "source": [
    "def summarise_binom_beta(a, b, y, n, print_results=False):\n",
    "    # 結果を保存する辞書\n",
    "    results_dict = {}\n",
    "\n",
    "    # 事後分布のパラメータ\n",
    "    a_posterior = a + y\n",
    "    b_posterior = b + n - y\n",
    "    results_dict[\"a_posterior\"] = a_posterior\n",
    "    results_dict[\"b_posterior\"] = b_posterior\n",
    "\n",
    "    # 事後平均, 事後分散\n",
    "    posterior_mean, posterior_var = stats.beta.stats(\n",
    "        a=a_posterior, b=b_posterior, moments=\"mv\"\n",
    "    )\n",
    "    results_dict[\"posterior_mean\"] = posterior_mean\n",
    "    results_dict[\"posterior_var\"] = posterior_var\n",
    "    results_dict[\"posterior_std\"] = np.sqrt(posterior_var)\n",
    "\n",
    "    # 事後モード\n",
    "    posterior_mode = (a_posterior - 1) / (a_posterior + b_posterior - 2)\n",
    "    results_dict[\"posterior_mode\"] = posterior_mode\n",
    "\n",
    "    # 信用区間\n",
    "    credible_interval = stats.beta.interval(\n",
    "        confidence=0.95, a=a_posterior, b=b_posterior\n",
    "    )\n",
    "    results_dict[\"credible_interval\"] = credible_interval\n",
    "\n",
    "    if print_results:\n",
    "        print(\n",
    "            \"Posterior Distributiion:\\n\",\n",
    "            f\"\\t beta({a_posterior}, {b_posterior})\",\n",
    "            end=\"\\n\",\n",
    "        )\n",
    "        print(\"Posterior Mean:\\n\", f\"\\t {posterior_mean}\", end=\"\\n\")\n",
    "        print(\"Posterior Variance:\\n\", f\"\\t {posterior_var}\", end=\"\\n\")\n",
    "        print(\"Posterior Mode:\\n\", f\"\\t {posterior_mode}\", end=\"\\n\")\n",
    "        print(\"95% Credible Interval:\\n\", f\"\\t {credible_interval}\", end=\"\\n\")\n",
    "\n",
    "    return results_dict"
   ]
  },
  {
   "cell_type": "code",
   "execution_count": 25,
   "metadata": {},
   "outputs": [
    {
     "data": {
      "text/html": [
       "<div>\n",
       "<style scoped>\n",
       "    .dataframe tbody tr th:only-of-type {\n",
       "        vertical-align: middle;\n",
       "    }\n",
       "\n",
       "    .dataframe tbody tr th {\n",
       "        vertical-align: top;\n",
       "    }\n",
       "\n",
       "    .dataframe thead th {\n",
       "        text-align: right;\n",
       "    }\n",
       "</style>\n",
       "<table border=\"1\" class=\"dataframe\">\n",
       "  <thead>\n",
       "    <tr style=\"text-align: right;\">\n",
       "      <th></th>\n",
       "      <th>theta</th>\n",
       "      <th>prior</th>\n",
       "      <th>likelihood</th>\n",
       "      <th>posterior</th>\n",
       "    </tr>\n",
       "  </thead>\n",
       "  <tbody>\n",
       "    <tr>\n",
       "      <th>0</th>\n",
       "      <td>0.000000</td>\n",
       "      <td>0.000000</td>\n",
       "      <td>0.000000e+00</td>\n",
       "      <td>0.000000e+00</td>\n",
       "    </tr>\n",
       "    <tr>\n",
       "      <th>1</th>\n",
       "      <td>0.005025</td>\n",
       "      <td>0.349272</td>\n",
       "      <td>4.329615e-24</td>\n",
       "      <td>5.170957e-23</td>\n",
       "    </tr>\n",
       "    <tr>\n",
       "      <th>2</th>\n",
       "      <td>0.010050</td>\n",
       "      <td>0.674220</td>\n",
       "      <td>1.231199e-19</td>\n",
       "      <td>2.838488e-18</td>\n",
       "    </tr>\n",
       "    <tr>\n",
       "      <th>3</th>\n",
       "      <td>0.015075</td>\n",
       "      <td>0.975937</td>\n",
       "      <td>4.675335e-17</td>\n",
       "      <td>1.560242e-15</td>\n",
       "    </tr>\n",
       "    <tr>\n",
       "      <th>4</th>\n",
       "      <td>0.020101</td>\n",
       "      <td>1.255481</td>\n",
       "      <td>3.031747e-15</td>\n",
       "      <td>1.301549e-13</td>\n",
       "    </tr>\n",
       "  </tbody>\n",
       "</table>\n",
       "</div>"
      ],
      "text/plain": [
       "      theta     prior    likelihood     posterior\n",
       "0  0.000000  0.000000  0.000000e+00  0.000000e+00\n",
       "1  0.005025  0.349272  4.329615e-24  5.170957e-23\n",
       "2  0.010050  0.674220  1.231199e-19  2.838488e-18\n",
       "3  0.015075  0.975937  4.675335e-17  1.560242e-15\n",
       "4  0.020101  1.255481  3.031747e-15  1.301549e-13"
      ]
     },
     "execution_count": 25,
     "metadata": {},
     "output_type": "execute_result"
    }
   ],
   "source": [
    "# 事前分布のパラメータ\n",
    "a, b = 2, 8\n",
    "\n",
    "df_3_4_a = construct_df_3_4(a=a, b=b, y=y, n=n)\n",
    "df_3_4_a.head()"
   ]
  },
  {
   "cell_type": "code",
   "execution_count": 26,
   "metadata": {},
   "outputs": [
    {
     "data": {
      "image/png": "[encoded data removed]",
      "text/plain": [
       "<Figure size 600x500 with 3 Axes>"
      ]
     },
     "metadata": {},
     "output_type": "display_data"
    }
   ],
   "source": [
    "fig = plot_3_4(df_3_4_a)"
   ]
  },
  {
   "cell_type": "code",
   "execution_count": 27,
   "metadata": {},
   "outputs": [
    {
     "name": "stdout",
     "output_type": "stream",
     "text": [
      "Posterior Distributiion:\n",
      " \t beta(17, 36)\n",
      "Posterior Mean:\n",
      " \t 0.32075471698113206\n",
      "Posterior Variance:\n",
      " \t 0.004034650528064555\n",
      "Posterior Mode:\n",
      " \t 0.3137254901960784\n",
      "95% Credible Interval:\n",
      " \t (0.2032977878191033, 0.4510239822166316)\n"
     ]
    }
   ],
   "source": [
    "results_a = summarise_binom_beta(a, b, y, n, print_results=True)"
   ]
  },
  {
   "cell_type": "markdown",
   "metadata": {},
   "source": [
    "### b"
   ]
  },
  {
   "cell_type": "code",
   "execution_count": 28,
   "metadata": {},
   "outputs": [
    {
     "data": {
      "text/html": [
       "<div>\n",
       "<style scoped>\n",
       "    .dataframe tbody tr th:only-of-type {\n",
       "        vertical-align: middle;\n",
       "    }\n",
       "\n",
       "    .dataframe tbody tr th {\n",
       "        vertical-align: top;\n",
       "    }\n",
       "\n",
       "    .dataframe thead th {\n",
       "        text-align: right;\n",
       "    }\n",
       "</style>\n",
       "<table border=\"1\" class=\"dataframe\">\n",
       "  <thead>\n",
       "    <tr style=\"text-align: right;\">\n",
       "      <th></th>\n",
       "      <th>theta</th>\n",
       "      <th>prior</th>\n",
       "      <th>likelihood</th>\n",
       "      <th>posterior</th>\n",
       "    </tr>\n",
       "  </thead>\n",
       "  <tbody>\n",
       "    <tr>\n",
       "      <th>0</th>\n",
       "      <td>0.000000</td>\n",
       "      <td>0.000000e+00</td>\n",
       "      <td>0.000000e+00</td>\n",
       "      <td>0.000000e+00</td>\n",
       "    </tr>\n",
       "    <tr>\n",
       "      <th>1</th>\n",
       "      <td>0.005025</td>\n",
       "      <td>5.796597e-15</td>\n",
       "      <td>4.329615e-24</td>\n",
       "      <td>1.866924e-35</td>\n",
       "    </tr>\n",
       "    <tr>\n",
       "      <th>2</th>\n",
       "      <td>0.010050</td>\n",
       "      <td>7.382171e-13</td>\n",
       "      <td>1.231199e-19</td>\n",
       "      <td>6.761087e-29</td>\n",
       "    </tr>\n",
       "    <tr>\n",
       "      <th>3</th>\n",
       "      <td>0.015075</td>\n",
       "      <td>1.254910e-11</td>\n",
       "      <td>4.675335e-17</td>\n",
       "      <td>4.364452e-25</td>\n",
       "    </tr>\n",
       "    <tr>\n",
       "      <th>4</th>\n",
       "      <td>0.020101</td>\n",
       "      <td>9.353248e-11</td>\n",
       "      <td>3.031747e-15</td>\n",
       "      <td>2.109403e-22</td>\n",
       "    </tr>\n",
       "  </tbody>\n",
       "</table>\n",
       "</div>"
      ],
      "text/plain": [
       "      theta         prior    likelihood     posterior\n",
       "0  0.000000  0.000000e+00  0.000000e+00  0.000000e+00\n",
       "1  0.005025  5.796597e-15  4.329615e-24  1.866924e-35\n",
       "2  0.010050  7.382171e-13  1.231199e-19  6.761087e-29\n",
       "3  0.015075  1.254910e-11  4.675335e-17  4.364452e-25\n",
       "4  0.020101  9.353248e-11  3.031747e-15  2.109403e-22"
      ]
     },
     "execution_count": 28,
     "metadata": {},
     "output_type": "execute_result"
    }
   ],
   "source": [
    "# 事前分布のパラメータ\n",
    "a, b = 8, 2\n",
    "\n",
    "df_3_4_b = construct_df_3_4(a=a, b=b, y=y, n=n)\n",
    "df_3_4_b.head()"
   ]
  },
  {
   "cell_type": "code",
   "execution_count": 29,
   "metadata": {},
   "outputs": [
    {
     "data": {
      "image/png": "[encoded data removed]",
      "text/plain": [
       "<Figure size 600x500 with 3 Axes>"
      ]
     },
     "metadata": {},
     "output_type": "display_data"
    }
   ],
   "source": [
    "fig = plot_3_4(df_3_4_b)"
   ]
  },
  {
   "cell_type": "code",
   "execution_count": 30,
   "metadata": {},
   "outputs": [
    {
     "name": "stdout",
     "output_type": "stream",
     "text": [
      "Posterior Distributiion:\n",
      " \t beta(23, 30)\n",
      "Posterior Mean:\n",
      " \t 0.4339622641509434\n",
      "Posterior Variance:\n",
      " \t 0.0045488706934061155\n",
      "Posterior Mode:\n",
      " \t 0.43137254901960786\n",
      "95% Credible Interval:\n",
      " \t (0.30469562471174694, 0.567952795996458)\n"
     ]
    }
   ],
   "source": [
    "results_b = summarise_binom_beta(a, b, y, n, print_results=True)"
   ]
  },
  {
   "cell_type": "markdown",
   "metadata": {},
   "source": [
    "### c"
   ]
  },
  {
   "cell_type": "code",
   "execution_count": 31,
   "metadata": {},
   "outputs": [
    {
     "data": {
      "text/html": [
       "<div>\n",
       "<style scoped>\n",
       "    .dataframe tbody tr th:only-of-type {\n",
       "        vertical-align: middle;\n",
       "    }\n",
       "\n",
       "    .dataframe tbody tr th {\n",
       "        vertical-align: top;\n",
       "    }\n",
       "\n",
       "    .dataframe thead th {\n",
       "        text-align: right;\n",
       "    }\n",
       "</style>\n",
       "<table border=\"1\" class=\"dataframe\">\n",
       "  <thead>\n",
       "    <tr style=\"text-align: right;\">\n",
       "      <th></th>\n",
       "      <th>theta</th>\n",
       "      <th>prior_a</th>\n",
       "      <th>prior_b</th>\n",
       "      <th>prior_c</th>\n",
       "    </tr>\n",
       "  </thead>\n",
       "  <tbody>\n",
       "    <tr>\n",
       "      <th>0</th>\n",
       "      <td>0.000000</td>\n",
       "      <td>0.000000</td>\n",
       "      <td>0.000000e+00</td>\n",
       "      <td>0.000000</td>\n",
       "    </tr>\n",
       "    <tr>\n",
       "      <th>1</th>\n",
       "      <td>0.005025</td>\n",
       "      <td>0.349272</td>\n",
       "      <td>5.796597e-15</td>\n",
       "      <td>0.261954</td>\n",
       "    </tr>\n",
       "    <tr>\n",
       "      <th>2</th>\n",
       "      <td>0.010050</td>\n",
       "      <td>0.674220</td>\n",
       "      <td>7.382171e-13</td>\n",
       "      <td>0.505665</td>\n",
       "    </tr>\n",
       "    <tr>\n",
       "      <th>3</th>\n",
       "      <td>0.015075</td>\n",
       "      <td>0.975937</td>\n",
       "      <td>1.254910e-11</td>\n",
       "      <td>0.731953</td>\n",
       "    </tr>\n",
       "    <tr>\n",
       "      <th>4</th>\n",
       "      <td>0.020101</td>\n",
       "      <td>1.255481</td>\n",
       "      <td>9.353248e-11</td>\n",
       "      <td>0.941611</td>\n",
       "    </tr>\n",
       "  </tbody>\n",
       "</table>\n",
       "</div>"
      ],
      "text/plain": [
       "      theta   prior_a       prior_b   prior_c\n",
       "0  0.000000  0.000000  0.000000e+00  0.000000\n",
       "1  0.005025  0.349272  5.796597e-15  0.261954\n",
       "2  0.010050  0.674220  7.382171e-13  0.505665\n",
       "3  0.015075  0.975937  1.254910e-11  0.731953\n",
       "4  0.020101  1.255481  9.353248e-11  0.941611"
      ]
     },
     "execution_count": 31,
     "metadata": {},
     "output_type": "execute_result"
    }
   ],
   "source": [
    "df_3_4_c = df_3_4_a[[\"theta\", \"prior\"]].copy()\n",
    "df_3_4_c.rename(columns={\"prior\": \"prior_a\"}, inplace=True)\n",
    "\n",
    "df_3_4_c[\"prior_b\"] = df_3_4_b[\"prior\"]\n",
    "\n",
    "df_3_4_c[\"prior_c\"] = (3 / 4) * df_3_4_a[\"prior\"] + (1 / 4) * df_3_4_b[\"prior\"]\n",
    "\n",
    "df_3_4_c.head()"
   ]
  },
  {
   "cell_type": "code",
   "execution_count": 32,
   "metadata": {},
   "outputs": [
    {
     "data": {
      "image/png": "[encoded data removed]",
      "text/plain": [
       "<Figure size 600x600 with 3 Axes>"
      ]
     },
     "metadata": {},
     "output_type": "display_data"
    }
   ],
   "source": [
    "g = sns.relplot(\n",
    "    df_3_4_c.melt(id_vars=\"theta\"),\n",
    "    x=\"theta\",\n",
    "    y=\"value\",\n",
    "    row=\"variable\",\n",
    "    kind=\"line\",\n",
    "    height=2,\n",
    "    aspect=3,\n",
    ")\n",
    "# タイトルを編集\n",
    "axes = g.axes.ravel()\n",
    "titles = [\n",
    "    \"beta(2, 8)\",\n",
    "    \"beta(8, 2)\",\n",
    "    r\"$\\frac{3}{4}$beta(2, 8) + $\\frac{1}{4}$beta(8, 2)\",\n",
    "]\n",
    "_ = [ax.set(title=title) for ax, title in zip(axes, titles)]"
   ]
  },
  {
   "cell_type": "markdown",
   "metadata": {},
   "source": [
    "cの事前分布は $\\theta \\approx 0.1$ に大きいピークと $\\theta \\approx 0.9$ に小さいピークを持つ。  \n",
    "これは、投獄から解放された人が75%ほどの再犯率の低いグループと25%ほどの再犯率の高いグループから構成されるという事前情報を表している。"
   ]
  },
  {
   "cell_type": "markdown",
   "metadata": {},
   "source": [
    "### d\n",
    "\n",
    "#### i\n",
    "\n",
    "$$\n",
    "\\begin{aligned}\n",
    "p(\\theta) \\times p(y | \\theta)\n",
    "&= \\frac{1}{4} \n",
    "\\frac{\\Gamma(10)}{\\Gamma(2)\\Gamma(8)}\n",
    "[3\\theta(1 - \\theta)^{7} + \\theta^{7}(1 - \\theta)]\n",
    "\\times\n",
    "\\binom{n}{y}\n",
    "\\theta^{y}(1 - \\theta)^{n - y}\n",
    "\\\\\n",
    "&= \n",
    "\\frac{\\Gamma(10)}{\\Gamma(2)\\Gamma(8)}\n",
    "\\binom{n}{y}\n",
    "\\times\n",
    "\\left[\n",
    "\\frac{3}{4} \\theta^{y + 1} (1 - \\theta)^{n - y + 7}\n",
    "+ \\frac{1}{4} \\theta^{y + 7} (1 - \\theta)^{n - y + 1}\n",
    "\\right]\n",
    "\\\\\n",
    "&=\n",
    "\\left[\n",
    "3 \\theta^{y + 1} (1 - \\theta)^{n - y + 7}\n",
    "+ \\theta^{y + 7} (1 - \\theta)^{n - y + 1}\n",
    "\\right] \\times const.\n",
    "\\\\\n",
    "&=\n",
    "\\left[\n",
    "3 \\theta^{16} (1 - \\theta)^{35}\n",
    "+ \\theta^{22} (1 - \\theta)^{29}\n",
    "\\right] \\times const.\n",
    "\\end{aligned}\n",
    "$$\n"
   ]
  },
  {
   "cell_type": "markdown",
   "metadata": {},
   "source": [
    "\n",
    "#### ii\n",
    "\n",
    "事後分布は\n",
    "$ p(\\theta | y) \\propto p(\\theta) \\times p(y | \\theta) $\n",
    "であることと、 $\\int d\\theta ~ p(\\theta | y) = 1$ であることから計算できる。\n",
    "\n",
    "まず、正規化定数を計算する。\n",
    "\n",
    "$$\n",
    "\\begin{aligned}\n",
    "1 &= \\int d\\theta ~ p(\\theta | y) \\\\\n",
    "&= \n",
    "\\int d\\theta ~ \n",
    "\\left[\n",
    "3 \\theta^{16} (1 - \\theta)^{35}\n",
    "+ \\theta^{22} (1 - \\theta)^{29}\n",
    "\\right] \\times const.\n",
    "\\\\\n",
    "&=\n",
    "\\left[\n",
    " 3 B(17, 36) + B(23, 30)\n",
    "\\right] \\times const.\n",
    "\\end{aligned}\n",
    "$$\n",
    "この計算から\n",
    "$$\n",
    "const. = \\frac{1}{3 B(17, 36) + B(23, 30)}\n",
    "$$\n",
    "となる。\n",
    "\n",
    "以上の結果から、事後分布は次のようになる。\n",
    "$$\n",
    "\\begin{aligned}\n",
    "p(\\theta | y) &= \n",
    "\\frac{1}{3 B(17, 36) + B(23, 30)} \n",
    "\\left[\n",
    "3 \\theta^{16} (1 - \\theta)^{35}\n",
    "+ \\theta^{22} (1 - \\theta)^{29}\n",
    "\\right]\n",
    "\\\\\n",
    "&= \n",
    "\\frac{3 B(17, 36)}{3 B(17, 36) + B(23, 30)} \n",
    "\\frac{1}{B(17, 36)}\n",
    "\\theta^{16} (1 - \\theta)^{35}\n",
    "\\\\\n",
    "&\\quad +\n",
    "\\frac{B(23, 30)}{3 B(17, 36) + B(23, 30)} \n",
    "\\frac{1}{B(23, 30)}\n",
    "\\theta^{22} (1 - \\theta)^{29}\n",
    "\\\\\n",
    "&= \n",
    "\\frac{3 B(17, 36)}{3 B(17, 36) + B(23, 30)} \n",
    "\\times\n",
    "dbeta(\\theta, 17, 36)\n",
    "\\\\\n",
    "&\\quad +\n",
    "\\frac{B(23, 30)}{3 B(17, 36) + B(23, 30)} \n",
    "\\times\n",
    "dbeta(\\theta, 23, 30)\n",
    "\\end{aligned}\n",
    "$$\n",
    "\n",
    "\n",
    "#### iii\n"
   ]
  },
  {
   "cell_type": "code",
   "execution_count": 33,
   "metadata": {},
   "outputs": [
    {
     "data": {
      "image/png": "[encoded data removed]",
      "text/plain": [
       "<Figure size 500x500 with 1 Axes>"
      ]
     },
     "metadata": {},
     "output_type": "display_data"
    }
   ],
   "source": [
    "df_3_4_c[\"prior_c_x_likelihood\"] = df_3_4_c[\"prior_c\"] * df_3_4_a[\"likelihood\"]\n",
    "\n",
    "_ = sns.relplot(\n",
    "    df_3_4_c,\n",
    "    x=\"theta\",\n",
    "    y=\"prior_c_x_likelihood\",\n",
    "    kind=\"line\",\n",
    ")"
   ]
  },
  {
   "cell_type": "code",
   "execution_count": 34,
   "metadata": {},
   "outputs": [
    {
     "data": {
      "text/plain": [
       "{'theta': 0.3165829145728643, 'prior_c_x_likelihood': 0.13681439196814513}"
      ]
     },
     "execution_count": 34,
     "metadata": {},
     "output_type": "execute_result"
    }
   ],
   "source": [
    "# 事後モード\n",
    "(ind,) = signal.argrelmax(df_3_4_c[\"prior_c_x_likelihood\"].values)\n",
    "posterior_mode = df_3_4_c.loc[ind, [\"theta\", \"prior_c_x_likelihood\"]].to_dict(\n",
    "    orient=\"records\"\n",
    ")[0]\n",
    "posterior_mode"
   ]
  },
  {
   "cell_type": "code",
   "execution_count": 35,
   "metadata": {},
   "outputs": [],
   "source": [
    "def beta_mode(a, b):\n",
    "    return (a - 1) / (a + b - 2)"
   ]
  },
  {
   "cell_type": "code",
   "execution_count": 36,
   "metadata": {},
   "outputs": [
    {
     "name": "stdout",
     "output_type": "stream",
     "text": [
      "aの結果\n"
     ]
    },
    {
     "data": {
      "text/plain": [
       "{'a_posterior': 17,\n",
       " 'b_posterior': 36,\n",
       " 'posterior_mean': 0.32075471698113206,\n",
       " 'posterior_var': 0.004034650528064555,\n",
       " 'posterior_std': 0.0635188989834093,\n",
       " 'posterior_mode': 0.3137254901960784,\n",
       " 'credible_interval': (0.2032977878191033, 0.4510239822166316)}"
      ]
     },
     "metadata": {},
     "output_type": "display_data"
    },
    {
     "name": "stdout",
     "output_type": "stream",
     "text": [
      "bの結果\n"
     ]
    },
    {
     "data": {
      "text/plain": [
       "{'a_posterior': 23,\n",
       " 'b_posterior': 30,\n",
       " 'posterior_mean': 0.4339622641509434,\n",
       " 'posterior_var': 0.0045488706934061155,\n",
       " 'posterior_std': 0.06744531631926798,\n",
       " 'posterior_mode': 0.43137254901960786,\n",
       " 'credible_interval': (0.30469562471174694, 0.567952795996458)}"
      ]
     },
     "metadata": {},
     "output_type": "display_data"
    }
   ],
   "source": [
    "results_a[\"posterior_mode\"] = beta_mode(\n",
    "    results_a[\"a_posterior\"],\n",
    "    results_a[\"b_posterior\"],\n",
    ")\n",
    "results_b[\"posterior_mode\"] = beta_mode(\n",
    "    results_b[\"a_posterior\"],\n",
    "    results_b[\"b_posterior\"],\n",
    ")\n",
    "print(\"aの結果\")\n",
    "display(results_a)\n",
    "print(\"bの結果\")\n",
    "display(results_b)"
   ]
  },
  {
   "cell_type": "code",
   "execution_count": 37,
   "metadata": {},
   "outputs": [
    {
     "data": {
      "text/markdown": [
       "|    | prior                                               |   posterior_mode |\n",
       "|:---|:----------------------------------------------------|-----------------:|\n",
       "| a  | beta(2, 8)                                          |         0.313725 |\n",
       "| b  | beta(8, 2)                                          |         0.431373 |\n",
       "| c  | $\\frac{3}{4}$ beta(2, 8) + $\\frac{1}{4}$ beta(8, 2) |         0.316583 |"
      ],
      "text/plain": [
       "<IPython.core.display.Markdown object>"
      ]
     },
     "execution_count": 37,
     "metadata": {},
     "output_type": "execute_result"
    }
   ],
   "source": [
    "df_3_4_d = pd.DataFrame(\n",
    "    index=[\"a\", \"b\", \"c\"],\n",
    "    data={\n",
    "        \"prior\": [\n",
    "            \"beta(2, 8)\",\n",
    "            \"beta(8, 2)\",\n",
    "            r\"$\\frac{3}{4}$ beta(2, 8) + $\\frac{1}{4}$ beta(8, 2)\",\n",
    "        ],\n",
    "        \"posterior_mode\": [\n",
    "            results_a[\"posterior_mode\"],\n",
    "            results_b[\"posterior_mode\"],\n",
    "            posterior_mode[\"theta\"],\n",
    "        ],\n",
    "    },\n",
    ")\n",
    "Markdown(df_3_4_d.to_markdown())"
   ]
  },
  {
   "cell_type": "markdown",
   "metadata": {},
   "source": [
    "上記の結果から事後モードは\n",
    "\n",
    "$$\n",
    "a \\lesssim c < b\n",
    "$$"
   ]
  },
  {
   "cell_type": "markdown",
   "metadata": {},
   "source": [
    "### e\n",
    "\n",
    "以下の事前分布を考える\n",
    "\n",
    "$$\n",
    "\\begin{aligned}\n",
    "p(\\theta) \n",
    "&= \\sum _{i=1}^{k} w_{i} \\times dbeta(\\theta, a_{i}, b_{i})\n",
    "\\\\\n",
    "& \\quad where \\quad \n",
    "\\sum _{i=1}^{k} w_{i} = 1\n",
    "\\end{aligned}\n",
    "$$\n",
    "\n",
    "このとき、 d) ii.と同様の計算から事後分布は\n",
    "\n",
    "$$\n",
    "\\begin{aligned}\n",
    "p(\\theta | y) &= \n",
    "\\sum _{i=1}^{k}\n",
    "\\tilde{w}_{i}\n",
    "\\times\n",
    "dbeta(\\theta, a_{i} + y, b_{i} + n - y)\n",
    "\\end{aligned}\n",
    "$$\n",
    "\n",
    "となる。\n",
    "ここで、 $\\tilde{w}_{i}$ は事後分布の重みで、\n",
    "\n",
    "$$\n",
    "\\tilde{w}_{i} = \n",
    "\\frac{w_{i} B(a_{i} + y, b_{i} + n - y) / B(a_{i}, b_{i})}{\\sum_{j=1}^{k} w_{j} B(a_{j} + y, b_{j} + n - y) / B(a_{j}, b_{j})} \n",
    "$$\n",
    "\n",
    "である。 ベータ関数の対称性($B(a, b) = B(b, a)$)から、$a + b$ が一定のとき $\\tilde{w}_{i}$ の $B(a_{i}, b_{i})$ の部分は分母分子でキャンセルする。(d.ii.で計算したパターン)\n",
    "\n",
    "以上の結果から、事前分布で $w_{i} \\times dbeta(a_{i}, b_{i})$ に対応する事後分布の成分は、 $w_{i} B(a_{i} + y, b_{i} + n - y) / B(a_{i} , b_{i})$ に比例する大きさの重みをもつ。\n",
    "これは以下のように解釈することができる。\n",
    "\n",
    "- **解釈1**: 事前分布で重視されている成分は事後分布でも重視される\n",
    "    - 事後分布も事前分布の重み $w_{i}$ に比例するため\n",
    "- **解釈2**: 信念が強い事前分布ほど重視する\n",
    "    - $a_{i} + b_{i}$ が大きいほど $1/B(a_{i}, b_{i})$ が大きくなるため (下記ベータ関数のプロット参照)\n",
    "    - $a_{i} + b_{i}$ が事前のサンプルサイズに対応することに注意\n",
    "- **解釈3**: 極端な値をとる事前分布ほど重視する\n",
    "    - $a_{i} + b_{i}$ が一定のとき、分子の $B(a_{i} + y, b_{i} + n - y)$ で差がつく\n",
    "    - さらに$a + b$ が一定のとき、 $B(a, b)$ は $|a - b|$ が大きいほど(事前平均が極端な値をとるほど)大きくなる(下記ベータ関数のプロット参照)"
   ]
  },
  {
   "cell_type": "markdown",
   "metadata": {},
   "source": [
    "### 参考: ベータ関数のプロット\n",
    "\n",
    "ベータ関数をプロットしてみる"
   ]
  },
  {
   "cell_type": "code",
   "execution_count": 38,
   "metadata": {},
   "outputs": [],
   "source": [
    "def plot_beta_func(a_b_range: tuple):\n",
    "    a_mesh, b_mesh = np.meshgrid(\n",
    "        np.linspace(*a_b_range, 50),\n",
    "        np.linspace(*a_b_range, 50),\n",
    "    )\n",
    "\n",
    "    df_beta_func = pd.DataFrame({\"a\": a_mesh.ravel(), \"b\": b_mesh.ravel()})\n",
    "    df_beta_func[\"beta\"] = special.beta(\n",
    "        df_beta_func[\"a\"].values,\n",
    "        df_beta_func[\"b\"].values,\n",
    "    )\n",
    "\n",
    "    contourplot(df_beta_func, x=\"a\", y=\"b\", z=\"beta\")"
   ]
  },
  {
   "cell_type": "code",
   "execution_count": 39,
   "metadata": {},
   "outputs": [
    {
     "data": {
      "image/png": "[encoded data removed]",
      "text/plain": [
       "<Figure size 640x480 with 2 Axes>"
      ]
     },
     "metadata": {},
     "output_type": "display_data"
    }
   ],
   "source": [
    "plot_beta_func((1, 3))"
   ]
  },
  {
   "cell_type": "code",
   "execution_count": 40,
   "metadata": {},
   "outputs": [
    {
     "data": {
      "image/png": "[encoded data removed]",
      "text/plain": [
       "<Figure size 640x480 with 2 Axes>"
      ]
     },
     "metadata": {},
     "output_type": "display_data"
    }
   ],
   "source": [
    "plot_beta_func((1, 40))"
   ]
  },
  {
   "cell_type": "markdown",
   "metadata": {},
   "source": [
    "## 3.7 事後予測"
   ]
  },
  {
   "cell_type": "markdown",
   "metadata": {},
   "source": [
    "### a"
   ]
  },
  {
   "cell_type": "code",
   "execution_count": 41,
   "metadata": {},
   "outputs": [
    {
     "name": "stdout",
     "output_type": "stream",
     "text": [
      "Posterior Distributiion:\n",
      " \t beta(3, 14)\n",
      "Posterior Mean:\n",
      " \t 0.17647058823529413\n",
      "Posterior Variance:\n",
      " \t 0.008073817762399077\n",
      "Posterior Mode:\n",
      " \t 0.13333333333333333\n",
      "95% Credible Interval:\n",
      " \t (0.0404737339059459, 0.38347623684926346)\n"
     ]
    }
   ],
   "source": [
    "# 先行実験の結果\n",
    "n1 = 15\n",
    "y1 = 2\n",
    "\n",
    "# 事前分布のパラメータ\n",
    "a = 1\n",
    "b = 1\n",
    "\n",
    "# thetaの事後分布\n",
    "results_3_7_a = summarise_binom_beta(a=a, b=b, y=y1, n=n1, print_results=True)"
   ]
  },
  {
   "cell_type": "code",
   "execution_count": 42,
   "metadata": {},
   "outputs": [
    {
     "data": {
      "image/png": "[encoded data removed]",
      "text/plain": [
       "<Figure size 500x500 with 1 Axes>"
      ]
     },
     "metadata": {},
     "output_type": "display_data"
    }
   ],
   "source": [
    "def plot_3_7_a():\n",
    "    theta = np.linspace(0, 1, 100)\n",
    "    df = pd.DataFrame(\n",
    "        {\n",
    "            \"theta\": theta,\n",
    "            \"probability\": stats.beta.pdf(\n",
    "                theta, a=results_3_7_a[\"a_posterior\"], b=results_3_7_a[\"b_posterior\"]\n",
    "            ),\n",
    "        }\n",
    "    )\n",
    "    sns.relplot(\n",
    "        df,\n",
    "        x=\"theta\",\n",
    "        y=\"probability\",\n",
    "        kind=\"line\",\n",
    "    )\n",
    "\n",
    "\n",
    "plot_3_7_a()"
   ]
  },
  {
   "cell_type": "markdown",
   "metadata": {},
   "source": [
    "### b"
   ]
  },
  {
   "cell_type": "code",
   "execution_count": 43,
   "metadata": {},
   "outputs": [],
   "source": [
    "# 特別教育クラスの子供の数\n",
    "n2 = 278"
   ]
  },
  {
   "cell_type": "markdown",
   "metadata": {},
   "source": [
    "#### i."
   ]
  },
  {
   "cell_type": "markdown",
   "metadata": {},
   "source": [
    "条件付き確率 $Pr(Y_2 = y_2 | Y_1 = y_1)$ は一般に\n",
    "\n",
    "$$\n",
    "Pr(Y_2 = y2 | Y_1 = y_1)\n",
    "=\n",
    "\\int^{1}_{0} Pr(Y_{2} = y_{2} |Y_1 = y_1, \\theta ) p(\\theta|Y_1=2) d\\theta\n",
    "$$\n",
    "\n",
    "と書ける。よって、\n",
    "等式\n",
    "\n",
    "$$\n",
    "Pr(Y_2 = y2 | Y_1 = 2)\n",
    "=\n",
    "\\int^{1}_{0} Pr(Y_{2} = y_{2} | \\theta ) p(\\theta|Y_1=2) d\\theta\n",
    "$$\n",
    "\n",
    "が成り立つためには、\n",
    "\n",
    "$$\n",
    "Pr(Y_{2} = y_{2} |Y_1 = y_1, \\theta )\n",
    "=\n",
    "Pr(Y_{2} = y_{2} | \\theta ) \n",
    "\\\\\n",
    "\\Leftrightarrow\n",
    "Pr(Y_{2} = y_{2} ,Y_1 = y_1| \\theta )\n",
    "=\n",
    "Pr(Y_{2} = y_{2} | \\theta )\n",
    "Pr(Y_{1} = y_{1} | \\theta )\n",
    "$$\n",
    "\n",
    "つまり、$\\theta$ で条件付けたときに $Y_1, Y_2$ が条件付き独立であることが必要となる。"
   ]
  },
  {
   "cell_type": "markdown",
   "metadata": {},
   "source": [
    "#### ii. , iii."
   ]
  },
  {
   "cell_type": "markdown",
   "metadata": {},
   "source": [
    "それぞれの分布関するは以下のようになる。\n",
    "\n",
    "$$\n",
    "\\begin{aligned}\n",
    "Pr(Y_2 = y_2 | \\theta) &= dbinom(y_2, n=n_2, p=\\theta) \\\\\n",
    "&= \\binom{n_2}{y_2} \\theta ^{y_2} (1 - \\theta) ^{n_2 - y_2} \\\\\n",
    "p(\\theta | Y_1 = 2) &= dbeta(\\theta, a=y_1 + 1, b=n_1 - y_1 + 1) \\\\\n",
    "&= dbeta(\\theta, a=3, b=14) \\\\\n",
    "&= \\frac{1}{B(3, 14)} \\theta ^{2} (1 - \\theta)^{13}\n",
    "\\end{aligned}\n",
    "$$\n",
    "\n",
    "これより、積分を実行する。\n",
    "\n",
    "$$\n",
    "\\begin{aligned}\n",
    "Pr(Y_2 = y2 | Y_1 = 2)\n",
    "&= \\int^{1}_{0} Pr(Y_{2} = y_{2} | \\theta ) p(\\theta|Y_1=2) d\\theta \\\\\n",
    "&= \\binom{n_2}{y_2} \\frac{1}{B(3, 14)} \\int^{1}_{0} \\theta ^{y_2 + 3 - 1} (1-\\theta)^{n_2 - y_2 + 14 -1} d\\theta \\\\\n",
    "&= \\binom{n_2}{y_2} \\frac{B(y_2 + 3, n_2 - y_2 + 14)}{B(3, 14)}\n",
    "\\end{aligned}\n",
    "$$"
   ]
  },
  {
   "cell_type": "markdown",
   "metadata": {},
   "source": [
    "この計算が合っているかを確認する。"
   ]
  },
  {
   "cell_type": "code",
   "execution_count": 44,
   "metadata": {},
   "outputs": [],
   "source": [
    "def pmf_y2_3_7(y2, n2=278):\n",
    "    return (\n",
    "        special.binom(n2, y2) * special.beta(y2 + 3, n2 - y2 + 14) / special.beta(3, 14)\n",
    "    )"
   ]
  },
  {
   "cell_type": "code",
   "execution_count": 45,
   "metadata": {},
   "outputs": [
    {
     "data": {
      "text/html": [
       "<div>\n",
       "<style scoped>\n",
       "    .dataframe tbody tr th:only-of-type {\n",
       "        vertical-align: middle;\n",
       "    }\n",
       "\n",
       "    .dataframe tbody tr th {\n",
       "        vertical-align: top;\n",
       "    }\n",
       "\n",
       "    .dataframe thead th {\n",
       "        text-align: right;\n",
       "    }\n",
       "</style>\n",
       "<table border=\"1\" class=\"dataframe\">\n",
       "  <thead>\n",
       "    <tr style=\"text-align: right;\">\n",
       "      <th></th>\n",
       "      <th>y2</th>\n",
       "      <th>proba</th>\n",
       "    </tr>\n",
       "  </thead>\n",
       "  <tbody>\n",
       "    <tr>\n",
       "      <th>0</th>\n",
       "      <td>1</td>\n",
       "      <td>3.828376e-04</td>\n",
       "    </tr>\n",
       "    <tr>\n",
       "      <th>1</th>\n",
       "      <td>2</td>\n",
       "      <td>7.313517e-04</td>\n",
       "    </tr>\n",
       "    <tr>\n",
       "      <th>2</th>\n",
       "      <td>3</td>\n",
       "      <td>1.164089e-03</td>\n",
       "    </tr>\n",
       "    <tr>\n",
       "      <th>3</th>\n",
       "      <td>4</td>\n",
       "      <td>1.667315e-03</td>\n",
       "    </tr>\n",
       "    <tr>\n",
       "      <th>4</th>\n",
       "      <td>5</td>\n",
       "      <td>2.228509e-03</td>\n",
       "    </tr>\n",
       "    <tr>\n",
       "      <th>273</th>\n",
       "      <td>274</td>\n",
       "      <td>9.189968e-19</td>\n",
       "    </tr>\n",
       "    <tr>\n",
       "      <th>274</th>\n",
       "      <td>275</td>\n",
       "      <td>2.178071e-19</td>\n",
       "    </tr>\n",
       "    <tr>\n",
       "      <th>275</th>\n",
       "      <td>276</td>\n",
       "      <td>4.113477e-20</td>\n",
       "    </tr>\n",
       "    <tr>\n",
       "      <th>276</th>\n",
       "      <td>277</td>\n",
       "      <td>5.524237e-21</td>\n",
       "    </tr>\n",
       "    <tr>\n",
       "      <th>277</th>\n",
       "      <td>278</td>\n",
       "      <td>3.974271e-22</td>\n",
       "    </tr>\n",
       "  </tbody>\n",
       "</table>\n",
       "</div>"
      ],
      "text/plain": [
       "      y2         proba\n",
       "0      1  3.828376e-04\n",
       "1      2  7.313517e-04\n",
       "2      3  1.164089e-03\n",
       "3      4  1.667315e-03\n",
       "4      5  2.228509e-03\n",
       "273  274  9.189968e-19\n",
       "274  275  2.178071e-19\n",
       "275  276  4.113477e-20\n",
       "276  277  5.524237e-21\n",
       "277  278  3.974271e-22"
      ]
     },
     "metadata": {},
     "output_type": "display_data"
    },
    {
     "data": {
      "text/plain": [
       "proba    0.999866\n",
       "dtype: float64"
      ]
     },
     "execution_count": 45,
     "metadata": {},
     "output_type": "execute_result"
    }
   ],
   "source": [
    "df_3_7_b = pd.DataFrame()\n",
    "df_3_7_b[\"y2\"] = np.arange(1, 278 + 1)\n",
    "df_3_7_b[\"proba\"] = df_3_7_b[\"y2\"].apply(pmf_y2_3_7)\n",
    "\n",
    "display(df_3_7_b.iloc[np.hstack([np.arange(5), np.arange(5) - 5])])\n",
    "\n",
    "# 確率の和がほぼ1になっているか確認\n",
    "df_3_7_b[[\"proba\"]].sum()"
   ]
  },
  {
   "cell_type": "markdown",
   "metadata": {},
   "source": [
    "確率の和がほぼ1になっているのでたぶん大丈夫"
   ]
  },
  {
   "cell_type": "markdown",
   "metadata": {},
   "source": [
    "### c"
   ]
  },
  {
   "cell_type": "markdown",
   "metadata": {},
   "source": [
    "TBW"
   ]
  },
  {
   "cell_type": "markdown",
   "metadata": {},
   "source": [
    "### d"
   ]
  },
  {
   "cell_type": "markdown",
   "metadata": {},
   "source": [
    "TBW"
   ]
  },
  {
   "cell_type": "markdown",
   "metadata": {},
   "source": [
    "## 3.8 コイン"
   ]
  },
  {
   "cell_type": "markdown",
   "metadata": {},
   "source": [
    "TBW"
   ]
  },
  {
   "cell_type": "markdown",
   "metadata": {},
   "source": [
    "## 3.9 Galenshore分布"
   ]
  },
  {
   "cell_type": "markdown",
   "metadata": {},
   "source": [
    "Galenshore($a, \\theta$)\n",
    "\n",
    "$$\n",
    "p(y) \n",
    "= \\frac{2}{\\Gamma(a)}\n",
    "\\theta ^{2a} y^{2a-1} e^{-\\theta^2 y^2}\n",
    "$$"
   ]
  },
  {
   "cell_type": "markdown",
   "metadata": {},
   "source": [
    "### a"
   ]
  },
  {
   "cell_type": "markdown",
   "metadata": {},
   "source": [
    "Galenshore分布の密度関数\n",
    "$p(y)$ は指数型分布族の形 $\\kappa(n_0, t_0) c(\\phi)^{n_0} e^{n_0 t_0 \\phi}$ で書くことができる。\n",
    "\n",
    "$$\n",
    "\\begin{aligned}\n",
    "h(y) &=\\frac{2 y^{2a - 1}}{\\Gamma{a}} \\\\\n",
    "c(\\phi) &= \\theta^{2a} \\\\\n",
    "t(y) &= y^2 \\\\\n",
    "\\phi &= - \\theta^2\n",
    "\\end{aligned}\n",
    "$$\n",
    "\n",
    "本文p.58から、この事前分布は\n",
    "\n",
    "$$\n",
    "\\begin{aligned}\n",
    "p(\\theta | n_0, t_0)\n",
    "&= \\kappa(n_0, t_0) \\theta^{2a n_0} e^{- n_0 t_0 \\theta^2}\n",
    "\\\\\n",
    "&= \\frac{2}{\\Gamma(a n_0 + 1/2)} (n_0 t_0)^{a} \\theta^{2a n_0} e^{- n_0 t_0 \\theta^2}\n",
    "\\end{aligned}\n",
    "$$\n",
    "\n",
    "となることがわかり、これはGalenshore分布 $\\text{Galenshore} (a n_0 + 1/2, \\sqrt{n_0 t_0})$である。"
   ]
  },
  {
   "cell_type": "markdown",
   "metadata": {},
   "source": [
    "いくつかのパラメータでGalenshore分布をプロットしてみる"
   ]
  },
  {
   "cell_type": "code",
   "execution_count": 46,
   "metadata": {},
   "outputs": [],
   "source": [
    "# Galenshore分布の確率密度関数\n",
    "\n",
    "\n",
    "@np.vectorize\n",
    "def pdf_galenshore(y, a, theta):\n",
    "    return (\n",
    "        (2 / special.gamma(a))\n",
    "        * (theta ** (2 * a))\n",
    "        * (y ** (2 * a - 1))\n",
    "        * np.exp(-(theta**2) * (y**2))\n",
    "    )"
   ]
  },
  {
   "cell_type": "code",
   "execution_count": 47,
   "metadata": {},
   "outputs": [
    {
     "data": {
      "text/html": [
       "<div>\n",
       "<style scoped>\n",
       "    .dataframe tbody tr th:only-of-type {\n",
       "        vertical-align: middle;\n",
       "    }\n",
       "\n",
       "    .dataframe tbody tr th {\n",
       "        vertical-align: top;\n",
       "    }\n",
       "\n",
       "    .dataframe thead th {\n",
       "        text-align: right;\n",
       "    }\n",
       "</style>\n",
       "<table border=\"1\" class=\"dataframe\">\n",
       "  <thead>\n",
       "    <tr style=\"text-align: right;\">\n",
       "      <th></th>\n",
       "      <th>theta</th>\n",
       "      <th>a = 1, theta = 1</th>\n",
       "      <th>a = 1, theta = 2</th>\n",
       "      <th>a = 2, theta = 1</th>\n",
       "      <th>a = 2, theta = 2</th>\n",
       "    </tr>\n",
       "  </thead>\n",
       "  <tbody>\n",
       "    <tr>\n",
       "      <th>0</th>\n",
       "      <td>0.000000</td>\n",
       "      <td>0.000000</td>\n",
       "      <td>0.000000</td>\n",
       "      <td>0.000000</td>\n",
       "      <td>0.000000</td>\n",
       "    </tr>\n",
       "    <tr>\n",
       "      <th>1</th>\n",
       "      <td>0.040404</td>\n",
       "      <td>0.080676</td>\n",
       "      <td>0.321129</td>\n",
       "      <td>0.000132</td>\n",
       "      <td>0.002097</td>\n",
       "    </tr>\n",
       "    <tr>\n",
       "      <th>2</th>\n",
       "      <td>0.080808</td>\n",
       "      <td>0.160564</td>\n",
       "      <td>0.629798</td>\n",
       "      <td>0.001048</td>\n",
       "      <td>0.016450</td>\n",
       "    </tr>\n",
       "    <tr>\n",
       "      <th>3</th>\n",
       "      <td>0.121212</td>\n",
       "      <td>0.238888</td>\n",
       "      <td>0.914351</td>\n",
       "      <td>0.003510</td>\n",
       "      <td>0.053736</td>\n",
       "    </tr>\n",
       "    <tr>\n",
       "      <th>4</th>\n",
       "      <td>0.161616</td>\n",
       "      <td>0.314899</td>\n",
       "      <td>1.164662</td>\n",
       "      <td>0.008225</td>\n",
       "      <td>0.121683</td>\n",
       "    </tr>\n",
       "  </tbody>\n",
       "</table>\n",
       "</div>"
      ],
      "text/plain": [
       "      theta  a = 1, theta = 1  ...  a = 2, theta = 1  a = 2, theta = 2\n",
       "0  0.000000          0.000000  ...          0.000000          0.000000\n",
       "1  0.040404          0.080676  ...          0.000132          0.002097\n",
       "2  0.080808          0.160564  ...          0.001048          0.016450\n",
       "3  0.121212          0.238888  ...          0.003510          0.053736\n",
       "4  0.161616          0.314899  ...          0.008225          0.121683\n",
       "\n",
       "[5 rows x 5 columns]"
      ]
     },
     "execution_count": 47,
     "metadata": {},
     "output_type": "execute_result"
    }
   ],
   "source": [
    "params = [\n",
    "    # (a, theta)\n",
    "    (1, 1),\n",
    "    (1, 2),\n",
    "    (2, 1),\n",
    "    (2, 2),\n",
    "]\n",
    "\n",
    "df_3_9 = pd.DataFrame()\n",
    "df_3_9[\"theta\"] = np.linspace(0, 4, 100)\n",
    "for a, theta in params:\n",
    "    df_3_9[f\"a = {a}, theta = {theta}\"] = pdf_galenshore(df_3_9[\"theta\"], a, theta)\n",
    "\n",
    "df_3_9.head()"
   ]
  },
  {
   "cell_type": "code",
   "execution_count": 48,
   "metadata": {},
   "outputs": [
    {
     "data": {
      "image/png": "[encoded data removed]",
      "text/plain": [
       "<Figure size 928.875x500 with 1 Axes>"
      ]
     },
     "metadata": {},
     "output_type": "display_data"
    }
   ],
   "source": [
    "_ = sns.relplot(\n",
    "    df_3_9.set_index(\"theta\"),\n",
    "    kind=\"line\",\n",
    "    dashes=False,\n",
    "    aspect=1.5,\n",
    ")"
   ]
  },
  {
   "cell_type": "markdown",
   "metadata": {},
   "source": [
    "### b"
   ]
  },
  {
   "cell_type": "markdown",
   "metadata": {},
   "source": [
    "本文p.53から、事後分布は $\\text{Galenshore}(a(n_0 + n) + 1/2, \\sqrt{n_0 t_0 + n \\bar{t}})$\n",
    "であり、確率密度関数は\n",
    "\n",
    "$$\n",
    "\\begin{aligned}\n",
    "p(\\theta | y_1, \\cdots, y_n)\n",
    "&= p(\\theta | n_0 + n, (n_0 t_0 + n \\bar{t})/(n_0 + n)) \\\\\n",
    "&= \\frac{2}{\\Gamma(a (n_0 + n) + 1/2)} (n_0 t_0 + n \\bar{t})^{a} \\theta^{2a (n_0 + n)} e^{- (n_0 t_0 + n \\bar{t}) \\theta^2}\n",
    "\\\\ \\\\\n",
    "& \\qquad \\text{where} \\quad \\bar{t} = \\sum _i y^{2} _{i}\n",
    "\\end{aligned}\n",
    "$$\n",
    "\n",
    "となる。"
   ]
  },
  {
   "cell_type": "markdown",
   "metadata": {},
   "source": [
    "### c"
   ]
  },
  {
   "cell_type": "markdown",
   "metadata": {},
   "source": [
    "比を計算する。\n",
    "\n",
    "$$\n",
    "\\begin{aligned}\n",
    "p(\\theta _a | y_1, \\cdots, y_n) / p(\\theta _b | y_1, \\cdots, y_n)\n",
    "&= \\frac{\n",
    "    \\theta^{2a(n_0 + n)}_{a} e^{-(n_0 t_0 + n \\bar{t}) \\theta^{2}_{a}}\n",
    "}{\n",
    "    \\theta^{2a(n_0 + n)}_{b} e^{-(n_0 t_0 + n \\bar{t}) \\theta^{2}_{b}}\n",
    "} \\\\\n",
    "&= \\left( \n",
    "    \\frac{\\theta_{a}}{\\theta_{b}}\n",
    "\\right) ^{2a(n_0 + n)}\n",
    "\\exp\\left\\{{-(n_0 t_0 + n \\bar{t}) (\\theta^{2}_{a}-\\theta^{2}_{b}) }\n",
    "\\right\\}\n",
    "\\end{aligned}\n",
    "$$\n",
    "\n",
    "これは $n\\bar{t} = \\sum_{i} y^{2}_{i}$ の関数であるから、十分統計量は $\\sum_{i} y^{2}_{i}$ である。"
   ]
  },
  {
   "cell_type": "markdown",
   "metadata": {},
   "source": [
    "### d"
   ]
  },
  {
   "cell_type": "markdown",
   "metadata": {},
   "source": [
    "$\\theta$ の事後分布は $\\text{Galenshore}(a(n_0 + n) + 1/2, \\sqrt{n_0 t_0 + n \\bar{t}})$\n",
    "であるから、\n",
    "\n",
    "$$\n",
    "E[\\theta|y_1, \\cdots, y_n]\n",
    "= \\frac{\n",
    "    \\Gamma \\left( a(n_0 + n) + 1\\right)\n",
    "}{\n",
    "    \\Gamma \\left( a(n_0 + n) + 1/2 \\right)\n",
    "    \\sqrt{n_0 t_0 + n \\bar{t}}\n",
    "}\n",
    "$$\n",
    "\n",
    "となる。"
   ]
  },
  {
   "cell_type": "markdown",
   "metadata": {},
   "source": []
  }
 ],
 "metadata": {
  "kernelspec": {
   "display_name": "Python 3",
   "language": "python",
   "name": "python3"
  },
  "language_info": {
   "codemirror_mode": {
    "name": "ipython",
    "version": 3
   },
   "file_extension": ".py",
   "mimetype": "text/x-python",
   "name": "python",
   "nbconvert_exporter": "python",
   "pygments_lexer": "ipython3",
   "version": "3.9.18"
  }
 },
 "nbformat": 4,
 "nbformat_minor": 2
}
